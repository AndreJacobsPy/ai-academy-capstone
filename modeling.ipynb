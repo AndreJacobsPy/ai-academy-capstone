{
 "cells": [
  {
   "metadata": {},
   "cell_type": "markdown",
   "source": "## Modeling Notebook",
   "id": "e384ce57e66cece7"
  },
  {
   "metadata": {},
   "cell_type": "markdown",
   "source": "### Baseline Models",
   "id": "8c5de70afdf3a0"
  },
  {
   "metadata": {
    "ExecuteTime": {
     "end_time": "2024-09-12T21:06:40.684577Z",
     "start_time": "2024-09-12T21:06:39.614557Z"
    }
   },
   "cell_type": "code",
   "source": [
    "# import data\n",
    "import pandas as pd\n",
    "from pandas.core.common import random_state\n",
    "from sqlalchemy.sql.functions import random\n",
    "\n",
    "data = pd.read_csv(\"data/cleaned_data_baseline.csv\")\n",
    "data.info()"
   ],
   "id": "f216325785029c40",
   "outputs": [
    {
     "name": "stdout",
     "output_type": "stream",
     "text": [
      "<class 'pandas.core.frame.DataFrame'>\n",
      "RangeIndex: 4424 entries, 0 to 4423\n",
      "Columns: 166 entries, application_order to father_job_Workers in food processing, woodworking, clothing and other industries and crafts\n",
      "dtypes: float64(10), int64(156)\n",
      "memory usage: 5.6 MB\n"
     ]
    }
   ],
   "execution_count": 1
  },
  {
   "metadata": {},
   "cell_type": "markdown",
   "source": "### Preparing Data",
   "id": "e6691559944fa710"
  },
  {
   "metadata": {
    "ExecuteTime": {
     "end_time": "2024-09-12T21:08:41.579140Z",
     "start_time": "2024-09-12T21:08:41.564034Z"
    }
   },
   "cell_type": "code",
   "source": [
    "X = data.drop(columns=[\"target\"])\n",
    "y = data[\"target\"]\n",
    "\n",
    "X.shape, y.shape"
   ],
   "id": "e3f594637a994db3",
   "outputs": [
    {
     "data": {
      "text/plain": [
       "((4424, 165), (4424,))"
      ]
     },
     "execution_count": 2,
     "metadata": {},
     "output_type": "execute_result"
    }
   ],
   "execution_count": 2
  },
  {
   "metadata": {
    "ExecuteTime": {
     "end_time": "2024-09-12T21:10:45.822167Z",
     "start_time": "2024-09-12T21:10:45.808637Z"
    }
   },
   "cell_type": "code",
   "source": [
    "from sklearn import model_selection\n",
    "\n",
    "X_train, X_test, y_train, y_test = model_selection.train_test_split(X, y, random_state=42, test_size=0.2)\n",
    "X_train.shape, X_test.shape"
   ],
   "id": "819fc137e8744e9",
   "outputs": [
    {
     "data": {
      "text/plain": [
       "((3539, 165), (885, 165))"
      ]
     },
     "execution_count": 4,
     "metadata": {},
     "output_type": "execute_result"
    }
   ],
   "execution_count": 4
  },
  {
   "metadata": {},
   "cell_type": "markdown",
   "source": "### Training Baseline Models",
   "id": "2586183d41525b16"
  },
  {
   "metadata": {},
   "cell_type": "markdown",
   "source": "#### Decision Tree",
   "id": "afde16f90792c57e"
  },
  {
   "metadata": {
    "ExecuteTime": {
     "end_time": "2024-09-12T21:11:15.042965Z",
     "start_time": "2024-09-12T21:11:14.985013Z"
    }
   },
   "cell_type": "code",
   "source": [
    "from sklearn import tree\n",
    "\n",
    "dt = tree.DecisionTreeClassifier(random_state=42)\n",
    "dt.fit(X_train, y_train)\n",
    "dt.score(X_test, y_test)"
   ],
   "id": "fe584c373e1ad2f3",
   "outputs": [
    {
     "data": {
      "text/plain": [
       "0.6870056497175141"
      ]
     },
     "execution_count": 6,
     "metadata": {},
     "output_type": "execute_result"
    }
   ],
   "execution_count": 6
  },
  {
   "metadata": {
    "ExecuteTime": {
     "end_time": "2024-09-12T21:13:52.170719Z",
     "start_time": "2024-09-12T21:13:52.154308Z"
    }
   },
   "cell_type": "code",
   "source": [
    "from sklearn import metrics\n",
    "\n",
    "dt_predictions = dt.predict(X_test)\n",
    "print({\"Enrolled\": 1, \"Dropout\": 0, \"Graduate\": 2})\n",
    "metrics.confusion_matrix(y_test, dt_predictions, normalize=\"true\")"
   ],
   "id": "492f73febb659a9c",
   "outputs": [
    {
     "name": "stdout",
     "output_type": "stream",
     "text": [
      "{'Enrolled': 1, 'Dropout': 0, 'Graduate': 2}\n"
     ]
    },
    {
     "data": {
      "text/plain": [
       "array([[0.69303797, 0.17088608, 0.13607595],\n",
       "       [0.25165563, 0.35761589, 0.39072848],\n",
       "       [0.08133971, 0.11722488, 0.80143541]])"
      ]
     },
     "execution_count": 10,
     "metadata": {},
     "output_type": "execute_result"
    }
   ],
   "execution_count": 10
  },
  {
   "metadata": {},
   "cell_type": "markdown",
   "source": "#### Naive Bayes",
   "id": "4d5b41b2f458dbd7"
  },
  {
   "metadata": {
    "ExecuteTime": {
     "end_time": "2024-09-12T21:20:15.547806Z",
     "start_time": "2024-09-12T21:20:15.517027Z"
    }
   },
   "cell_type": "code",
   "source": [
    "from sklearn import naive_bayes\n",
    "\n",
    "naive_classifier = naive_bayes.GaussianNB()\n",
    "naive_classifier.fit(X_train, y_train)\n",
    "naive_classifier.score(X_test, y_test)"
   ],
   "id": "ae1aa61788038894",
   "outputs": [
    {
     "data": {
      "text/plain": [
       "0.3638418079096045"
      ]
     },
     "execution_count": 12,
     "metadata": {},
     "output_type": "execute_result"
    }
   ],
   "execution_count": 12
  },
  {
   "metadata": {
    "ExecuteTime": {
     "end_time": "2024-09-12T21:21:15.852347Z",
     "start_time": "2024-09-12T21:21:15.835814Z"
    }
   },
   "cell_type": "code",
   "source": [
    "naive_predictions = naive_classifier.predict(X_test)\n",
    "metrics.confusion_matrix(y_test, naive_predictions)"
   ],
   "id": "ddea151ed591f377",
   "outputs": [
    {
     "data": {
      "text/plain": [
       "array([[308,   6,   2],\n",
       "       [139,  10,   2],\n",
       "       [399,  15,   4]], dtype=int64)"
      ]
     },
     "execution_count": 13,
     "metadata": {},
     "output_type": "execute_result"
    }
   ],
   "execution_count": 13
  },
  {
   "metadata": {},
   "cell_type": "markdown",
   "source": "#### XGBoost",
   "id": "579bd409473bfa1b"
  },
  {
   "metadata": {
    "ExecuteTime": {
     "end_time": "2024-09-12T21:23:12.764468Z",
     "start_time": "2024-09-12T21:23:12.208188Z"
    }
   },
   "cell_type": "code",
   "source": [
    "from xgboost import XGBClassifier\n",
    "\n",
    "xgboost_classifier = XGBClassifier(random_state=42)\n",
    "xgboost_classifier.fit(X_train, y_train)\n",
    "xgboost_classifier.score(X_test, y_test)"
   ],
   "id": "1dc50422ba9e82a3",
   "outputs": [
    {
     "data": {
      "text/plain": [
       "0.7638418079096045"
      ]
     },
     "execution_count": 16,
     "metadata": {},
     "output_type": "execute_result"
    }
   ],
   "execution_count": 16
  },
  {
   "metadata": {
    "ExecuteTime": {
     "end_time": "2024-09-12T21:23:56.778160Z",
     "start_time": "2024-09-12T21:23:56.740186Z"
    }
   },
   "cell_type": "code",
   "source": [
    "xg_predictions = xgboost_classifier.predict(X_test)\n",
    "metrics.confusion_matrix(y_test, xg_predictions)"
   ],
   "id": "9b702216d295b5d8",
   "outputs": [
    {
     "data": {
      "text/plain": [
       "array([[232,  39,  45],\n",
       "       [ 35,  59,  57],\n",
       "       [ 12,  21, 385]], dtype=int64)"
      ]
     },
     "execution_count": 17,
     "metadata": {},
     "output_type": "execute_result"
    }
   ],
   "execution_count": 17
  },
  {
   "metadata": {},
   "cell_type": "markdown",
   "source": "### Baseline Models with Binary Classifier",
   "id": "3ad550eec28c3aa6"
  },
  {
   "metadata": {},
   "cell_type": "markdown",
   "source": "The more advanced models tend to error on the side of missing those who actually do dropout.",
   "id": "407831113be9b159"
  },
  {
   "metadata": {
    "ExecuteTime": {
     "end_time": "2024-09-12T21:26:11.512761Z",
     "start_time": "2024-09-12T21:26:11.499339Z"
    }
   },
   "cell_type": "code",
   "source": [
    "y = y.map({2: 0, 1:0, 0:1})\n",
    "y.value_counts()"
   ],
   "id": "108f42135acbab54",
   "outputs": [
    {
     "data": {
      "text/plain": [
       "target\n",
       "0    3003\n",
       "1    1421\n",
       "Name: count, dtype: int64"
      ]
     },
     "execution_count": 18,
     "metadata": {},
     "output_type": "execute_result"
    }
   ],
   "execution_count": 18
  },
  {
   "metadata": {
    "ExecuteTime": {
     "end_time": "2024-09-12T21:26:34.944265Z",
     "start_time": "2024-09-12T21:26:34.932326Z"
    }
   },
   "cell_type": "code",
   "source": [
    "X_train, X_test, y_train, y_test = model_selection.train_test_split(X, y, random_state=42, test_size=0.2)\n",
    "X_train.shape, X_test.shape"
   ],
   "id": "7db5b612f9457431",
   "outputs": [
    {
     "data": {
      "text/plain": [
       "((3539, 165), (885, 165))"
      ]
     },
     "execution_count": 19,
     "metadata": {},
     "output_type": "execute_result"
    }
   ],
   "execution_count": 19
  },
  {
   "metadata": {},
   "cell_type": "markdown",
   "source": "### Decision Tree",
   "id": "b49645627ffa172"
  },
  {
   "metadata": {
    "ExecuteTime": {
     "end_time": "2024-09-12T21:27:50.791787Z",
     "start_time": "2024-09-12T21:27:50.743416Z"
    }
   },
   "cell_type": "code",
   "source": [
    "dt_binary = tree.DecisionTreeClassifier(random_state=42)\n",
    "dt_binary.fit(X_train, y_train)\n",
    "dt_binary.score(X_test, y_test)"
   ],
   "id": "5a20a6872a53c668",
   "outputs": [
    {
     "data": {
      "text/plain": [
       "0.7954802259887006"
      ]
     },
     "execution_count": 20,
     "metadata": {},
     "output_type": "execute_result"
    }
   ],
   "execution_count": 20
  },
  {
   "metadata": {
    "ExecuteTime": {
     "end_time": "2024-09-12T21:28:39.677506Z",
     "start_time": "2024-09-12T21:28:39.664986Z"
    }
   },
   "cell_type": "code",
   "source": [
    "dt_binary_predictions = dt_binary.predict(X_test)\n",
    "metrics.confusion_matrix(y_test, dt_binary_predictions)"
   ],
   "id": "5a7018e66ab62bb1",
   "outputs": [
    {
     "data": {
      "text/plain": [
       "array([[482,  87],\n",
       "       [ 94, 222]], dtype=int64)"
      ]
     },
     "execution_count": 21,
     "metadata": {},
     "output_type": "execute_result"
    }
   ],
   "execution_count": 21
  },
  {
   "metadata": {},
   "cell_type": "markdown",
   "source": "### XGBoost",
   "id": "d8a167a719ccaab3"
  },
  {
   "metadata": {
    "ExecuteTime": {
     "end_time": "2024-09-12T21:29:59.529678Z",
     "start_time": "2024-09-12T21:29:59.295654Z"
    }
   },
   "cell_type": "code",
   "source": [
    "xgboost_binary = XGBClassifier(random_state=42)\n",
    "xgboost_binary.fit(X_train, y_train)\n",
    "xgboost_binary.score(X_test, y_test)"
   ],
   "id": "fa121ef00cda5c2b",
   "outputs": [
    {
     "data": {
      "text/plain": [
       "0.8508474576271187"
      ]
     },
     "execution_count": 22,
     "metadata": {},
     "output_type": "execute_result"
    }
   ],
   "execution_count": 22
  },
  {
   "metadata": {
    "ExecuteTime": {
     "end_time": "2024-09-12T21:30:34.863498Z",
     "start_time": "2024-09-12T21:30:34.826282Z"
    }
   },
   "cell_type": "code",
   "source": [
    "xgboost_binary_predictions = xgboost_binary.predict(X_test)\n",
    "metrics.confusion_matrix(y_test, xgboost_binary_predictions)"
   ],
   "id": "d1ac72877932b253",
   "outputs": [
    {
     "data": {
      "text/plain": [
       "array([[527,  42],\n",
       "       [ 90, 226]], dtype=int64)"
      ]
     },
     "execution_count": 23,
     "metadata": {},
     "output_type": "execute_result"
    }
   ],
   "execution_count": 23
  },
  {
   "metadata": {},
   "cell_type": "markdown",
   "source": "### Random Forest",
   "id": "d66b9f63f44d84ba"
  },
  {
   "metadata": {
    "ExecuteTime": {
     "end_time": "2024-09-12T21:31:50.805781Z",
     "start_time": "2024-09-12T21:31:50.316857Z"
    }
   },
   "cell_type": "code",
   "source": [
    "from sklearn import ensemble\n",
    "\n",
    "rf_binary = ensemble.RandomForestClassifier(random_state=42)\n",
    "rf_binary.fit(X_train, y_train)\n",
    "rf_binary.score(X_test, y_test)"
   ],
   "id": "b374c9fea62fad8d",
   "outputs": [
    {
     "data": {
      "text/plain": [
       "0.8531073446327684"
      ]
     },
     "execution_count": 24,
     "metadata": {},
     "output_type": "execute_result"
    }
   ],
   "execution_count": 24
  },
  {
   "metadata": {
    "ExecuteTime": {
     "end_time": "2024-09-12T21:32:56.107015Z",
     "start_time": "2024-09-12T21:32:56.085200Z"
    }
   },
   "cell_type": "code",
   "source": [
    "rf_predictions = rf_binary.predict(X_test)\n",
    "metrics.confusion_matrix(y_test, rf_predictions)"
   ],
   "id": "8e56a89b6d36c39d",
   "outputs": [
    {
     "data": {
      "text/plain": [
       "array([[538,  31],\n",
       "       [ 99, 217]], dtype=int64)"
      ]
     },
     "execution_count": 25,
     "metadata": {},
     "output_type": "execute_result"
    }
   ],
   "execution_count": 25
  },
  {
   "metadata": {
    "ExecuteTime": {
     "end_time": "2024-09-12T21:40:14.388993Z",
     "start_time": "2024-09-12T21:40:14.381068Z"
    }
   },
   "cell_type": "code",
   "source": "metrics.recall_score(y_test, rf_predictions)",
   "id": "b308a4dae177c2c1",
   "outputs": [
    {
     "data": {
      "text/plain": [
       "0.6867088607594937"
      ]
     },
     "execution_count": 26,
     "metadata": {},
     "output_type": "execute_result"
    }
   ],
   "execution_count": 26
  },
  {
   "metadata": {},
   "cell_type": "code",
   "outputs": [],
   "execution_count": null,
   "source": "",
   "id": "52136e5d860c2b9a"
  }
 ],
 "metadata": {
  "kernelspec": {
   "display_name": "Python 3 (ipykernel)",
   "language": "python",
   "name": "python3"
  },
  "language_info": {
   "codemirror_mode": {
    "name": "ipython",
    "version": 3
   },
   "file_extension": ".py",
   "mimetype": "text/x-python",
   "name": "python",
   "nbconvert_exporter": "python",
   "pygments_lexer": "ipython3",
   "version": "3.12.4"
  }
 },
 "nbformat": 4,
 "nbformat_minor": 5
}
