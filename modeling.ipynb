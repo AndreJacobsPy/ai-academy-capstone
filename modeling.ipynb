{
 "cells": [
  {
   "metadata": {},
   "cell_type": "markdown",
   "source": "## Modeling Notebook",
   "id": "e384ce57e66cece7"
  },
  {
   "metadata": {},
   "cell_type": "markdown",
   "source": "### Baseline Models",
   "id": "8c5de70afdf3a0"
  },
  {
   "metadata": {
    "ExecuteTime": {
     "end_time": "2024-09-16T18:55:58.138007Z",
     "start_time": "2024-09-16T18:55:58.094499Z"
    }
   },
   "cell_type": "code",
   "source": [
    "# import data\n",
    "import pandas as pd\n",
    "\n",
    "data = pd.read_csv(\"data/cleaned_data_baseline.csv\")\n",
    "data.info()"
   ],
   "id": "f216325785029c40",
   "outputs": [
    {
     "name": "stdout",
     "output_type": "stream",
     "text": [
      "<class 'pandas.core.frame.DataFrame'>\n",
      "RangeIndex: 4424 entries, 0 to 4423\n",
      "Columns: 166 entries, application_order to father_job_Workers in food processing, woodworking, clothing and other industries and crafts\n",
      "dtypes: float64(10), int64(156)\n",
      "memory usage: 5.6 MB\n"
     ]
    }
   ],
   "execution_count": 5
  },
  {
   "metadata": {},
   "cell_type": "markdown",
   "source": "### Preparing Data",
   "id": "e6691559944fa710"
  },
  {
   "metadata": {
    "ExecuteTime": {
     "end_time": "2024-09-16T18:55:58.185311Z",
     "start_time": "2024-09-16T18:55:58.173893Z"
    }
   },
   "cell_type": "code",
   "source": [
    "X = data.drop(columns=[\"target\"])\n",
    "y = data[\"target\"]\n",
    "\n",
    "X.shape, y.shape"
   ],
   "id": "e3f594637a994db3",
   "outputs": [
    {
     "data": {
      "text/plain": [
       "((4424, 165), (4424,))"
      ]
     },
     "execution_count": 6,
     "metadata": {},
     "output_type": "execute_result"
    }
   ],
   "execution_count": 6
  },
  {
   "metadata": {
    "ExecuteTime": {
     "end_time": "2024-09-16T18:55:59.605202Z",
     "start_time": "2024-09-16T18:55:58.213676Z"
    }
   },
   "cell_type": "code",
   "source": [
    "from sklearn import model_selection\n",
    "\n",
    "X_train, X_test, y_train, y_test = model_selection.train_test_split(X, y, random_state=42, test_size=0.2)\n",
    "X_train.shape, X_test.shape"
   ],
   "id": "819fc137e8744e9",
   "outputs": [
    {
     "data": {
      "text/plain": [
       "((3539, 165), (885, 165))"
      ]
     },
     "execution_count": 7,
     "metadata": {},
     "output_type": "execute_result"
    }
   ],
   "execution_count": 7
  },
  {
   "metadata": {},
   "cell_type": "markdown",
   "source": "## Training Baseline Models",
   "id": "2586183d41525b16"
  },
  {
   "metadata": {},
   "cell_type": "markdown",
   "source": "#### Decision Tree",
   "id": "afde16f90792c57e"
  },
  {
   "metadata": {
    "ExecuteTime": {
     "end_time": "2024-09-16T18:55:59.882929Z",
     "start_time": "2024-09-16T18:55:59.653396Z"
    }
   },
   "cell_type": "code",
   "source": [
    "from sklearn import tree\n",
    "\n",
    "dt = tree.DecisionTreeClassifier(random_state=42)\n",
    "dt.fit(X_train, y_train)\n",
    "dt.score(X_test, y_test)"
   ],
   "id": "fe584c373e1ad2f3",
   "outputs": [
    {
     "data": {
      "text/plain": [
       "0.6870056497175141"
      ]
     },
     "execution_count": 8,
     "metadata": {},
     "output_type": "execute_result"
    }
   ],
   "execution_count": 8
  },
  {
   "metadata": {
    "ExecuteTime": {
     "end_time": "2024-09-16T18:55:59.939914Z",
     "start_time": "2024-09-16T18:55:59.929423Z"
    }
   },
   "cell_type": "code",
   "source": [
    "from sklearn import metrics\n",
    "\n",
    "dt_predictions = dt.predict(X_test)\n",
    "print({\"Enrolled\": 1, \"Dropout\": 0, \"Graduate\": 2})\n",
    "metrics.confusion_matrix(y_test, dt_predictions, normalize=\"true\")"
   ],
   "id": "492f73febb659a9c",
   "outputs": [
    {
     "name": "stdout",
     "output_type": "stream",
     "text": [
      "{'Enrolled': 1, 'Dropout': 0, 'Graduate': 2}\n"
     ]
    },
    {
     "data": {
      "text/plain": [
       "array([[0.69303797, 0.17088608, 0.13607595],\n",
       "       [0.25165563, 0.35761589, 0.39072848],\n",
       "       [0.08133971, 0.11722488, 0.80143541]])"
      ]
     },
     "execution_count": 9,
     "metadata": {},
     "output_type": "execute_result"
    }
   ],
   "execution_count": 9
  },
  {
   "metadata": {},
   "cell_type": "markdown",
   "source": "#### Naive Bayes",
   "id": "4d5b41b2f458dbd7"
  },
  {
   "metadata": {
    "ExecuteTime": {
     "end_time": "2024-09-16T18:56:00.105960Z",
     "start_time": "2024-09-16T18:56:00.073918Z"
    }
   },
   "cell_type": "code",
   "source": [
    "from sklearn import naive_bayes\n",
    "\n",
    "naive_classifier = naive_bayes.GaussianNB()\n",
    "naive_classifier.fit(X_train, y_train)\n",
    "naive_classifier.score(X_test, y_test)"
   ],
   "id": "ae1aa61788038894",
   "outputs": [
    {
     "data": {
      "text/plain": [
       "0.3638418079096045"
      ]
     },
     "execution_count": 10,
     "metadata": {},
     "output_type": "execute_result"
    }
   ],
   "execution_count": 10
  },
  {
   "metadata": {
    "ExecuteTime": {
     "end_time": "2024-09-16T18:56:00.207412Z",
     "start_time": "2024-09-16T18:56:00.195655Z"
    }
   },
   "cell_type": "code",
   "source": [
    "naive_predictions = naive_classifier.predict(X_test)\n",
    "metrics.confusion_matrix(y_test, naive_predictions)"
   ],
   "id": "ddea151ed591f377",
   "outputs": [
    {
     "data": {
      "text/plain": [
       "array([[308,   6,   2],\n",
       "       [139,  10,   2],\n",
       "       [399,  15,   4]], dtype=int64)"
      ]
     },
     "execution_count": 11,
     "metadata": {},
     "output_type": "execute_result"
    }
   ],
   "execution_count": 11
  },
  {
   "metadata": {},
   "cell_type": "markdown",
   "source": "#### XGBoost",
   "id": "579bd409473bfa1b"
  },
  {
   "metadata": {
    "ExecuteTime": {
     "end_time": "2024-09-16T18:56:00.933986Z",
     "start_time": "2024-09-16T18:56:00.337005Z"
    }
   },
   "cell_type": "code",
   "source": [
    "from xgboost import XGBClassifier\n",
    "\n",
    "xgboost_classifier = XGBClassifier(random_state=42)\n",
    "xgboost_classifier.fit(X_train, y_train)\n",
    "xgboost_classifier.score(X_test, y_test)"
   ],
   "id": "1dc50422ba9e82a3",
   "outputs": [
    {
     "data": {
      "text/plain": [
       "0.7638418079096045"
      ]
     },
     "execution_count": 12,
     "metadata": {},
     "output_type": "execute_result"
    }
   ],
   "execution_count": 12
  },
  {
   "metadata": {
    "ExecuteTime": {
     "end_time": "2024-09-16T18:56:01.014122Z",
     "start_time": "2024-09-16T18:56:00.963290Z"
    }
   },
   "cell_type": "code",
   "source": [
    "xg_predictions = xgboost_classifier.predict(X_test)\n",
    "metrics.confusion_matrix(y_test, xg_predictions)"
   ],
   "id": "9b702216d295b5d8",
   "outputs": [
    {
     "data": {
      "text/plain": [
       "array([[232,  39,  45],\n",
       "       [ 35,  59,  57],\n",
       "       [ 12,  21, 385]], dtype=int64)"
      ]
     },
     "execution_count": 13,
     "metadata": {},
     "output_type": "execute_result"
    }
   ],
   "execution_count": 13
  },
  {
   "metadata": {},
   "cell_type": "markdown",
   "source": "## Baseline Models with Binary Classifier",
   "id": "3ad550eec28c3aa6"
  },
  {
   "metadata": {},
   "cell_type": "markdown",
   "source": "The more advanced models tend to error on the side of missing those who actually do dropout.",
   "id": "407831113be9b159"
  },
  {
   "metadata": {
    "ExecuteTime": {
     "end_time": "2024-09-16T18:56:01.066257Z",
     "start_time": "2024-09-16T18:56:01.056831Z"
    }
   },
   "cell_type": "code",
   "source": [
    "y = y.map({2: 0, 1:0, 0:1})\n",
    "y.value_counts()"
   ],
   "id": "108f42135acbab54",
   "outputs": [
    {
     "data": {
      "text/plain": [
       "target\n",
       "0    3003\n",
       "1    1421\n",
       "Name: count, dtype: int64"
      ]
     },
     "execution_count": 14,
     "metadata": {},
     "output_type": "execute_result"
    }
   ],
   "execution_count": 14
  },
  {
   "metadata": {
    "ExecuteTime": {
     "end_time": "2024-09-16T18:56:01.174343Z",
     "start_time": "2024-09-16T18:56:01.165086Z"
    }
   },
   "cell_type": "code",
   "source": [
    "X_train, X_test, y_train, y_test = model_selection.train_test_split(X, y, random_state=42, test_size=0.2)\n",
    "X_train.shape, X_test.shape"
   ],
   "id": "7db5b612f9457431",
   "outputs": [
    {
     "data": {
      "text/plain": [
       "((3539, 165), (885, 165))"
      ]
     },
     "execution_count": 15,
     "metadata": {},
     "output_type": "execute_result"
    }
   ],
   "execution_count": 15
  },
  {
   "metadata": {},
   "cell_type": "markdown",
   "source": "### Decision Tree",
   "id": "b49645627ffa172"
  },
  {
   "metadata": {
    "ExecuteTime": {
     "end_time": "2024-09-16T18:56:01.369456Z",
     "start_time": "2024-09-16T18:56:01.324049Z"
    }
   },
   "cell_type": "code",
   "source": [
    "dt_binary = tree.DecisionTreeClassifier(random_state=42)\n",
    "dt_binary.fit(X_train, y_train)\n",
    "dt_binary.score(X_test, y_test)"
   ],
   "id": "5a20a6872a53c668",
   "outputs": [
    {
     "data": {
      "text/plain": [
       "0.7954802259887006"
      ]
     },
     "execution_count": 16,
     "metadata": {},
     "output_type": "execute_result"
    }
   ],
   "execution_count": 16
  },
  {
   "metadata": {
    "ExecuteTime": {
     "end_time": "2024-09-16T18:56:01.443011Z",
     "start_time": "2024-09-16T18:56:01.434496Z"
    }
   },
   "cell_type": "code",
   "source": [
    "dt_binary_predictions = dt_binary.predict(X_test)\n",
    "metrics.confusion_matrix(y_test, dt_binary_predictions)"
   ],
   "id": "5a7018e66ab62bb1",
   "outputs": [
    {
     "data": {
      "text/plain": [
       "array([[482,  87],\n",
       "       [ 94, 222]], dtype=int64)"
      ]
     },
     "execution_count": 17,
     "metadata": {},
     "output_type": "execute_result"
    }
   ],
   "execution_count": 17
  },
  {
   "metadata": {
    "ExecuteTime": {
     "end_time": "2024-09-16T18:56:01.521574Z",
     "start_time": "2024-09-16T18:56:01.510894Z"
    }
   },
   "cell_type": "code",
   "source": "print(metrics.classification_report(y_test, dt_binary_predictions))",
   "id": "538734b3df938602",
   "outputs": [
    {
     "name": "stdout",
     "output_type": "stream",
     "text": [
      "              precision    recall  f1-score   support\n",
      "\n",
      "           0       0.84      0.85      0.84       569\n",
      "           1       0.72      0.70      0.71       316\n",
      "\n",
      "    accuracy                           0.80       885\n",
      "   macro avg       0.78      0.77      0.78       885\n",
      "weighted avg       0.79      0.80      0.79       885\n",
      "\n"
     ]
    }
   ],
   "execution_count": 18
  },
  {
   "metadata": {},
   "cell_type": "markdown",
   "source": "### XGBoost",
   "id": "d8a167a719ccaab3"
  },
  {
   "metadata": {
    "ExecuteTime": {
     "end_time": "2024-09-16T18:56:01.888906Z",
     "start_time": "2024-09-16T18:56:01.620885Z"
    }
   },
   "cell_type": "code",
   "source": [
    "xgboost_binary = XGBClassifier(random_state=42)\n",
    "xgboost_binary.fit(X_train, y_train)\n",
    "xgboost_binary.score(X_test, y_test)"
   ],
   "id": "fa121ef00cda5c2b",
   "outputs": [
    {
     "data": {
      "text/plain": [
       "0.8508474576271187"
      ]
     },
     "execution_count": 19,
     "metadata": {},
     "output_type": "execute_result"
    }
   ],
   "execution_count": 19
  },
  {
   "metadata": {
    "ExecuteTime": {
     "end_time": "2024-09-16T18:56:01.967725Z",
     "start_time": "2024-09-16T18:56:01.920863Z"
    }
   },
   "cell_type": "code",
   "source": [
    "xgboost_binary_predictions = xgboost_binary.predict(X_test)\n",
    "metrics.confusion_matrix(y_test, xgboost_binary_predictions)"
   ],
   "id": "d1ac72877932b253",
   "outputs": [
    {
     "data": {
      "text/plain": [
       "array([[527,  42],\n",
       "       [ 90, 226]], dtype=int64)"
      ]
     },
     "execution_count": 20,
     "metadata": {},
     "output_type": "execute_result"
    }
   ],
   "execution_count": 20
  },
  {
   "metadata": {
    "ExecuteTime": {
     "end_time": "2024-09-16T18:56:45.452153Z",
     "start_time": "2024-09-16T18:56:45.440060Z"
    }
   },
   "cell_type": "code",
   "source": "print(metrics.classification_report(y_test, xgboost_binary_predictions))",
   "id": "e059c4d38228571b",
   "outputs": [
    {
     "name": "stdout",
     "output_type": "stream",
     "text": [
      "              precision    recall  f1-score   support\n",
      "\n",
      "           0       0.85      0.93      0.89       569\n",
      "           1       0.84      0.72      0.77       316\n",
      "\n",
      "    accuracy                           0.85       885\n",
      "   macro avg       0.85      0.82      0.83       885\n",
      "weighted avg       0.85      0.85      0.85       885\n",
      "\n"
     ]
    }
   ],
   "execution_count": 24
  },
  {
   "metadata": {},
   "cell_type": "markdown",
   "source": "### Random Forest",
   "id": "d66b9f63f44d84ba"
  },
  {
   "metadata": {
    "ExecuteTime": {
     "end_time": "2024-09-16T18:56:02.654634Z",
     "start_time": "2024-09-16T18:56:02.039846Z"
    }
   },
   "cell_type": "code",
   "source": [
    "from sklearn import ensemble\n",
    "\n",
    "rf_binary = ensemble.RandomForestClassifier(random_state=42)\n",
    "rf_binary.fit(X_train, y_train)\n",
    "rf_binary.score(X_test, y_test)"
   ],
   "id": "b374c9fea62fad8d",
   "outputs": [
    {
     "data": {
      "text/plain": [
       "0.8531073446327684"
      ]
     },
     "execution_count": 21,
     "metadata": {},
     "output_type": "execute_result"
    }
   ],
   "execution_count": 21
  },
  {
   "metadata": {
    "ExecuteTime": {
     "end_time": "2024-09-16T18:56:02.707502Z",
     "start_time": "2024-09-16T18:56:02.683645Z"
    }
   },
   "cell_type": "code",
   "source": [
    "rf_predictions = rf_binary.predict(X_test)\n",
    "metrics.confusion_matrix(y_test, rf_predictions)"
   ],
   "id": "8e56a89b6d36c39d",
   "outputs": [
    {
     "data": {
      "text/plain": [
       "array([[538,  31],\n",
       "       [ 99, 217]], dtype=int64)"
      ]
     },
     "execution_count": 22,
     "metadata": {},
     "output_type": "execute_result"
    }
   ],
   "execution_count": 22
  },
  {
   "metadata": {
    "ExecuteTime": {
     "end_time": "2024-09-16T18:57:17.168194Z",
     "start_time": "2024-09-16T18:57:17.157082Z"
    }
   },
   "cell_type": "code",
   "source": "print(metrics.classification_report(y_test, rf_predictions))",
   "id": "b308a4dae177c2c1",
   "outputs": [
    {
     "name": "stdout",
     "output_type": "stream",
     "text": [
      "              precision    recall  f1-score   support\n",
      "\n",
      "           0       0.84      0.95      0.89       569\n",
      "           1       0.88      0.69      0.77       316\n",
      "\n",
      "    accuracy                           0.85       885\n",
      "   macro avg       0.86      0.82      0.83       885\n",
      "weighted avg       0.86      0.85      0.85       885\n",
      "\n"
     ]
    }
   ],
   "execution_count": 25
  },
  {
   "metadata": {},
   "cell_type": "markdown",
   "source": "### ROC Curves",
   "id": "c4d44c84cdbee230"
  },
  {
   "metadata": {
    "ExecuteTime": {
     "end_time": "2024-09-16T19:13:24.443429Z",
     "start_time": "2024-09-16T19:13:24.439557Z"
    }
   },
   "cell_type": "code",
   "source": [
    "import matplotlib.pyplot as plt\n",
    "import numpy as np\n",
    "plt.style.use([i for i in plt.style.available if \"seaborn\" in i][0])"
   ],
   "id": "10cf67446c99c4a4",
   "outputs": [],
   "execution_count": 38
  },
  {
   "metadata": {
    "ExecuteTime": {
     "end_time": "2024-09-16T19:15:00.798715Z",
     "start_time": "2024-09-16T19:15:00.584Z"
    }
   },
   "cell_type": "code",
   "source": [
    "fig, ax = plt.subplots()\n",
    "\n",
    "for name, model in [(\"tree\", dt_binary), (\"xgboost\", xgboost_binary), (\"forest\", rf_binary)]:\n",
    "    # get data for curve\n",
    "    probabilities = model.predict_proba(X_test)[:, 1]\n",
    "    fpr, tpr, _ = metrics.roc_curve(y_test, probabilities)\n",
    "    \n",
    "    # plot curve\n",
    "    ax.plot(fpr, tpr, label=name)\n",
    "    \n",
    "# some labels\n",
    "ax.plot(np.linspace(0, 1), np.linspace(0, 1), label=\"random guessing\")\n",
    "ax.set_title(\"ROC Curves for Binary Classification\")\n",
    "ax.set_xlabel(\"False Positive Rate\")\n",
    "ax.set_ylabel(\"True Positive Rate\")\n",
    "ax.legend()\n",
    "plt.tight_layout()"
   ],
   "id": "eb8a704fe0a8a488",
   "outputs": [
    {
     "data": {
      "text/plain": [
       "<Figure size 800x550 with 1 Axes>"
      ],
      "image/png": "[encoded data removed]"
     },
     "metadata": {},
     "output_type": "display_data"
    }
   ],
   "execution_count": 42
  },
  {
   "metadata": {},
   "cell_type": "code",
   "outputs": [],
   "execution_count": null,
   "source": "",
   "id": "697a62453e963e3a"
  }
 ],
 "metadata": {
  "kernelspec": {
   "display_name": "Python 3 (ipykernel)",
   "language": "python",
   "name": "python3"
  },
  "language_info": {
   "codemirror_mode": {
    "name": "ipython",
    "version": 3
   },
   "file_extension": ".py",
   "mimetype": "text/x-python",
   "name": "python",
   "nbconvert_exporter": "python",
   "pygments_lexer": "ipython3",
   "version": "3.12.4"
  }
 },
 "nbformat": 4,
 "nbformat_minor": 5
}
