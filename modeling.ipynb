{
 "cells": [
  {
   "metadata": {},
   "cell_type": "markdown",
   "source": "# Modeling Notebook",
   "id": "e384ce57e66cece7"
  },
  {
   "metadata": {},
   "cell_type": "markdown",
   "source": "## Baseline Models",
   "id": "8c5de70afdf3a0"
  },
  {
   "metadata": {
    "ExecuteTime": {
     "end_time": "2024-09-18T17:36:48.422059Z",
     "start_time": "2024-09-18T17:36:48.357623Z"
    }
   },
   "cell_type": "code",
   "source": [
    "# import data\n",
    "import pandas as pd\n",
    "\n",
    "data = pd.read_csv(\"data/cleaned_data_baseline.csv\")\n",
    "data.info()"
   ],
   "id": "f216325785029c40",
   "outputs": [
    {
     "name": "stdout",
     "output_type": "stream",
     "text": [
      "<class 'pandas.core.frame.DataFrame'>\n",
      "RangeIndex: 4424 entries, 0 to 4423\n",
      "Columns: 165 entries, application_order to father_job_Workers in food processing, woodworking, clothing and other industries and crafts\n",
      "dtypes: float64(10), int64(155)\n",
      "memory usage: 5.6 MB\n"
     ]
    }
   ],
   "execution_count": 328
  },
  {
   "metadata": {},
   "cell_type": "markdown",
   "source": "### Preparing Data",
   "id": "e6691559944fa710"
  },
  {
   "metadata": {
    "ExecuteTime": {
     "end_time": "2024-09-18T17:36:48.502817Z",
     "start_time": "2024-09-18T17:36:48.480870Z"
    }
   },
   "cell_type": "code",
   "source": [
    "X = data.drop(columns=[\"target\"])\n",
    "y = data[\"target\"]\n",
    "\n",
    "X.shape, y.shape"
   ],
   "id": "e3f594637a994db3",
   "outputs": [
    {
     "data": {
      "text/plain": [
       "((4424, 164), (4424,))"
      ]
     },
     "execution_count": 329,
     "metadata": {},
     "output_type": "execute_result"
    }
   ],
   "execution_count": 329
  },
  {
   "metadata": {
    "ExecuteTime": {
     "end_time": "2024-09-18T17:36:48.561578Z",
     "start_time": "2024-09-18T17:36:48.548784Z"
    }
   },
   "cell_type": "code",
   "source": [
    "from sklearn.model_selection import train_test_split\n",
    "\n",
    "X_train, X_test, y_train, y_test = train_test_split(X, y, random_state=42, test_size=0.2)\n",
    "X_train.shape, X_test.shape"
   ],
   "id": "819fc137e8744e9",
   "outputs": [
    {
     "data": {
      "text/plain": [
       "((3539, 164), (885, 164))"
      ]
     },
     "execution_count": 330,
     "metadata": {},
     "output_type": "execute_result"
    }
   ],
   "execution_count": 330
  },
  {
   "metadata": {},
   "cell_type": "markdown",
   "source": "## Training Baseline Models",
   "id": "2586183d41525b16"
  },
  {
   "metadata": {},
   "cell_type": "markdown",
   "source": "#### Decision Tree",
   "id": "afde16f90792c57e"
  },
  {
   "metadata": {
    "ExecuteTime": {
     "end_time": "2024-09-18T17:36:48.713925Z",
     "start_time": "2024-09-18T17:36:48.658023Z"
    }
   },
   "cell_type": "code",
   "source": [
    "from sklearn.tree import DecisionTreeClassifier\n",
    "\n",
    "dt = DecisionTreeClassifier(random_state=42)\n",
    "dt.fit(X_train, y_train)\n",
    "dt.score(X_test, y_test)"
   ],
   "id": "fe584c373e1ad2f3",
   "outputs": [
    {
     "data": {
      "text/plain": [
       "0.6757062146892655"
      ]
     },
     "execution_count": 331,
     "metadata": {},
     "output_type": "execute_result"
    }
   ],
   "execution_count": 331
  },
  {
   "metadata": {
    "ExecuteTime": {
     "end_time": "2024-09-18T17:36:48.781238Z",
     "start_time": "2024-09-18T17:36:48.763908Z"
    }
   },
   "cell_type": "code",
   "source": [
    "from sklearn.metrics import confusion_matrix, classification_report, roc_curve\n",
    "\n",
    "dt_predictions = dt.predict(X_test)\n",
    "print({\"Enrolled\": 1, \"Dropout\": 0, \"Graduate\": 2})\n",
    "confusion_matrix(y_test, dt_predictions, normalize=\"true\")"
   ],
   "id": "492f73febb659a9c",
   "outputs": [
    {
     "name": "stdout",
     "output_type": "stream",
     "text": [
      "{'Enrolled': 1, 'Dropout': 0, 'Graduate': 2}\n"
     ]
    },
    {
     "data": {
      "text/plain": [
       "array([[0.63291139, 0.21518987, 0.15189873],\n",
       "       [0.26490066, 0.36423841, 0.37086093],\n",
       "       [0.08373206, 0.09569378, 0.82057416]])"
      ]
     },
     "execution_count": 332,
     "metadata": {},
     "output_type": "execute_result"
    }
   ],
   "execution_count": 332
  },
  {
   "metadata": {},
   "cell_type": "markdown",
   "source": "#### Naive Bayes",
   "id": "4d5b41b2f458dbd7"
  },
  {
   "metadata": {
    "ExecuteTime": {
     "end_time": "2024-09-18T17:36:48.937541Z",
     "start_time": "2024-09-18T17:36:48.908229Z"
    }
   },
   "cell_type": "code",
   "source": [
    "from sklearn.naive_bayes import GaussianNB\n",
    "\n",
    "naive_classifier = GaussianNB()\n",
    "naive_classifier.fit(X_train, y_train)\n",
    "naive_classifier.score(X_test, y_test)"
   ],
   "id": "ae1aa61788038894",
   "outputs": [
    {
     "data": {
      "text/plain": [
       "0.3649717514124294"
      ]
     },
     "execution_count": 333,
     "metadata": {},
     "output_type": "execute_result"
    }
   ],
   "execution_count": 333
  },
  {
   "metadata": {
    "ExecuteTime": {
     "end_time": "2024-09-18T17:36:49.056339Z",
     "start_time": "2024-09-18T17:36:49.043891Z"
    }
   },
   "cell_type": "code",
   "source": [
    "naive_predictions = naive_classifier.predict(X_test)\n",
    "confusion_matrix(y_test, naive_predictions)"
   ],
   "id": "ddea151ed591f377",
   "outputs": [
    {
     "data": {
      "text/plain": [
       "array([[309,   6,   1],\n",
       "       [139,  10,   2],\n",
       "       [399,  15,   4]], dtype=int64)"
      ]
     },
     "execution_count": 334,
     "metadata": {},
     "output_type": "execute_result"
    }
   ],
   "execution_count": 334
  },
  {
   "metadata": {},
   "cell_type": "markdown",
   "source": "#### XGBoost",
   "id": "579bd409473bfa1b"
  },
  {
   "metadata": {
    "ExecuteTime": {
     "end_time": "2024-09-18T17:36:49.973029Z",
     "start_time": "2024-09-18T17:36:49.203448Z"
    }
   },
   "cell_type": "code",
   "source": [
    "from xgboost import XGBClassifier\n",
    "\n",
    "xgboost_classifier = XGBClassifier(random_state=42)\n",
    "xgboost_classifier.fit(X_train, y_train)\n",
    "xgboost_classifier.score(X_test, y_test)"
   ],
   "id": "1dc50422ba9e82a3",
   "outputs": [
    {
     "data": {
      "text/plain": [
       "0.7638418079096045"
      ]
     },
     "execution_count": 335,
     "metadata": {},
     "output_type": "execute_result"
    }
   ],
   "execution_count": 335
  },
  {
   "metadata": {
    "ExecuteTime": {
     "end_time": "2024-09-18T17:36:50.064241Z",
     "start_time": "2024-09-18T17:36:50.009572Z"
    }
   },
   "cell_type": "code",
   "source": [
    "xg_predictions = xgboost_classifier.predict(X_test)\n",
    "confusion_matrix(y_test, xg_predictions)"
   ],
   "id": "9b702216d295b5d8",
   "outputs": [
    {
     "data": {
      "text/plain": [
       "array([[235,  40,  41],\n",
       "       [ 39,  55,  57],\n",
       "       [ 12,  20, 386]], dtype=int64)"
      ]
     },
     "execution_count": 336,
     "metadata": {},
     "output_type": "execute_result"
    }
   ],
   "execution_count": 336
  },
  {
   "metadata": {},
   "cell_type": "markdown",
   "source": "## Baseline Models with Binary Classifier",
   "id": "3ad550eec28c3aa6"
  },
  {
   "metadata": {},
   "cell_type": "markdown",
   "source": [
    "The more advanced models tend to error on the side of missing those who actually do dropout.\n",
    "\n",
    "Our first attempts at fitting a binary classifier all were overfit. To reduce this we can make our trees smaller or use less features in each bootstrapped model for the Random Forest"
   ],
   "id": "407831113be9b159"
  },
  {
   "metadata": {
    "ExecuteTime": {
     "end_time": "2024-09-18T17:36:50.131699Z",
     "start_time": "2024-09-18T17:36:50.122594Z"
    }
   },
   "cell_type": "code",
   "source": [
    "y = y.map({2: 0, 1: 0, 0: 1})\n",
    "y.value_counts()"
   ],
   "id": "108f42135acbab54",
   "outputs": [
    {
     "data": {
      "text/plain": [
       "target\n",
       "0    3003\n",
       "1    1421\n",
       "Name: count, dtype: int64"
      ]
     },
     "execution_count": 337,
     "metadata": {},
     "output_type": "execute_result"
    }
   ],
   "execution_count": 337
  },
  {
   "metadata": {
    "ExecuteTime": {
     "end_time": "2024-09-18T17:36:50.318035Z",
     "start_time": "2024-09-18T17:36:50.294296Z"
    }
   },
   "cell_type": "code",
   "source": [
    "X_train, X_test, y_train, y_test = train_test_split(X, y, random_state=42, test_size=0.2)\n",
    "X_train.shape, X_test.shape"
   ],
   "id": "7db5b612f9457431",
   "outputs": [
    {
     "data": {
      "text/plain": [
       "((3539, 164), (885, 164))"
      ]
     },
     "execution_count": 338,
     "metadata": {},
     "output_type": "execute_result"
    }
   ],
   "execution_count": 338
  },
  {
   "metadata": {},
   "cell_type": "markdown",
   "source": "### Decision Tree",
   "id": "b49645627ffa172"
  },
  {
   "metadata": {
    "ExecuteTime": {
     "end_time": "2024-09-18T17:36:50.575195Z",
     "start_time": "2024-09-18T17:36:50.520492Z"
    }
   },
   "cell_type": "code",
   "source": [
    "dt_binary = DecisionTreeClassifier(random_state=42)\n",
    "dt_binary.fit(X_train, y_train)\n",
    "dt_binary.score(X_test, y_test)"
   ],
   "id": "5a20a6872a53c668",
   "outputs": [
    {
     "data": {
      "text/plain": [
       "0.7909604519774012"
      ]
     },
     "execution_count": 339,
     "metadata": {},
     "output_type": "execute_result"
    }
   ],
   "execution_count": 339
  },
  {
   "metadata": {
    "ExecuteTime": {
     "end_time": "2024-09-18T17:36:50.770568Z",
     "start_time": "2024-09-18T17:36:50.755035Z"
    }
   },
   "cell_type": "code",
   "source": [
    "dt_binary_predictions = dt_binary.predict(X_test)\n",
    "print(dt_binary.score(X_train, y_train))\n",
    "confusion_matrix(y_test, dt_binary_predictions)"
   ],
   "id": "5a7018e66ab62bb1",
   "outputs": [
    {
     "name": "stdout",
     "output_type": "stream",
     "text": [
      "1.0\n"
     ]
    },
    {
     "data": {
      "text/plain": [
       "array([[483,  86],\n",
       "       [ 99, 217]], dtype=int64)"
      ]
     },
     "execution_count": 340,
     "metadata": {},
     "output_type": "execute_result"
    }
   ],
   "execution_count": 340
  },
  {
   "metadata": {
    "ExecuteTime": {
     "end_time": "2024-09-18T17:36:50.908783Z",
     "start_time": "2024-09-18T17:36:50.898476Z"
    }
   },
   "cell_type": "code",
   "source": "print(classification_report(y_test, dt_binary_predictions))",
   "id": "538734b3df938602",
   "outputs": [
    {
     "name": "stdout",
     "output_type": "stream",
     "text": [
      "              precision    recall  f1-score   support\n",
      "\n",
      "           0       0.83      0.85      0.84       569\n",
      "           1       0.72      0.69      0.70       316\n",
      "\n",
      "    accuracy                           0.79       885\n",
      "   macro avg       0.77      0.77      0.77       885\n",
      "weighted avg       0.79      0.79      0.79       885\n",
      "\n"
     ]
    }
   ],
   "execution_count": 341
  },
  {
   "metadata": {},
   "cell_type": "markdown",
   "source": "### XGBoost",
   "id": "d8a167a719ccaab3"
  },
  {
   "metadata": {
    "ExecuteTime": {
     "end_time": "2024-09-18T17:36:51.368606Z",
     "start_time": "2024-09-18T17:36:51.070037Z"
    }
   },
   "cell_type": "code",
   "source": [
    "xgboost_binary = XGBClassifier(random_state=42)\n",
    "xgboost_binary.fit(X_train, y_train)\n",
    "xgboost_binary.score(X_test, y_test)"
   ],
   "id": "fa121ef00cda5c2b",
   "outputs": [
    {
     "data": {
      "text/plain": [
       "0.8497175141242937"
      ]
     },
     "execution_count": 342,
     "metadata": {},
     "output_type": "execute_result"
    }
   ],
   "execution_count": 342
  },
  {
   "metadata": {
    "ExecuteTime": {
     "end_time": "2024-09-18T17:36:51.499935Z",
     "start_time": "2024-09-18T17:36:51.407237Z"
    }
   },
   "cell_type": "code",
   "source": [
    "xgboost_binary_predictions = xgboost_binary.predict(X_test)\n",
    "print(xgboost_binary.score(X_train, y_train))\n",
    "confusion_matrix(y_test, xgboost_binary_predictions)"
   ],
   "id": "d1ac72877932b253",
   "outputs": [
    {
     "name": "stdout",
     "output_type": "stream",
     "text": [
      "0.9980220401243289\n"
     ]
    },
    {
     "data": {
      "text/plain": [
       "array([[526,  43],\n",
       "       [ 90, 226]], dtype=int64)"
      ]
     },
     "execution_count": 343,
     "metadata": {},
     "output_type": "execute_result"
    }
   ],
   "execution_count": 343
  },
  {
   "metadata": {
    "ExecuteTime": {
     "end_time": "2024-09-18T17:36:51.608130Z",
     "start_time": "2024-09-18T17:36:51.596497Z"
    }
   },
   "cell_type": "code",
   "source": "print(classification_report(y_test, xgboost_binary_predictions))",
   "id": "e059c4d38228571b",
   "outputs": [
    {
     "name": "stdout",
     "output_type": "stream",
     "text": [
      "              precision    recall  f1-score   support\n",
      "\n",
      "           0       0.85      0.92      0.89       569\n",
      "           1       0.84      0.72      0.77       316\n",
      "\n",
      "    accuracy                           0.85       885\n",
      "   macro avg       0.85      0.82      0.83       885\n",
      "weighted avg       0.85      0.85      0.85       885\n",
      "\n"
     ]
    }
   ],
   "execution_count": 344
  },
  {
   "metadata": {},
   "cell_type": "markdown",
   "source": "### Random Forest",
   "id": "d66b9f63f44d84ba"
  },
  {
   "metadata": {
    "ExecuteTime": {
     "end_time": "2024-09-18T17:36:52.460052Z",
     "start_time": "2024-09-18T17:36:51.805870Z"
    }
   },
   "cell_type": "code",
   "source": [
    "from sklearn.ensemble import RandomForestClassifier\n",
    "\n",
    "rf_binary = RandomForestClassifier(random_state=42)\n",
    "rf_binary.fit(X_train, y_train)\n",
    "rf_binary.score(X_test, y_test)"
   ],
   "id": "b374c9fea62fad8d",
   "outputs": [
    {
     "data": {
      "text/plain": [
       "0.8542372881355932"
      ]
     },
     "execution_count": 345,
     "metadata": {},
     "output_type": "execute_result"
    }
   ],
   "execution_count": 345
  },
  {
   "metadata": {
    "ExecuteTime": {
     "end_time": "2024-09-18T17:36:52.548788Z",
     "start_time": "2024-09-18T17:36:52.473160Z"
    }
   },
   "cell_type": "code",
   "source": [
    "rf_predictions = rf_binary.predict(X_test)\n",
    "print(rf_binary.score(X_train, y_train))\n",
    "confusion_matrix(y_test, rf_predictions)"
   ],
   "id": "8e56a89b6d36c39d",
   "outputs": [
    {
     "name": "stdout",
     "output_type": "stream",
     "text": [
      "1.0\n"
     ]
    },
    {
     "data": {
      "text/plain": [
       "array([[538,  31],\n",
       "       [ 98, 218]], dtype=int64)"
      ]
     },
     "execution_count": 346,
     "metadata": {},
     "output_type": "execute_result"
    }
   ],
   "execution_count": 346
  },
  {
   "metadata": {
    "ExecuteTime": {
     "end_time": "2024-09-18T17:36:52.634157Z",
     "start_time": "2024-09-18T17:36:52.615234Z"
    }
   },
   "cell_type": "code",
   "source": "print(classification_report(y_test, rf_predictions))",
   "id": "b308a4dae177c2c1",
   "outputs": [
    {
     "name": "stdout",
     "output_type": "stream",
     "text": [
      "              precision    recall  f1-score   support\n",
      "\n",
      "           0       0.85      0.95      0.89       569\n",
      "           1       0.88      0.69      0.77       316\n",
      "\n",
      "    accuracy                           0.85       885\n",
      "   macro avg       0.86      0.82      0.83       885\n",
      "weighted avg       0.86      0.85      0.85       885\n",
      "\n"
     ]
    }
   ],
   "execution_count": 347
  },
  {
   "metadata": {},
   "cell_type": "markdown",
   "source": "### Support Vector Machine",
   "id": "99d53ed3e7060aac"
  },
  {
   "metadata": {
    "ExecuteTime": {
     "end_time": "2024-09-18T17:36:55.557941Z",
     "start_time": "2024-09-18T17:36:52.714096Z"
    }
   },
   "cell_type": "code",
   "source": [
    "from sklearn.svm import SVC\n",
    "\n",
    "svc = SVC(C=0.3, random_state=42, probability=True)\n",
    "svc.fit(X_train, y_train)\n",
    "print(svc.score(X_train, y_train))\n",
    "print(classification_report(y_test, svc.predict(X_test)))"
   ],
   "id": "6491293a9a64ffd5",
   "outputs": [
    {
     "name": "stdout",
     "output_type": "stream",
     "text": [
      "0.8185928228313083\n",
      "              precision    recall  f1-score   support\n",
      "\n",
      "           0       0.77      0.96      0.85       569\n",
      "           1       0.86      0.48      0.62       316\n",
      "\n",
      "    accuracy                           0.79       885\n",
      "   macro avg       0.82      0.72      0.73       885\n",
      "weighted avg       0.80      0.79      0.77       885\n",
      "\n"
     ]
    }
   ],
   "execution_count": 348
  },
  {
   "metadata": {},
   "cell_type": "markdown",
   "source": "### ROC Curves",
   "id": "c4d44c84cdbee230"
  },
  {
   "metadata": {
    "ExecuteTime": {
     "end_time": "2024-09-18T17:36:55.586229Z",
     "start_time": "2024-09-18T17:36:55.566500Z"
    }
   },
   "cell_type": "code",
   "source": [
    "import matplotlib.pyplot as plt\n",
    "import numpy as np\n",
    "\n",
    "plt.style.use([i for i in plt.style.available if \"seaborn\" in i][0])"
   ],
   "id": "10cf67446c99c4a4",
   "outputs": [],
   "execution_count": 349
  },
  {
   "metadata": {
    "ExecuteTime": {
     "end_time": "2024-09-18T17:36:56.141626Z",
     "start_time": "2024-09-18T17:36:55.672570Z"
    }
   },
   "cell_type": "code",
   "source": [
    "fig, ax = plt.subplots()\n",
    "\n",
    "for name, model in [(\"tree\", dt_binary), (\"xgboost\", xgboost_binary), (\"forest\", rf_binary), (\"svc\", svc)]:\n",
    "    # get data for curve\n",
    "    probabilities = model.predict_proba(X_test)[:, 1]\n",
    "    fpr, tpr, _ = roc_curve(y_test, probabilities)\n",
    "\n",
    "    # plot curve\n",
    "    ax.plot(fpr, tpr, label=name)\n",
    "\n",
    "# some labels\n",
    "ax.plot(np.linspace(0, 1), np.linspace(0, 1), label=\"random guessing\")\n",
    "ax.set_title(\"ROC Curves for Binary Classification\")\n",
    "ax.set_xlabel(\"False Positive Rate\")\n",
    "ax.set_ylabel(\"True Positive Rate\")\n",
    "ax.legend()\n",
    "plt.tight_layout()"
   ],
   "id": "eb8a704fe0a8a488",
   "outputs": [
    {
     "data": {
      "text/plain": [
       "<Figure size 800x550 with 1 Axes>"
      ],
      "image/png": "[encoded data removed]"
     },
     "metadata": {},
     "output_type": "display_data"
    }
   ],
   "execution_count": 350
  },
  {
   "metadata": {},
   "cell_type": "markdown",
   "source": [
    "## Fighting Overfitting\n",
    "\n",
    "With the Random Forest model, there are some easy to tune parameters to avoid overly deep trees"
   ],
   "id": "eedaa83c2b34c127"
  },
  {
   "metadata": {},
   "cell_type": "markdown",
   "source": [
    "### Attempted Grid Search\n",
    "\n",
    "This was not successful because the parameters I tried were worse than defaults."
   ],
   "id": "83fc63228c665c4"
  },
  {
   "metadata": {
    "ExecuteTime": {
     "end_time": "2024-09-18T17:36:56.197686Z",
     "start_time": "2024-09-18T17:36:56.192233Z"
    }
   },
   "cell_type": "code",
   "source": "from sklearn.model_selection import GridSearchCV",
   "id": "95dbddeeaafbb74d",
   "outputs": [],
   "execution_count": 351
  },
  {
   "metadata": {
    "ExecuteTime": {
     "end_time": "2024-09-18T17:36:56.251488Z",
     "start_time": "2024-09-18T17:36:56.246321Z"
    }
   },
   "cell_type": "code",
   "source": [
    "forest = RandomForestClassifier(random_state=42, n_jobs=-1)\n",
    "param_grid = {\n",
    "    \"max_depth\": [5, 10, 15, 30, 60],\n",
    "    \"ccp_alpha\": [0.0, 0.1, 0.3, 0.6],\n",
    "    \"min_samples_split\": [5, 15, 30]\n",
    "}\n",
    "tuned_forest = GridSearchCV(forest, param_grid)"
   ],
   "id": "283aa62096aa8d67",
   "outputs": [],
   "execution_count": 352
  },
  {
   "metadata": {
    "ExecuteTime": {
     "end_time": "2024-09-18T17:37:53.933570Z",
     "start_time": "2024-09-18T17:36:56.303337Z"
    }
   },
   "cell_type": "code",
   "source": "tuned_forest.fit(X_train, y_train)",
   "id": "e7b2bce6c1190f6f",
   "outputs": [
    {
     "data": {
      "text/plain": [
       "GridSearchCV(estimator=RandomForestClassifier(n_jobs=-1, random_state=42),\n",
       "             param_grid={'ccp_alpha': [0.0, 0.1, 0.3, 0.6],\n",
       "                         'max_depth': [5, 10, 15, 30, 60],\n",
       "                         'min_samples_split': [5, 15, 30]})"
      ],
      "text/html": [
       "<style>#sk-container-id-18 {\n",
       "  /* Definition of color scheme common for light and dark mode */\n",
       "  --sklearn-color-text: black;\n",
       "  --sklearn-color-line: gray;\n",
       "  /* Definition of color scheme for unfitted estimators */\n",
       "  --sklearn-color-unfitted-level-0: #fff5e6;\n",
       "  --sklearn-color-unfitted-level-1: #f6e4d2;\n",
       "  --sklearn-color-unfitted-level-2: #ffe0b3;\n",
       "  --sklearn-color-unfitted-level-3: chocolate;\n",
       "  /* Definition of color scheme for fitted estimators */\n",
       "  --sklearn-color-fitted-level-0: #f0f8ff;\n",
       "  --sklearn-color-fitted-level-1: #d4ebff;\n",
       "  --sklearn-color-fitted-level-2: #b3dbfd;\n",
       "  --sklearn-color-fitted-level-3: cornflowerblue;\n",
       "\n",
       "  /* Specific color for light theme */\n",
       "  --sklearn-color-text-on-default-background: var(--sg-text-color, var(--theme-code-foreground, var(--jp-content-font-color1, black)));\n",
       "  --sklearn-color-background: var(--sg-background-color, var(--theme-background, var(--jp-layout-color0, white)));\n",
       "  --sklearn-color-border-box: var(--sg-text-color, var(--theme-code-foreground, var(--jp-content-font-color1, black)));\n",
       "  --sklearn-color-icon: #696969;\n",
       "\n",
       "  @media (prefers-color-scheme: dark) {\n",
       "    /* Redefinition of color scheme for dark theme */\n",
       "    --sklearn-color-text-on-default-background: var(--sg-text-color, var(--theme-code-foreground, var(--jp-content-font-color1, white)));\n",
       "    --sklearn-color-background: var(--sg-background-color, var(--theme-background, var(--jp-layout-color0, #111)));\n",
       "    --sklearn-color-border-box: var(--sg-text-color, var(--theme-code-foreground, var(--jp-content-font-color1, white)));\n",
       "    --sklearn-color-icon: #878787;\n",
       "  }\n",
       "}\n",
       "\n",
       "#sk-container-id-18 {\n",
       "  color: var(--sklearn-color-text);\n",
       "}\n",
       "\n",
       "#sk-container-id-18 pre {\n",
       "  padding: 0;\n",
       "}\n",
       "\n",
       "#sk-container-id-18 input.sk-hidden--visually {\n",
       "  border: 0;\n",
       "  clip: rect(1px 1px 1px 1px);\n",
       "  clip: rect(1px, 1px, 1px, 1px);\n",
       "  height: 1px;\n",
       "  margin: -1px;\n",
       "  overflow: hidden;\n",
       "  padding: 0;\n",
       "  position: absolute;\n",
       "  width: 1px;\n",
       "}\n",
       "\n",
       "#sk-container-id-18 div.sk-dashed-wrapped {\n",
       "  border: 1px dashed var(--sklearn-color-line);\n",
       "  margin: 0 0.4em 0.5em 0.4em;\n",
       "  box-sizing: border-box;\n",
       "  padding-bottom: 0.4em;\n",
       "  background-color: var(--sklearn-color-background);\n",
       "}\n",
       "\n",
       "#sk-container-id-18 div.sk-container {\n",
       "  /* jupyter's `normalize.less` sets `[hidden] { display: none; }`\n",
       "     but bootstrap.min.css set `[hidden] { display: none !important; }`\n",
       "     so we also need the `!important` here to be able to override the\n",
       "     default hidden behavior on the sphinx rendered scikit-learn.org.\n",
       "     See: https://github.com/scikit-learn/scikit-learn/issues/21755 */\n",
       "  display: inline-block !important;\n",
       "  position: relative;\n",
       "}\n",
       "\n",
       "#sk-container-id-18 div.sk-text-repr-fallback {\n",
       "  display: none;\n",
       "}\n",
       "\n",
       "div.sk-parallel-item,\n",
       "div.sk-serial,\n",
       "div.sk-item {\n",
       "  /* draw centered vertical line to link estimators */\n",
       "  background-image: linear-gradient(var(--sklearn-color-text-on-default-background), var(--sklearn-color-text-on-default-background));\n",
       "  background-size: 2px 100%;\n",
       "  background-repeat: no-repeat;\n",
       "  background-position: center center;\n",
       "}\n",
       "\n",
       "/* Parallel-specific style estimator block */\n",
       "\n",
       "#sk-container-id-18 div.sk-parallel-item::after {\n",
       "  content: \"\";\n",
       "  width: 100%;\n",
       "  border-bottom: 2px solid var(--sklearn-color-text-on-default-background);\n",
       "  flex-grow: 1;\n",
       "}\n",
       "\n",
       "#sk-container-id-18 div.sk-parallel {\n",
       "  display: flex;\n",
       "  align-items: stretch;\n",
       "  justify-content: center;\n",
       "  background-color: var(--sklearn-color-background);\n",
       "  position: relative;\n",
       "}\n",
       "\n",
       "#sk-container-id-18 div.sk-parallel-item {\n",
       "  display: flex;\n",
       "  flex-direction: column;\n",
       "}\n",
       "\n",
       "#sk-container-id-18 div.sk-parallel-item:first-child::after {\n",
       "  align-self: flex-end;\n",
       "  width: 50%;\n",
       "}\n",
       "\n",
       "#sk-container-id-18 div.sk-parallel-item:last-child::after {\n",
       "  align-self: flex-start;\n",
       "  width: 50%;\n",
       "}\n",
       "\n",
       "#sk-container-id-18 div.sk-parallel-item:only-child::after {\n",
       "  width: 0;\n",
       "}\n",
       "\n",
       "/* Serial-specific style estimator block */\n",
       "\n",
       "#sk-container-id-18 div.sk-serial {\n",
       "  display: flex;\n",
       "  flex-direction: column;\n",
       "  align-items: center;\n",
       "  background-color: var(--sklearn-color-background);\n",
       "  padding-right: 1em;\n",
       "  padding-left: 1em;\n",
       "}\n",
       "\n",
       "\n",
       "/* Toggleable style: style used for estimator/Pipeline/ColumnTransformer box that is\n",
       "clickable and can be expanded/collapsed.\n",
       "- Pipeline and ColumnTransformer use this feature and define the default style\n",
       "- Estimators will overwrite some part of the style using the `sk-estimator` class\n",
       "*/\n",
       "\n",
       "/* Pipeline and ColumnTransformer style (default) */\n",
       "\n",
       "#sk-container-id-18 div.sk-toggleable {\n",
       "  /* Default theme specific background. It is overwritten whether we have a\n",
       "  specific estimator or a Pipeline/ColumnTransformer */\n",
       "  background-color: var(--sklearn-color-background);\n",
       "}\n",
       "\n",
       "/* Toggleable label */\n",
       "#sk-container-id-18 label.sk-toggleable__label {\n",
       "  cursor: pointer;\n",
       "  display: block;\n",
       "  width: 100%;\n",
       "  margin-bottom: 0;\n",
       "  padding: 0.5em;\n",
       "  box-sizing: border-box;\n",
       "  text-align: center;\n",
       "}\n",
       "\n",
       "#sk-container-id-18 label.sk-toggleable__label-arrow:before {\n",
       "  /* Arrow on the left of the label */\n",
       "  content: \"▸\";\n",
       "  float: left;\n",
       "  margin-right: 0.25em;\n",
       "  color: var(--sklearn-color-icon);\n",
       "}\n",
       "\n",
       "#sk-container-id-18 label.sk-toggleable__label-arrow:hover:before {\n",
       "  color: var(--sklearn-color-text);\n",
       "}\n",
       "\n",
       "/* Toggleable content - dropdown */\n",
       "\n",
       "#sk-container-id-18 div.sk-toggleable__content {\n",
       "  max-height: 0;\n",
       "  max-width: 0;\n",
       "  overflow: hidden;\n",
       "  text-align: left;\n",
       "  /* unfitted */\n",
       "  background-color: var(--sklearn-color-unfitted-level-0);\n",
       "}\n",
       "\n",
       "#sk-container-id-18 div.sk-toggleable__content.fitted {\n",
       "  /* fitted */\n",
       "  background-color: var(--sklearn-color-fitted-level-0);\n",
       "}\n",
       "\n",
       "#sk-container-id-18 div.sk-toggleable__content pre {\n",
       "  margin: 0.2em;\n",
       "  border-radius: 0.25em;\n",
       "  color: var(--sklearn-color-text);\n",
       "  /* unfitted */\n",
       "  background-color: var(--sklearn-color-unfitted-level-0);\n",
       "}\n",
       "\n",
       "#sk-container-id-18 div.sk-toggleable__content.fitted pre {\n",
       "  /* unfitted */\n",
       "  background-color: var(--sklearn-color-fitted-level-0);\n",
       "}\n",
       "\n",
       "#sk-container-id-18 input.sk-toggleable__control:checked~div.sk-toggleable__content {\n",
       "  /* Expand drop-down */\n",
       "  max-height: 200px;\n",
       "  max-width: 100%;\n",
       "  overflow: auto;\n",
       "}\n",
       "\n",
       "#sk-container-id-18 input.sk-toggleable__control:checked~label.sk-toggleable__label-arrow:before {\n",
       "  content: \"▾\";\n",
       "}\n",
       "\n",
       "/* Pipeline/ColumnTransformer-specific style */\n",
       "\n",
       "#sk-container-id-18 div.sk-label input.sk-toggleable__control:checked~label.sk-toggleable__label {\n",
       "  color: var(--sklearn-color-text);\n",
       "  background-color: var(--sklearn-color-unfitted-level-2);\n",
       "}\n",
       "\n",
       "#sk-container-id-18 div.sk-label.fitted input.sk-toggleable__control:checked~label.sk-toggleable__label {\n",
       "  background-color: var(--sklearn-color-fitted-level-2);\n",
       "}\n",
       "\n",
       "/* Estimator-specific style */\n",
       "\n",
       "/* Colorize estimator box */\n",
       "#sk-container-id-18 div.sk-estimator input.sk-toggleable__control:checked~label.sk-toggleable__label {\n",
       "  /* unfitted */\n",
       "  background-color: var(--sklearn-color-unfitted-level-2);\n",
       "}\n",
       "\n",
       "#sk-container-id-18 div.sk-estimator.fitted input.sk-toggleable__control:checked~label.sk-toggleable__label {\n",
       "  /* fitted */\n",
       "  background-color: var(--sklearn-color-fitted-level-2);\n",
       "}\n",
       "\n",
       "#sk-container-id-18 div.sk-label label.sk-toggleable__label,\n",
       "#sk-container-id-18 div.sk-label label {\n",
       "  /* The background is the default theme color */\n",
       "  color: var(--sklearn-color-text-on-default-background);\n",
       "}\n",
       "\n",
       "/* On hover, darken the color of the background */\n",
       "#sk-container-id-18 div.sk-label:hover label.sk-toggleable__label {\n",
       "  color: var(--sklearn-color-text);\n",
       "  background-color: var(--sklearn-color-unfitted-level-2);\n",
       "}\n",
       "\n",
       "/* Label box, darken color on hover, fitted */\n",
       "#sk-container-id-18 div.sk-label.fitted:hover label.sk-toggleable__label.fitted {\n",
       "  color: var(--sklearn-color-text);\n",
       "  background-color: var(--sklearn-color-fitted-level-2);\n",
       "}\n",
       "\n",
       "/* Estimator label */\n",
       "\n",
       "#sk-container-id-18 div.sk-label label {\n",
       "  font-family: monospace;\n",
       "  font-weight: bold;\n",
       "  display: inline-block;\n",
       "  line-height: 1.2em;\n",
       "}\n",
       "\n",
       "#sk-container-id-18 div.sk-label-container {\n",
       "  text-align: center;\n",
       "}\n",
       "\n",
       "/* Estimator-specific */\n",
       "#sk-container-id-18 div.sk-estimator {\n",
       "  font-family: monospace;\n",
       "  border: 1px dotted var(--sklearn-color-border-box);\n",
       "  border-radius: 0.25em;\n",
       "  box-sizing: border-box;\n",
       "  margin-bottom: 0.5em;\n",
       "  /* unfitted */\n",
       "  background-color: var(--sklearn-color-unfitted-level-0);\n",
       "}\n",
       "\n",
       "#sk-container-id-18 div.sk-estimator.fitted {\n",
       "  /* fitted */\n",
       "  background-color: var(--sklearn-color-fitted-level-0);\n",
       "}\n",
       "\n",
       "/* on hover */\n",
       "#sk-container-id-18 div.sk-estimator:hover {\n",
       "  /* unfitted */\n",
       "  background-color: var(--sklearn-color-unfitted-level-2);\n",
       "}\n",
       "\n",
       "#sk-container-id-18 div.sk-estimator.fitted:hover {\n",
       "  /* fitted */\n",
       "  background-color: var(--sklearn-color-fitted-level-2);\n",
       "}\n",
       "\n",
       "/* Specification for estimator info (e.g. \"i\" and \"?\") */\n",
       "\n",
       "/* Common style for \"i\" and \"?\" */\n",
       "\n",
       ".sk-estimator-doc-link,\n",
       "a:link.sk-estimator-doc-link,\n",
       "a:visited.sk-estimator-doc-link {\n",
       "  float: right;\n",
       "  font-size: smaller;\n",
       "  line-height: 1em;\n",
       "  font-family: monospace;\n",
       "  background-color: var(--sklearn-color-background);\n",
       "  border-radius: 1em;\n",
       "  height: 1em;\n",
       "  width: 1em;\n",
       "  text-decoration: none !important;\n",
       "  margin-left: 1ex;\n",
       "  /* unfitted */\n",
       "  border: var(--sklearn-color-unfitted-level-1) 1pt solid;\n",
       "  color: var(--sklearn-color-unfitted-level-1);\n",
       "}\n",
       "\n",
       ".sk-estimator-doc-link.fitted,\n",
       "a:link.sk-estimator-doc-link.fitted,\n",
       "a:visited.sk-estimator-doc-link.fitted {\n",
       "  /* fitted */\n",
       "  border: var(--sklearn-color-fitted-level-1) 1pt solid;\n",
       "  color: var(--sklearn-color-fitted-level-1);\n",
       "}\n",
       "\n",
       "/* On hover */\n",
       "div.sk-estimator:hover .sk-estimator-doc-link:hover,\n",
       ".sk-estimator-doc-link:hover,\n",
       "div.sk-label-container:hover .sk-estimator-doc-link:hover,\n",
       ".sk-estimator-doc-link:hover {\n",
       "  /* unfitted */\n",
       "  background-color: var(--sklearn-color-unfitted-level-3);\n",
       "  color: var(--sklearn-color-background);\n",
       "  text-decoration: none;\n",
       "}\n",
       "\n",
       "div.sk-estimator.fitted:hover .sk-estimator-doc-link.fitted:hover,\n",
       ".sk-estimator-doc-link.fitted:hover,\n",
       "div.sk-label-container:hover .sk-estimator-doc-link.fitted:hover,\n",
       ".sk-estimator-doc-link.fitted:hover {\n",
       "  /* fitted */\n",
       "  background-color: var(--sklearn-color-fitted-level-3);\n",
       "  color: var(--sklearn-color-background);\n",
       "  text-decoration: none;\n",
       "}\n",
       "\n",
       "/* Span, style for the box shown on hovering the info icon */\n",
       ".sk-estimator-doc-link span {\n",
       "  display: none;\n",
       "  z-index: 9999;\n",
       "  position: relative;\n",
       "  font-weight: normal;\n",
       "  right: .2ex;\n",
       "  padding: .5ex;\n",
       "  margin: .5ex;\n",
       "  width: min-content;\n",
       "  min-width: 20ex;\n",
       "  max-width: 50ex;\n",
       "  color: var(--sklearn-color-text);\n",
       "  box-shadow: 2pt 2pt 4pt #999;\n",
       "  /* unfitted */\n",
       "  background: var(--sklearn-color-unfitted-level-0);\n",
       "  border: .5pt solid var(--sklearn-color-unfitted-level-3);\n",
       "}\n",
       "\n",
       ".sk-estimator-doc-link.fitted span {\n",
       "  /* fitted */\n",
       "  background: var(--sklearn-color-fitted-level-0);\n",
       "  border: var(--sklearn-color-fitted-level-3);\n",
       "}\n",
       "\n",
       ".sk-estimator-doc-link:hover span {\n",
       "  display: block;\n",
       "}\n",
       "\n",
       "/* \"?\"-specific style due to the `<a>` HTML tag */\n",
       "\n",
       "#sk-container-id-18 a.estimator_doc_link {\n",
       "  float: right;\n",
       "  font-size: 1rem;\n",
       "  line-height: 1em;\n",
       "  font-family: monospace;\n",
       "  background-color: var(--sklearn-color-background);\n",
       "  border-radius: 1rem;\n",
       "  height: 1rem;\n",
       "  width: 1rem;\n",
       "  text-decoration: none;\n",
       "  /* unfitted */\n",
       "  color: var(--sklearn-color-unfitted-level-1);\n",
       "  border: var(--sklearn-color-unfitted-level-1) 1pt solid;\n",
       "}\n",
       "\n",
       "#sk-container-id-18 a.estimator_doc_link.fitted {\n",
       "  /* fitted */\n",
       "  border: var(--sklearn-color-fitted-level-1) 1pt solid;\n",
       "  color: var(--sklearn-color-fitted-level-1);\n",
       "}\n",
       "\n",
       "/* On hover */\n",
       "#sk-container-id-18 a.estimator_doc_link:hover {\n",
       "  /* unfitted */\n",
       "  background-color: var(--sklearn-color-unfitted-level-3);\n",
       "  color: var(--sklearn-color-background);\n",
       "  text-decoration: none;\n",
       "}\n",
       "\n",
       "#sk-container-id-18 a.estimator_doc_link.fitted:hover {\n",
       "  /* fitted */\n",
       "  background-color: var(--sklearn-color-fitted-level-3);\n",
       "}\n",
       "</style><div id=\"sk-container-id-18\" class=\"sk-top-container\"><div class=\"sk-text-repr-fallback\"><pre>GridSearchCV(estimator=RandomForestClassifier(n_jobs=-1, random_state=42),\n",
       "             param_grid={&#x27;ccp_alpha&#x27;: [0.0, 0.1, 0.3, 0.6],\n",
       "                         &#x27;max_depth&#x27;: [5, 10, 15, 30, 60],\n",
       "                         &#x27;min_samples_split&#x27;: [5, 15, 30]})</pre><b>In a Jupyter environment, please rerun this cell to show the HTML representation or trust the notebook. <br />On GitHub, the HTML representation is unable to render, please try loading this page with nbviewer.org.</b></div><div class=\"sk-container\" hidden><div class=\"sk-item sk-dashed-wrapped\"><div class=\"sk-label-container\"><div class=\"sk-label fitted sk-toggleable\"><input class=\"sk-toggleable__control sk-hidden--visually\" id=\"sk-estimator-id-34\" type=\"checkbox\" ><label for=\"sk-estimator-id-34\" class=\"sk-toggleable__label fitted sk-toggleable__label-arrow fitted\">&nbsp;&nbsp;GridSearchCV<a class=\"sk-estimator-doc-link fitted\" rel=\"noreferrer\" target=\"_blank\" href=\"https://scikit-learn.org/1.5/modules/generated/sklearn.model_selection.GridSearchCV.html\">?<span>Documentation for GridSearchCV</span></a><span class=\"sk-estimator-doc-link fitted\">i<span>Fitted</span></span></label><div class=\"sk-toggleable__content fitted\"><pre>GridSearchCV(estimator=RandomForestClassifier(n_jobs=-1, random_state=42),\n",
       "             param_grid={&#x27;ccp_alpha&#x27;: [0.0, 0.1, 0.3, 0.6],\n",
       "                         &#x27;max_depth&#x27;: [5, 10, 15, 30, 60],\n",
       "                         &#x27;min_samples_split&#x27;: [5, 15, 30]})</pre></div> </div></div><div class=\"sk-parallel\"><div class=\"sk-parallel-item\"><div class=\"sk-item\"><div class=\"sk-label-container\"><div class=\"sk-label fitted sk-toggleable\"><input class=\"sk-toggleable__control sk-hidden--visually\" id=\"sk-estimator-id-35\" type=\"checkbox\" ><label for=\"sk-estimator-id-35\" class=\"sk-toggleable__label fitted sk-toggleable__label-arrow fitted\">best_estimator_: RandomForestClassifier</label><div class=\"sk-toggleable__content fitted\"><pre>RandomForestClassifier(max_depth=15, min_samples_split=5, n_jobs=-1,\n",
       "                       random_state=42)</pre></div> </div></div><div class=\"sk-serial\"><div class=\"sk-item\"><div class=\"sk-estimator fitted sk-toggleable\"><input class=\"sk-toggleable__control sk-hidden--visually\" id=\"sk-estimator-id-36\" type=\"checkbox\" ><label for=\"sk-estimator-id-36\" class=\"sk-toggleable__label fitted sk-toggleable__label-arrow fitted\">&nbsp;RandomForestClassifier<a class=\"sk-estimator-doc-link fitted\" rel=\"noreferrer\" target=\"_blank\" href=\"https://scikit-learn.org/1.5/modules/generated/sklearn.ensemble.RandomForestClassifier.html\">?<span>Documentation for RandomForestClassifier</span></a></label><div class=\"sk-toggleable__content fitted\"><pre>RandomForestClassifier(max_depth=15, min_samples_split=5, n_jobs=-1,\n",
       "                       random_state=42)</pre></div> </div></div></div></div></div></div></div></div></div>"
      ]
     },
     "execution_count": 353,
     "metadata": {},
     "output_type": "execute_result"
    }
   ],
   "execution_count": 353
  },
  {
   "metadata": {
    "ExecuteTime": {
     "end_time": "2024-09-18T17:37:53.980929Z",
     "start_time": "2024-09-18T17:37:53.974256Z"
    }
   },
   "cell_type": "code",
   "source": "tuned_forest.best_params_",
   "id": "d51cfba3e9f96c30",
   "outputs": [
    {
     "data": {
      "text/plain": [
       "{'ccp_alpha': 0.0, 'max_depth': 15, 'min_samples_split': 5}"
      ]
     },
     "execution_count": 354,
     "metadata": {},
     "output_type": "execute_result"
    }
   ],
   "execution_count": 354
  },
  {
   "metadata": {
    "ExecuteTime": {
     "end_time": "2024-09-18T17:37:54.107363Z",
     "start_time": "2024-09-18T17:37:54.052705Z"
    }
   },
   "cell_type": "code",
   "source": "tuned_forest.score(X_test, y_test)",
   "id": "c0695890150e692f",
   "outputs": [
    {
     "data": {
      "text/plain": [
       "0.8519774011299435"
      ]
     },
     "execution_count": 355,
     "metadata": {},
     "output_type": "execute_result"
    }
   ],
   "execution_count": 355
  },
  {
   "metadata": {},
   "cell_type": "markdown",
   "source": "### Some Standardization on Data",
   "id": "23a9fbc9116f25fa"
  },
  {
   "metadata": {
    "ExecuteTime": {
     "end_time": "2024-09-18T17:37:54.200445Z",
     "start_time": "2024-09-18T17:37:54.195728Z"
    }
   },
   "cell_type": "code",
   "source": [
    "from sklearn.pipeline import make_pipeline\n",
    "from sklearn.preprocessing import StandardScaler"
   ],
   "id": "234ee2c88b4d5615",
   "outputs": [],
   "execution_count": 356
  },
  {
   "metadata": {
    "ExecuteTime": {
     "end_time": "2024-09-18T17:37:54.331417Z",
     "start_time": "2024-09-18T17:37:54.326878Z"
    }
   },
   "cell_type": "code",
   "source": [
    "standard_scaler = StandardScaler()\n",
    "forest = RandomForestClassifier(random_state=42)\n",
    "standardized_forest = make_pipeline(standard_scaler, forest)"
   ],
   "id": "bedd587657251489",
   "outputs": [],
   "execution_count": 357
  },
  {
   "metadata": {
    "ExecuteTime": {
     "end_time": "2024-09-18T17:37:54.728150Z",
     "start_time": "2024-09-18T17:37:54.343456Z"
    }
   },
   "cell_type": "code",
   "source": [
    "standardized_forest.fit(X_train, y_train)\n",
    "standardized_forest.score(X_test, y_test)"
   ],
   "id": "c5ea93ad8297d667",
   "outputs": [
    {
     "data": {
      "text/plain": [
       "0.8508474576271187"
      ]
     },
     "execution_count": 358,
     "metadata": {},
     "output_type": "execute_result"
    }
   ],
   "execution_count": 358
  },
  {
   "metadata": {
    "ExecuteTime": {
     "end_time": "2024-09-18T17:37:54.804477Z",
     "start_time": "2024-09-18T17:37:54.773726Z"
    }
   },
   "cell_type": "code",
   "source": "print(classification_report(y_test, standardized_forest.predict(X_test)))",
   "id": "3f754f10543a64fb",
   "outputs": [
    {
     "name": "stdout",
     "output_type": "stream",
     "text": [
      "              precision    recall  f1-score   support\n",
      "\n",
      "           0       0.84      0.94      0.89       569\n",
      "           1       0.87      0.68      0.77       316\n",
      "\n",
      "    accuracy                           0.85       885\n",
      "   macro avg       0.86      0.81      0.83       885\n",
      "weighted avg       0.85      0.85      0.85       885\n",
      "\n"
     ]
    }
   ],
   "execution_count": 359
  },
  {
   "metadata": {
    "ExecuteTime": {
     "end_time": "2024-09-18T17:37:55.013830Z",
     "start_time": "2024-09-18T17:37:54.874722Z"
    }
   },
   "cell_type": "code",
   "source": [
    "importance = standardized_forest.named_steps[\"randomforestclassifier\"]\\\n",
    "    .feature_importances_\n",
    "importance = dict(sorted(zip(X.columns, importance), key=lambda x: x[1]))\n",
    "importance = dict(filter(lambda x: x[1] > 0.01, importance.items()))\n",
    "\n",
    "plt.barh(importance.keys(), importance.values())\n",
    "plt.show()"
   ],
   "id": "9afa5670a772ffae",
   "outputs": [
    {
     "data": {
      "text/plain": [
       "<Figure size 800x550 with 1 Axes>"
      ],
      "image/png": "[encoded data removed]"
     },
     "metadata": {},
     "output_type": "display_data"
    }
   ],
   "execution_count": 360
  },
  {
   "metadata": {},
   "cell_type": "markdown",
   "source": "### Try GridSearch on Standardized Data",
   "id": "259e43a53215021e"
  },
  {
   "metadata": {
    "ExecuteTime": {
     "end_time": "2024-09-18T17:37:55.070589Z",
     "start_time": "2024-09-18T17:37:55.018877Z"
    }
   },
   "cell_type": "code",
   "source": [
    "standard_scaler = StandardScaler()\n",
    "\n",
    "# grid search\n",
    "param_grid = {\n",
    "    \"max_depth\": [5, 10, 15, 30, 60],\n",
    "    \"ccp_alpha\": [0.0, 0.1, 0.3, 0.6],\n",
    "    \"min_samples_split\": [5, 15, 30]\n",
    "}\n",
    "forest = RandomForestClassifier(random_state=42)\n",
    "tuned_forest = GridSearchCV(forest, param_grid, refit=True)\n",
    "standardized_tuned_forest = make_pipeline(standard_scaler, tuned_forest)"
   ],
   "id": "e33e17f3155290df",
   "outputs": [],
   "execution_count": 361
  },
  {
   "metadata": {
    "ExecuteTime": {
     "end_time": "2024-09-18T17:39:03.319466Z",
     "start_time": "2024-09-18T17:37:55.110327Z"
    }
   },
   "cell_type": "code",
   "source": [
    "standardized_tuned_forest.fit(X_train, y_train)\n",
    "standardized_tuned_forest.score(X_test, y_test)"
   ],
   "id": "c750116728ca9194",
   "outputs": [
    {
     "data": {
      "text/plain": [
       "0.8519774011299435"
      ]
     },
     "execution_count": 362,
     "metadata": {},
     "output_type": "execute_result"
    }
   ],
   "execution_count": 362
  },
  {
   "metadata": {
    "ExecuteTime": {
     "end_time": "2024-09-18T17:39:03.435001Z",
     "start_time": "2024-09-18T17:39:03.410402Z"
    }
   },
   "cell_type": "code",
   "source": "print(classification_report(y_test, standardized_tuned_forest.predict(X_test)))",
   "id": "d019fbb6ebd1a506",
   "outputs": [
    {
     "name": "stdout",
     "output_type": "stream",
     "text": [
      "              precision    recall  f1-score   support\n",
      "\n",
      "           0       0.84      0.95      0.89       569\n",
      "           1       0.88      0.67      0.76       316\n",
      "\n",
      "    accuracy                           0.85       885\n",
      "   macro avg       0.86      0.81      0.83       885\n",
      "weighted avg       0.86      0.85      0.85       885\n",
      "\n"
     ]
    }
   ],
   "execution_count": 363
  },
  {
   "metadata": {},
   "cell_type": "markdown",
   "source": "### Try Class Imbalance Tuning",
   "id": "88626fdda971ff1f"
  },
  {
   "metadata": {
    "ExecuteTime": {
     "end_time": "2024-09-18T17:39:03.552448Z",
     "start_time": "2024-09-18T17:39:03.539007Z"
    }
   },
   "cell_type": "code",
   "source": "y.value_counts(normalize=True)",
   "id": "4bdc054c2c52720a",
   "outputs": [
    {
     "data": {
      "text/plain": [
       "target\n",
       "0    0.678797\n",
       "1    0.321203\n",
       "Name: proportion, dtype: float64"
      ]
     },
     "execution_count": 364,
     "metadata": {},
     "output_type": "execute_result"
    }
   ],
   "execution_count": 364
  },
  {
   "metadata": {
    "ExecuteTime": {
     "end_time": "2024-09-18T17:39:04.316433Z",
     "start_time": "2024-09-18T17:39:03.643520Z"
    }
   },
   "cell_type": "code",
   "source": [
    "class_imbalance_forest = RandomForestClassifier(random_state=42, class_weight={0:7, 1:3})\n",
    "class_imbalance_forest.fit(X_train, y_train)"
   ],
   "id": "b6b6786d9806dc99",
   "outputs": [
    {
     "data": {
      "text/plain": [
       "RandomForestClassifier(class_weight={0: 7, 1: 3}, random_state=42)"
      ],
      "text/html": [
       "<style>#sk-container-id-19 {\n",
       "  /* Definition of color scheme common for light and dark mode */\n",
       "  --sklearn-color-text: black;\n",
       "  --sklearn-color-line: gray;\n",
       "  /* Definition of color scheme for unfitted estimators */\n",
       "  --sklearn-color-unfitted-level-0: #fff5e6;\n",
       "  --sklearn-color-unfitted-level-1: #f6e4d2;\n",
       "  --sklearn-color-unfitted-level-2: #ffe0b3;\n",
       "  --sklearn-color-unfitted-level-3: chocolate;\n",
       "  /* Definition of color scheme for fitted estimators */\n",
       "  --sklearn-color-fitted-level-0: #f0f8ff;\n",
       "  --sklearn-color-fitted-level-1: #d4ebff;\n",
       "  --sklearn-color-fitted-level-2: #b3dbfd;\n",
       "  --sklearn-color-fitted-level-3: cornflowerblue;\n",
       "\n",
       "  /* Specific color for light theme */\n",
       "  --sklearn-color-text-on-default-background: var(--sg-text-color, var(--theme-code-foreground, var(--jp-content-font-color1, black)));\n",
       "  --sklearn-color-background: var(--sg-background-color, var(--theme-background, var(--jp-layout-color0, white)));\n",
       "  --sklearn-color-border-box: var(--sg-text-color, var(--theme-code-foreground, var(--jp-content-font-color1, black)));\n",
       "  --sklearn-color-icon: #696969;\n",
       "\n",
       "  @media (prefers-color-scheme: dark) {\n",
       "    /* Redefinition of color scheme for dark theme */\n",
       "    --sklearn-color-text-on-default-background: var(--sg-text-color, var(--theme-code-foreground, var(--jp-content-font-color1, white)));\n",
       "    --sklearn-color-background: var(--sg-background-color, var(--theme-background, var(--jp-layout-color0, #111)));\n",
       "    --sklearn-color-border-box: var(--sg-text-color, var(--theme-code-foreground, var(--jp-content-font-color1, white)));\n",
       "    --sklearn-color-icon: #878787;\n",
       "  }\n",
       "}\n",
       "\n",
       "#sk-container-id-19 {\n",
       "  color: var(--sklearn-color-text);\n",
       "}\n",
       "\n",
       "#sk-container-id-19 pre {\n",
       "  padding: 0;\n",
       "}\n",
       "\n",
       "#sk-container-id-19 input.sk-hidden--visually {\n",
       "  border: 0;\n",
       "  clip: rect(1px 1px 1px 1px);\n",
       "  clip: rect(1px, 1px, 1px, 1px);\n",
       "  height: 1px;\n",
       "  margin: -1px;\n",
       "  overflow: hidden;\n",
       "  padding: 0;\n",
       "  position: absolute;\n",
       "  width: 1px;\n",
       "}\n",
       "\n",
       "#sk-container-id-19 div.sk-dashed-wrapped {\n",
       "  border: 1px dashed var(--sklearn-color-line);\n",
       "  margin: 0 0.4em 0.5em 0.4em;\n",
       "  box-sizing: border-box;\n",
       "  padding-bottom: 0.4em;\n",
       "  background-color: var(--sklearn-color-background);\n",
       "}\n",
       "\n",
       "#sk-container-id-19 div.sk-container {\n",
       "  /* jupyter's `normalize.less` sets `[hidden] { display: none; }`\n",
       "     but bootstrap.min.css set `[hidden] { display: none !important; }`\n",
       "     so we also need the `!important` here to be able to override the\n",
       "     default hidden behavior on the sphinx rendered scikit-learn.org.\n",
       "     See: https://github.com/scikit-learn/scikit-learn/issues/21755 */\n",
       "  display: inline-block !important;\n",
       "  position: relative;\n",
       "}\n",
       "\n",
       "#sk-container-id-19 div.sk-text-repr-fallback {\n",
       "  display: none;\n",
       "}\n",
       "\n",
       "div.sk-parallel-item,\n",
       "div.sk-serial,\n",
       "div.sk-item {\n",
       "  /* draw centered vertical line to link estimators */\n",
       "  background-image: linear-gradient(var(--sklearn-color-text-on-default-background), var(--sklearn-color-text-on-default-background));\n",
       "  background-size: 2px 100%;\n",
       "  background-repeat: no-repeat;\n",
       "  background-position: center center;\n",
       "}\n",
       "\n",
       "/* Parallel-specific style estimator block */\n",
       "\n",
       "#sk-container-id-19 div.sk-parallel-item::after {\n",
       "  content: \"\";\n",
       "  width: 100%;\n",
       "  border-bottom: 2px solid var(--sklearn-color-text-on-default-background);\n",
       "  flex-grow: 1;\n",
       "}\n",
       "\n",
       "#sk-container-id-19 div.sk-parallel {\n",
       "  display: flex;\n",
       "  align-items: stretch;\n",
       "  justify-content: center;\n",
       "  background-color: var(--sklearn-color-background);\n",
       "  position: relative;\n",
       "}\n",
       "\n",
       "#sk-container-id-19 div.sk-parallel-item {\n",
       "  display: flex;\n",
       "  flex-direction: column;\n",
       "}\n",
       "\n",
       "#sk-container-id-19 div.sk-parallel-item:first-child::after {\n",
       "  align-self: flex-end;\n",
       "  width: 50%;\n",
       "}\n",
       "\n",
       "#sk-container-id-19 div.sk-parallel-item:last-child::after {\n",
       "  align-self: flex-start;\n",
       "  width: 50%;\n",
       "}\n",
       "\n",
       "#sk-container-id-19 div.sk-parallel-item:only-child::after {\n",
       "  width: 0;\n",
       "}\n",
       "\n",
       "/* Serial-specific style estimator block */\n",
       "\n",
       "#sk-container-id-19 div.sk-serial {\n",
       "  display: flex;\n",
       "  flex-direction: column;\n",
       "  align-items: center;\n",
       "  background-color: var(--sklearn-color-background);\n",
       "  padding-right: 1em;\n",
       "  padding-left: 1em;\n",
       "}\n",
       "\n",
       "\n",
       "/* Toggleable style: style used for estimator/Pipeline/ColumnTransformer box that is\n",
       "clickable and can be expanded/collapsed.\n",
       "- Pipeline and ColumnTransformer use this feature and define the default style\n",
       "- Estimators will overwrite some part of the style using the `sk-estimator` class\n",
       "*/\n",
       "\n",
       "/* Pipeline and ColumnTransformer style (default) */\n",
       "\n",
       "#sk-container-id-19 div.sk-toggleable {\n",
       "  /* Default theme specific background. It is overwritten whether we have a\n",
       "  specific estimator or a Pipeline/ColumnTransformer */\n",
       "  background-color: var(--sklearn-color-background);\n",
       "}\n",
       "\n",
       "/* Toggleable label */\n",
       "#sk-container-id-19 label.sk-toggleable__label {\n",
       "  cursor: pointer;\n",
       "  display: block;\n",
       "  width: 100%;\n",
       "  margin-bottom: 0;\n",
       "  padding: 0.5em;\n",
       "  box-sizing: border-box;\n",
       "  text-align: center;\n",
       "}\n",
       "\n",
       "#sk-container-id-19 label.sk-toggleable__label-arrow:before {\n",
       "  /* Arrow on the left of the label */\n",
       "  content: \"▸\";\n",
       "  float: left;\n",
       "  margin-right: 0.25em;\n",
       "  color: var(--sklearn-color-icon);\n",
       "}\n",
       "\n",
       "#sk-container-id-19 label.sk-toggleable__label-arrow:hover:before {\n",
       "  color: var(--sklearn-color-text);\n",
       "}\n",
       "\n",
       "/* Toggleable content - dropdown */\n",
       "\n",
       "#sk-container-id-19 div.sk-toggleable__content {\n",
       "  max-height: 0;\n",
       "  max-width: 0;\n",
       "  overflow: hidden;\n",
       "  text-align: left;\n",
       "  /* unfitted */\n",
       "  background-color: var(--sklearn-color-unfitted-level-0);\n",
       "}\n",
       "\n",
       "#sk-container-id-19 div.sk-toggleable__content.fitted {\n",
       "  /* fitted */\n",
       "  background-color: var(--sklearn-color-fitted-level-0);\n",
       "}\n",
       "\n",
       "#sk-container-id-19 div.sk-toggleable__content pre {\n",
       "  margin: 0.2em;\n",
       "  border-radius: 0.25em;\n",
       "  color: var(--sklearn-color-text);\n",
       "  /* unfitted */\n",
       "  background-color: var(--sklearn-color-unfitted-level-0);\n",
       "}\n",
       "\n",
       "#sk-container-id-19 div.sk-toggleable__content.fitted pre {\n",
       "  /* unfitted */\n",
       "  background-color: var(--sklearn-color-fitted-level-0);\n",
       "}\n",
       "\n",
       "#sk-container-id-19 input.sk-toggleable__control:checked~div.sk-toggleable__content {\n",
       "  /* Expand drop-down */\n",
       "  max-height: 200px;\n",
       "  max-width: 100%;\n",
       "  overflow: auto;\n",
       "}\n",
       "\n",
       "#sk-container-id-19 input.sk-toggleable__control:checked~label.sk-toggleable__label-arrow:before {\n",
       "  content: \"▾\";\n",
       "}\n",
       "\n",
       "/* Pipeline/ColumnTransformer-specific style */\n",
       "\n",
       "#sk-container-id-19 div.sk-label input.sk-toggleable__control:checked~label.sk-toggleable__label {\n",
       "  color: var(--sklearn-color-text);\n",
       "  background-color: var(--sklearn-color-unfitted-level-2);\n",
       "}\n",
       "\n",
       "#sk-container-id-19 div.sk-label.fitted input.sk-toggleable__control:checked~label.sk-toggleable__label {\n",
       "  background-color: var(--sklearn-color-fitted-level-2);\n",
       "}\n",
       "\n",
       "/* Estimator-specific style */\n",
       "\n",
       "/* Colorize estimator box */\n",
       "#sk-container-id-19 div.sk-estimator input.sk-toggleable__control:checked~label.sk-toggleable__label {\n",
       "  /* unfitted */\n",
       "  background-color: var(--sklearn-color-unfitted-level-2);\n",
       "}\n",
       "\n",
       "#sk-container-id-19 div.sk-estimator.fitted input.sk-toggleable__control:checked~label.sk-toggleable__label {\n",
       "  /* fitted */\n",
       "  background-color: var(--sklearn-color-fitted-level-2);\n",
       "}\n",
       "\n",
       "#sk-container-id-19 div.sk-label label.sk-toggleable__label,\n",
       "#sk-container-id-19 div.sk-label label {\n",
       "  /* The background is the default theme color */\n",
       "  color: var(--sklearn-color-text-on-default-background);\n",
       "}\n",
       "\n",
       "/* On hover, darken the color of the background */\n",
       "#sk-container-id-19 div.sk-label:hover label.sk-toggleable__label {\n",
       "  color: var(--sklearn-color-text);\n",
       "  background-color: var(--sklearn-color-unfitted-level-2);\n",
       "}\n",
       "\n",
       "/* Label box, darken color on hover, fitted */\n",
       "#sk-container-id-19 div.sk-label.fitted:hover label.sk-toggleable__label.fitted {\n",
       "  color: var(--sklearn-color-text);\n",
       "  background-color: var(--sklearn-color-fitted-level-2);\n",
       "}\n",
       "\n",
       "/* Estimator label */\n",
       "\n",
       "#sk-container-id-19 div.sk-label label {\n",
       "  font-family: monospace;\n",
       "  font-weight: bold;\n",
       "  display: inline-block;\n",
       "  line-height: 1.2em;\n",
       "}\n",
       "\n",
       "#sk-container-id-19 div.sk-label-container {\n",
       "  text-align: center;\n",
       "}\n",
       "\n",
       "/* Estimator-specific */\n",
       "#sk-container-id-19 div.sk-estimator {\n",
       "  font-family: monospace;\n",
       "  border: 1px dotted var(--sklearn-color-border-box);\n",
       "  border-radius: 0.25em;\n",
       "  box-sizing: border-box;\n",
       "  margin-bottom: 0.5em;\n",
       "  /* unfitted */\n",
       "  background-color: var(--sklearn-color-unfitted-level-0);\n",
       "}\n",
       "\n",
       "#sk-container-id-19 div.sk-estimator.fitted {\n",
       "  /* fitted */\n",
       "  background-color: var(--sklearn-color-fitted-level-0);\n",
       "}\n",
       "\n",
       "/* on hover */\n",
       "#sk-container-id-19 div.sk-estimator:hover {\n",
       "  /* unfitted */\n",
       "  background-color: var(--sklearn-color-unfitted-level-2);\n",
       "}\n",
       "\n",
       "#sk-container-id-19 div.sk-estimator.fitted:hover {\n",
       "  /* fitted */\n",
       "  background-color: var(--sklearn-color-fitted-level-2);\n",
       "}\n",
       "\n",
       "/* Specification for estimator info (e.g. \"i\" and \"?\") */\n",
       "\n",
       "/* Common style for \"i\" and \"?\" */\n",
       "\n",
       ".sk-estimator-doc-link,\n",
       "a:link.sk-estimator-doc-link,\n",
       "a:visited.sk-estimator-doc-link {\n",
       "  float: right;\n",
       "  font-size: smaller;\n",
       "  line-height: 1em;\n",
       "  font-family: monospace;\n",
       "  background-color: var(--sklearn-color-background);\n",
       "  border-radius: 1em;\n",
       "  height: 1em;\n",
       "  width: 1em;\n",
       "  text-decoration: none !important;\n",
       "  margin-left: 1ex;\n",
       "  /* unfitted */\n",
       "  border: var(--sklearn-color-unfitted-level-1) 1pt solid;\n",
       "  color: var(--sklearn-color-unfitted-level-1);\n",
       "}\n",
       "\n",
       ".sk-estimator-doc-link.fitted,\n",
       "a:link.sk-estimator-doc-link.fitted,\n",
       "a:visited.sk-estimator-doc-link.fitted {\n",
       "  /* fitted */\n",
       "  border: var(--sklearn-color-fitted-level-1) 1pt solid;\n",
       "  color: var(--sklearn-color-fitted-level-1);\n",
       "}\n",
       "\n",
       "/* On hover */\n",
       "div.sk-estimator:hover .sk-estimator-doc-link:hover,\n",
       ".sk-estimator-doc-link:hover,\n",
       "div.sk-label-container:hover .sk-estimator-doc-link:hover,\n",
       ".sk-estimator-doc-link:hover {\n",
       "  /* unfitted */\n",
       "  background-color: var(--sklearn-color-unfitted-level-3);\n",
       "  color: var(--sklearn-color-background);\n",
       "  text-decoration: none;\n",
       "}\n",
       "\n",
       "div.sk-estimator.fitted:hover .sk-estimator-doc-link.fitted:hover,\n",
       ".sk-estimator-doc-link.fitted:hover,\n",
       "div.sk-label-container:hover .sk-estimator-doc-link.fitted:hover,\n",
       ".sk-estimator-doc-link.fitted:hover {\n",
       "  /* fitted */\n",
       "  background-color: var(--sklearn-color-fitted-level-3);\n",
       "  color: var(--sklearn-color-background);\n",
       "  text-decoration: none;\n",
       "}\n",
       "\n",
       "/* Span, style for the box shown on hovering the info icon */\n",
       ".sk-estimator-doc-link span {\n",
       "  display: none;\n",
       "  z-index: 9999;\n",
       "  position: relative;\n",
       "  font-weight: normal;\n",
       "  right: .2ex;\n",
       "  padding: .5ex;\n",
       "  margin: .5ex;\n",
       "  width: min-content;\n",
       "  min-width: 20ex;\n",
       "  max-width: 50ex;\n",
       "  color: var(--sklearn-color-text);\n",
       "  box-shadow: 2pt 2pt 4pt #999;\n",
       "  /* unfitted */\n",
       "  background: var(--sklearn-color-unfitted-level-0);\n",
       "  border: .5pt solid var(--sklearn-color-unfitted-level-3);\n",
       "}\n",
       "\n",
       ".sk-estimator-doc-link.fitted span {\n",
       "  /* fitted */\n",
       "  background: var(--sklearn-color-fitted-level-0);\n",
       "  border: var(--sklearn-color-fitted-level-3);\n",
       "}\n",
       "\n",
       ".sk-estimator-doc-link:hover span {\n",
       "  display: block;\n",
       "}\n",
       "\n",
       "/* \"?\"-specific style due to the `<a>` HTML tag */\n",
       "\n",
       "#sk-container-id-19 a.estimator_doc_link {\n",
       "  float: right;\n",
       "  font-size: 1rem;\n",
       "  line-height: 1em;\n",
       "  font-family: monospace;\n",
       "  background-color: var(--sklearn-color-background);\n",
       "  border-radius: 1rem;\n",
       "  height: 1rem;\n",
       "  width: 1rem;\n",
       "  text-decoration: none;\n",
       "  /* unfitted */\n",
       "  color: var(--sklearn-color-unfitted-level-1);\n",
       "  border: var(--sklearn-color-unfitted-level-1) 1pt solid;\n",
       "}\n",
       "\n",
       "#sk-container-id-19 a.estimator_doc_link.fitted {\n",
       "  /* fitted */\n",
       "  border: var(--sklearn-color-fitted-level-1) 1pt solid;\n",
       "  color: var(--sklearn-color-fitted-level-1);\n",
       "}\n",
       "\n",
       "/* On hover */\n",
       "#sk-container-id-19 a.estimator_doc_link:hover {\n",
       "  /* unfitted */\n",
       "  background-color: var(--sklearn-color-unfitted-level-3);\n",
       "  color: var(--sklearn-color-background);\n",
       "  text-decoration: none;\n",
       "}\n",
       "\n",
       "#sk-container-id-19 a.estimator_doc_link.fitted:hover {\n",
       "  /* fitted */\n",
       "  background-color: var(--sklearn-color-fitted-level-3);\n",
       "}\n",
       "</style><div id=\"sk-container-id-19\" class=\"sk-top-container\"><div class=\"sk-text-repr-fallback\"><pre>RandomForestClassifier(class_weight={0: 7, 1: 3}, random_state=42)</pre><b>In a Jupyter environment, please rerun this cell to show the HTML representation or trust the notebook. <br />On GitHub, the HTML representation is unable to render, please try loading this page with nbviewer.org.</b></div><div class=\"sk-container\" hidden><div class=\"sk-item\"><div class=\"sk-estimator fitted sk-toggleable\"><input class=\"sk-toggleable__control sk-hidden--visually\" id=\"sk-estimator-id-37\" type=\"checkbox\" checked><label for=\"sk-estimator-id-37\" class=\"sk-toggleable__label fitted sk-toggleable__label-arrow fitted\">&nbsp;&nbsp;RandomForestClassifier<a class=\"sk-estimator-doc-link fitted\" rel=\"noreferrer\" target=\"_blank\" href=\"https://scikit-learn.org/1.5/modules/generated/sklearn.ensemble.RandomForestClassifier.html\">?<span>Documentation for RandomForestClassifier</span></a><span class=\"sk-estimator-doc-link fitted\">i<span>Fitted</span></span></label><div class=\"sk-toggleable__content fitted\"><pre>RandomForestClassifier(class_weight={0: 7, 1: 3}, random_state=42)</pre></div> </div></div></div></div>"
      ]
     },
     "execution_count": 365,
     "metadata": {},
     "output_type": "execute_result"
    }
   ],
   "execution_count": 365
  },
  {
   "metadata": {
    "ExecuteTime": {
     "end_time": "2024-09-18T17:39:04.380356Z",
     "start_time": "2024-09-18T17:39:04.354238Z"
    }
   },
   "cell_type": "code",
   "source": "class_imbalance_forest.score(X_test, y_test)",
   "id": "939a2f8f661a336d",
   "outputs": [
    {
     "data": {
      "text/plain": [
       "0.8576271186440678"
      ]
     },
     "execution_count": 366,
     "metadata": {},
     "output_type": "execute_result"
    }
   ],
   "execution_count": 366
  },
  {
   "metadata": {},
   "cell_type": "markdown",
   "source": "Similar Idea but with Data Standardization",
   "id": "2179f3b603abe307"
  },
  {
   "metadata": {
    "ExecuteTime": {
     "end_time": "2024-09-18T17:47:11.526866Z",
     "start_time": "2024-09-18T17:47:11.055920Z"
    }
   },
   "cell_type": "code",
   "source": [
    "from sklearn.preprocessing import MinMaxScaler\n",
    "\n",
    "scaler = MinMaxScaler()\n",
    "class_imbalance_forest = RandomForestClassifier(random_state=42, class_weight={0:7, 1:3})\n",
    "pipeline = make_pipeline(scaler, class_imbalance_forest)\n",
    "pipeline.fit(X_train, y_train)\n",
    "pipeline.score(X_test, y_test)"
   ],
   "id": "e89d7310815f539d",
   "outputs": [
    {
     "data": {
      "text/plain": [
       "0.8576271186440678"
      ]
     },
     "execution_count": 367,
     "metadata": {},
     "output_type": "execute_result"
    }
   ],
   "execution_count": 367
  },
  {
   "metadata": {
    "ExecuteTime": {
     "end_time": "2024-09-18T17:48:29.087677Z",
     "start_time": "2024-09-18T17:48:29.055943Z"
    }
   },
   "cell_type": "code",
   "source": "print(classification_report(y_test, pipeline.predict(X_test)))",
   "id": "8bd00afd40af3d72",
   "outputs": [
    {
     "name": "stdout",
     "output_type": "stream",
     "text": [
      "              precision    recall  f1-score   support\n",
      "\n",
      "           0       0.85      0.95      0.90       569\n",
      "           1       0.88      0.70      0.78       316\n",
      "\n",
      "    accuracy                           0.86       885\n",
      "   macro avg       0.86      0.82      0.84       885\n",
      "weighted avg       0.86      0.86      0.85       885\n",
      "\n"
     ]
    }
   ],
   "execution_count": 368
  },
  {
   "metadata": {},
   "cell_type": "markdown",
   "source": "### Plotting Improvements",
   "id": "1b068a63702f565f"
  },
  {
   "metadata": {
    "ExecuteTime": {
     "end_time": "2024-09-18T17:51:43.636432Z",
     "start_time": "2024-09-18T17:51:43.427290Z"
    }
   },
   "cell_type": "code",
   "source": [
    "fig2, ax = plt.subplots()\n",
    "\n",
    "for name, model in [(\"forest\", rf_binary), (\"tuned forest\", pipeline)]:\n",
    "    # get data for curve\n",
    "    probabilities = model.predict_proba(X_test)[:, 1]\n",
    "    fpr, tpr, _ = roc_curve(y_test, probabilities)\n",
    "\n",
    "    # plot curve\n",
    "    ax.plot(fpr, tpr, label=name)\n",
    "\n",
    "# some labels\n",
    "ax.plot(np.linspace(0, 1), np.linspace(0, 1), label=\"random guessing\")\n",
    "ax.set_title(\"ROC Curves for Binary Classification\")\n",
    "ax.set_xlabel(\"False Positive Rate\")\n",
    "ax.set_ylabel(\"True Positive Rate\")\n",
    "ax.legend()\n",
    "plt.tight_layout()"
   ],
   "id": "564967732eb67fb8",
   "outputs": [
    {
     "data": {
      "text/plain": [
       "<Figure size 800x550 with 1 Axes>"
      ],
      "image/png": "[encoded data removed]"
     },
     "metadata": {},
     "output_type": "display_data"
    }
   ],
   "execution_count": 369
  },
  {
   "metadata": {},
   "cell_type": "code",
   "outputs": [],
   "execution_count": null,
   "source": "",
   "id": "a238a05ca8c4851a"
  }
 ],
 "metadata": {
  "kernelspec": {
   "display_name": "Python 3 (ipykernel)",
   "language": "python",
   "name": "python3"
  },
  "language_info": {
   "codemirror_mode": {
    "name": "ipython",
    "version": 3
   },
   "file_extension": ".py",
   "mimetype": "text/x-python",
   "name": "python",
   "nbconvert_exporter": "python",
   "pygments_lexer": "ipython3",
   "version": "3.12.4"
  }
 },
 "nbformat": 4,
 "nbformat_minor": 5
}
