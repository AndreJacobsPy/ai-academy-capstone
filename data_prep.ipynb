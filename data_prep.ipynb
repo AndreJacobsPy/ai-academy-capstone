{
 "cells": [
  {
   "cell_type": "markdown",
   "id": "8f56b672380d1908",
   "metadata": {},
   "source": [
    "# Data Preparation"
   ]
  },
  {
   "cell_type": "markdown",
   "id": "8894a16e42cf691c",
   "metadata": {},
   "source": [
    "## Table of Contents\n",
    "\n",
    "1. [Data Cleaning for Baseline Model](#dc-base)\n",
    "    - [1.1 Marital Status One Hot Encoding](#step1)\n",
    "    - [1.2 Application Mode One Hot Encoding](#step2)\n",
    "    - [1.3 Course One Hot Encoding](#step3)\n",
    "    - [1.4 Rename Daytime/Nighttime Attendance](#step4)\n",
    "    - [1.5 Modify Previous Qualifications](#step5)\n",
    "    - [1.6 Nationality Mapping](#step6)\n",
    "    - [1.7 Modify Mother's Qualifications](#step7)\n",
    "    - [1.8 Modify Father's Qualifications](#step8)\n",
    "    - [1.9 Mother's Occupation Cleaning](#step9)\n",
    "    - [1.10 Father's Occupation Cleaning](#step10)\n",
    "    - [1.11 Rename Gender Column](#step11)\n",
    "    - [1.12 Encode the Target](#step12)"
   ]
  },
  {
   "cell_type": "code",
   "id": "3a1776e8-6f10-4328-9d17-072f1d24d525",
   "metadata": {
    "ExecuteTime": {
     "end_time": "2024-09-12T14:35:45.683406Z",
     "start_time": "2024-09-12T14:35:45.649696Z"
    }
   },
   "source": [
    "import pandas as pd\n",
    "\n",
    "data = pd.read_csv(\"data/student-dropout-academic-success.csv\", sep=\";\")\n",
    "df = data.copy()\n",
    "data.head(3)"
   ],
   "outputs": [
    {
     "data": {
      "text/plain": [
       "   Marital status  Application mode  Application order  Course  \\\n",
       "0               1                17                  5     171   \n",
       "1               1                15                  1    9254   \n",
       "2               1                 1                  5    9070   \n",
       "\n",
       "   Daytime/evening attendance\\t  Previous qualification  \\\n",
       "0                             1                       1   \n",
       "1                             1                       1   \n",
       "2                             1                       1   \n",
       "\n",
       "   Previous qualification (grade)  Nacionality  Mother's qualification  \\\n",
       "0                           122.0            1                      19   \n",
       "1                           160.0            1                       1   \n",
       "2                           122.0            1                      37   \n",
       "\n",
       "   Father's qualification  ...  Curricular units 2nd sem (credited)  \\\n",
       "0                      12  ...                                    0   \n",
       "1                       3  ...                                    0   \n",
       "2                      37  ...                                    0   \n",
       "\n",
       "   Curricular units 2nd sem (enrolled)  \\\n",
       "0                                    0   \n",
       "1                                    6   \n",
       "2                                    6   \n",
       "\n",
       "   Curricular units 2nd sem (evaluations)  \\\n",
       "0                                       0   \n",
       "1                                       6   \n",
       "2                                       0   \n",
       "\n",
       "   Curricular units 2nd sem (approved)  Curricular units 2nd sem (grade)  \\\n",
       "0                                    0                          0.000000   \n",
       "1                                    6                         13.666667   \n",
       "2                                    0                          0.000000   \n",
       "\n",
       "   Curricular units 2nd sem (without evaluations)  Unemployment rate  \\\n",
       "0                                               0               10.8   \n",
       "1                                               0               13.9   \n",
       "2                                               0               10.8   \n",
       "\n",
       "   Inflation rate   GDP    Target  \n",
       "0             1.4  1.74   Dropout  \n",
       "1            -0.3  0.79  Graduate  \n",
       "2             1.4  1.74   Dropout  \n",
       "\n",
       "[3 rows x 37 columns]"
      ],
      "text/html": [
       "<div>\n",
       "<style scoped>\n",
       "    .dataframe tbody tr th:only-of-type {\n",
       "        vertical-align: middle;\n",
       "    }\n",
       "\n",
       "    .dataframe tbody tr th {\n",
       "        vertical-align: top;\n",
       "    }\n",
       "\n",
       "    .dataframe thead th {\n",
       "        text-align: right;\n",
       "    }\n",
       "</style>\n",
       "<table border=\"1\" class=\"dataframe\">\n",
       "  <thead>\n",
       "    <tr style=\"text-align: right;\">\n",
       "      <th></th>\n",
       "      <th>Marital status</th>\n",
       "      <th>Application mode</th>\n",
       "      <th>Application order</th>\n",
       "      <th>Course</th>\n",
       "      <th>Daytime/evening attendance\\t</th>\n",
       "      <th>Previous qualification</th>\n",
       "      <th>Previous qualification (grade)</th>\n",
       "      <th>Nacionality</th>\n",
       "      <th>Mother's qualification</th>\n",
       "      <th>Father's qualification</th>\n",
       "      <th>...</th>\n",
       "      <th>Curricular units 2nd sem (credited)</th>\n",
       "      <th>Curricular units 2nd sem (enrolled)</th>\n",
       "      <th>Curricular units 2nd sem (evaluations)</th>\n",
       "      <th>Curricular units 2nd sem (approved)</th>\n",
       "      <th>Curricular units 2nd sem (grade)</th>\n",
       "      <th>Curricular units 2nd sem (without evaluations)</th>\n",
       "      <th>Unemployment rate</th>\n",
       "      <th>Inflation rate</th>\n",
       "      <th>GDP</th>\n",
       "      <th>Target</th>\n",
       "    </tr>\n",
       "  </thead>\n",
       "  <tbody>\n",
       "    <tr>\n",
       "      <th>0</th>\n",
       "      <td>1</td>\n",
       "      <td>17</td>\n",
       "      <td>5</td>\n",
       "      <td>171</td>\n",
       "      <td>1</td>\n",
       "      <td>1</td>\n",
       "      <td>122.0</td>\n",
       "      <td>1</td>\n",
       "      <td>19</td>\n",
       "      <td>12</td>\n",
       "      <td>...</td>\n",
       "      <td>0</td>\n",
       "      <td>0</td>\n",
       "      <td>0</td>\n",
       "      <td>0</td>\n",
       "      <td>0.000000</td>\n",
       "      <td>0</td>\n",
       "      <td>10.8</td>\n",
       "      <td>1.4</td>\n",
       "      <td>1.74</td>\n",
       "      <td>Dropout</td>\n",
       "    </tr>\n",
       "    <tr>\n",
       "      <th>1</th>\n",
       "      <td>1</td>\n",
       "      <td>15</td>\n",
       "      <td>1</td>\n",
       "      <td>9254</td>\n",
       "      <td>1</td>\n",
       "      <td>1</td>\n",
       "      <td>160.0</td>\n",
       "      <td>1</td>\n",
       "      <td>1</td>\n",
       "      <td>3</td>\n",
       "      <td>...</td>\n",
       "      <td>0</td>\n",
       "      <td>6</td>\n",
       "      <td>6</td>\n",
       "      <td>6</td>\n",
       "      <td>13.666667</td>\n",
       "      <td>0</td>\n",
       "      <td>13.9</td>\n",
       "      <td>-0.3</td>\n",
       "      <td>0.79</td>\n",
       "      <td>Graduate</td>\n",
       "    </tr>\n",
       "    <tr>\n",
       "      <th>2</th>\n",
       "      <td>1</td>\n",
       "      <td>1</td>\n",
       "      <td>5</td>\n",
       "      <td>9070</td>\n",
       "      <td>1</td>\n",
       "      <td>1</td>\n",
       "      <td>122.0</td>\n",
       "      <td>1</td>\n",
       "      <td>37</td>\n",
       "      <td>37</td>\n",
       "      <td>...</td>\n",
       "      <td>0</td>\n",
       "      <td>6</td>\n",
       "      <td>0</td>\n",
       "      <td>0</td>\n",
       "      <td>0.000000</td>\n",
       "      <td>0</td>\n",
       "      <td>10.8</td>\n",
       "      <td>1.4</td>\n",
       "      <td>1.74</td>\n",
       "      <td>Dropout</td>\n",
       "    </tr>\n",
       "  </tbody>\n",
       "</table>\n",
       "<p>3 rows × 37 columns</p>\n",
       "</div>"
      ]
     },
     "execution_count": 94,
     "metadata": {},
     "output_type": "execute_result"
    }
   ],
   "execution_count": 94
  },
  {
   "cell_type": "code",
   "id": "011c1072-75af-4616-b1ae-ab993481668c",
   "metadata": {
    "ExecuteTime": {
     "end_time": "2024-09-12T14:35:45.757418Z",
     "start_time": "2024-09-12T14:35:45.749636Z"
    }
   },
   "source": [
    "df.columns = df.columns.str.lower().str.replace(\" \", \"_\").str.strip()\n",
    "# df.columns"
   ],
   "outputs": [],
   "execution_count": 95
  },
  {
   "cell_type": "markdown",
   "id": "8df9e6bba1893ba2",
   "metadata": {},
   "source": [
    "## Data Cleaning for Baseline Model <a class=\"anchor\" id=\"dc-base\"></a>\n",
    "\n",
    "We will start by cleaning the data for the baseline model. This will be for a target variable as is with Dropout, Enrolled, and Graduated."
   ]
  },
  {
   "cell_type": "markdown",
   "id": "3117736f3007f000",
   "metadata": {},
   "source": [
    "### 1.1 Marital Status <a class=\"anchor\" id=\"step1\"></a>\n",
    "\n",
    "For now, we will convert this to a One Hot Encoded variable."
   ]
  },
  {
   "cell_type": "code",
   "id": "f806a2ae968c4691",
   "metadata": {
    "ExecuteTime": {
     "end_time": "2024-09-12T14:35:45.871912Z",
     "start_time": "2024-09-12T14:35:45.863670Z"
    }
   },
   "source": [
    "df.marital_status.unique()"
   ],
   "outputs": [
    {
     "data": {
      "text/plain": [
       "array([1, 2, 4, 3, 5, 6], dtype=int64)"
      ]
     },
     "execution_count": 96,
     "metadata": {},
     "output_type": "execute_result"
    }
   ],
   "execution_count": 96
  },
  {
   "cell_type": "code",
   "id": "f79b15ed-30d2-4ec1-a030-355aaa714d13",
   "metadata": {
    "ExecuteTime": {
     "end_time": "2024-09-12T14:35:46.260547Z",
     "start_time": "2024-09-12T14:35:46.253493Z"
    }
   },
   "source": [
    "# mapping to string values so one hot encoding columns make sense\n",
    "df.marital_status = df.marital_status.map(\n",
    "    {1: \"single\", 2: \"married\", 3: \"widower\", 4: \"divorced\", 5: \"facto_union\", 6: \"legally_separated\"}\n",
    ")"
   ],
   "outputs": [],
   "execution_count": 97
  },
  {
   "metadata": {
    "ExecuteTime": {
     "end_time": "2024-09-12T14:35:46.456099Z",
     "start_time": "2024-09-12T14:35:46.451264Z"
    }
   },
   "cell_type": "code",
   "source": "assert df.marital_status.isna().sum() == 0",
   "id": "ba8f96295b437f6f",
   "outputs": [],
   "execution_count": 98
  },
  {
   "cell_type": "code",
   "id": "9e64bcd9-d881-48f6-a1a1-ccbcb35ca3f4",
   "metadata": {
    "ExecuteTime": {
     "end_time": "2024-09-12T14:35:46.493272Z",
     "start_time": "2024-09-12T14:35:46.480696Z"
    }
   },
   "source": [
    "marital_status_df = pd.get_dummies(df.marital_status, \"marital_status\", dtype=\"int\") \\\n",
    "    .drop(\"marital_status_single\", axis=1)\n",
    "df = df.join(marital_status_df)\n",
    "df.shape"
   ],
   "outputs": [
    {
     "data": {
      "text/plain": [
       "(4424, 42)"
      ]
     },
     "execution_count": 99,
     "metadata": {},
     "output_type": "execute_result"
    }
   ],
   "execution_count": 99
  },
  {
   "cell_type": "markdown",
   "id": "3f2be35f-7dbb-4229-a6c7-ed22bf5a542b",
   "metadata": {},
   "source": [
    "### 1.2 Application Mode <a class=\"anchor\" id=\"step2\"></a>\n",
    "\n",
    "Need to convert back to labels then One Hot Encode them. For now I will just drop first because it is hard to get a column to drop through intuition."
   ]
  },
  {
   "cell_type": "code",
   "id": "a679b33a-2fec-4805-b13b-04e305de4b96",
   "metadata": {
    "ExecuteTime": {
     "end_time": "2024-09-12T14:35:46.597583Z",
     "start_time": "2024-09-12T14:35:46.589942Z"
    }
   },
   "source": [
    "df.application_mode = df.application_mode.map({\n",
    "    1: \"1st_phase_general_contingent\", 2: \"Ordinance_No_612/93\",\n",
    "    5: \"1st_phase_special_contingent_Azores_Island\",\n",
    "    7: \"Holders_of_other_higher_courses\", 10: \"Ordinance_No_854-B/99\",\n",
    "    15: \"International_student_bachelor\",\n",
    "    16: \"1st_phase_special_contingent_Madeira_Island\",\n",
    "    17: \"2nd_phase_general_contingent\", 18: \"3rd_phase_general_contingent\",\n",
    "    26: \"Ordinance_No_533-A/99_item_b2_Different_Plan\",\n",
    "    27: \"Ordinance_No_533-A/99_item_b3_Other_Institution\",\n",
    "    39: \"Over_23_years_old\", 42: \"Transfer\", 43: \"Change_of_course\",\n",
    "    44: \"Technological_specialization_diploma_holders\",\n",
    "    51: \"Change_of_institution_course\", 53: \"Short_cycle_diploma_holders\",\n",
    "    57: \"Change_of_institution_course_International\"\n",
    "})"
   ],
   "outputs": [],
   "execution_count": 100
  },
  {
   "metadata": {
    "ExecuteTime": {
     "end_time": "2024-09-12T14:35:46.620252Z",
     "start_time": "2024-09-12T14:35:46.615538Z"
    }
   },
   "cell_type": "code",
   "source": "assert df.application_mode.isna().sum() == 0",
   "id": "8aa0189ff2b65a21",
   "outputs": [],
   "execution_count": 101
  },
  {
   "cell_type": "code",
   "id": "0329ed7a-4ee0-4a43-ba4c-f864dc8f3fc7",
   "metadata": {
    "ExecuteTime": {
     "end_time": "2024-09-12T14:35:46.671179Z",
     "start_time": "2024-09-12T14:35:46.664501Z"
    }
   },
   "source": [
    "application_mode_dummies = pd.get_dummies(df.application_mode, \"application_mode\", drop_first=True, dtype=\"int\")\n",
    "# application_mode_dummies"
   ],
   "outputs": [],
   "execution_count": 102
  },
  {
   "cell_type": "code",
   "id": "dfc18d5c-e2b6-4790-933d-37c4149bbd83",
   "metadata": {
    "ExecuteTime": {
     "end_time": "2024-09-12T14:35:46.729581Z",
     "start_time": "2024-09-12T14:35:46.720884Z"
    }
   },
   "source": [
    "df = df.join(application_mode_dummies)\n",
    "df.shape"
   ],
   "outputs": [
    {
     "data": {
      "text/plain": [
       "(4424, 59)"
      ]
     },
     "execution_count": 103,
     "metadata": {},
     "output_type": "execute_result"
    }
   ],
   "execution_count": 103
  },
  {
   "cell_type": "markdown",
   "id": "6a87457a-f18d-4efe-944f-92a675cc16dd",
   "metadata": {},
   "source": [
    "### 1.3 Course <a class=\"anchor\" id=\"step3\"></a>\n",
    "\n",
    "For this feature I need to map integers to real values then One Hot Encode them into categories.\n",
    "\n",
    "I will use Nursing as the reference column due to the fact it has the most rows."
   ]
  },
  {
   "cell_type": "code",
   "id": "ffeee3b2-3c66-441c-9520-377c7b752314",
   "metadata": {
    "ExecuteTime": {
     "end_time": "2024-09-12T14:35:46.784442Z",
     "start_time": "2024-09-12T14:35:46.776452Z"
    }
   },
   "source": [
    "# mapping course numbers to their respective name\n",
    "df.course = df.course.map({\n",
    "    33: \"Biofuel_Production_Technologies\", 171: \"Animation_and_Multimedia_Design\",\n",
    "    8014: \"Social_Service_evening_attendance\", 9003: \"Agronomy\",\n",
    "    9070: \"Communication_Design\", 9085: \"Veterinary_Nursing\",\n",
    "    9119: \"Informatics_Engineering\", 9130: \"Equinculture\",\n",
    "    9147: \"Management\", 9238: \"Social_Service\",\n",
    "    9254: \"Tourism\", 9500: \"Nursing\",\n",
    "    9556: \"Oral_Hygiene\", 9670: \"Advertising_and_Marketing_Management\",\n",
    "    9773: \"Journalism_and_Communication\", 9853: \"Basic_Education\",\n",
    "    9991: \"Management_evening_attendance\"\n",
    "})"
   ],
   "outputs": [],
   "execution_count": 104
  },
  {
   "metadata": {
    "ExecuteTime": {
     "end_time": "2024-09-12T14:35:46.837241Z",
     "start_time": "2024-09-12T14:35:46.831813Z"
    }
   },
   "cell_type": "code",
   "source": "assert df.course.isna().sum() == 0",
   "id": "e2adeb1e828e3ef4",
   "outputs": [],
   "execution_count": 105
  },
  {
   "cell_type": "code",
   "id": "d0368be7-35fd-4ac8-bb26-d9f8587e78e9",
   "metadata": {
    "ExecuteTime": {
     "end_time": "2024-09-12T14:35:46.884516Z",
     "start_time": "2024-09-12T14:35:46.877447Z"
    }
   },
   "source": [
    "courses_dummies = pd.get_dummies(df.course, \"course\", dtype=\"int\") \\\n",
    "    .drop(columns=[\"course_Nursing\"])\n",
    "# courses_dummies.columns"
   ],
   "outputs": [],
   "execution_count": 106
  },
  {
   "cell_type": "code",
   "id": "ee8702c3-bb51-40c6-a35a-cf4d1e1a222a",
   "metadata": {
    "ExecuteTime": {
     "end_time": "2024-09-12T14:35:46.943468Z",
     "start_time": "2024-09-12T14:35:46.932627Z"
    }
   },
   "source": [
    "df = df.join(courses_dummies)\n",
    "df.shape"
   ],
   "outputs": [
    {
     "data": {
      "text/plain": [
       "(4424, 75)"
      ]
     },
     "execution_count": 107,
     "metadata": {},
     "output_type": "execute_result"
    }
   ],
   "execution_count": 107
  },
  {
   "cell_type": "markdown",
   "id": "f2389754-0f00-4b47-a6f8-a9a161b6e49d",
   "metadata": {},
   "source": "### 1.4 Daytime Nightime Attendance <a class=\"anchor\" id=\"step4\"></a>"
  },
  {
   "cell_type": "code",
   "id": "ed326867-c14a-42c9-8505-f45d92bd7378",
   "metadata": {
    "ExecuteTime": {
     "end_time": "2024-09-12T14:35:46.999142Z",
     "start_time": "2024-09-12T14:35:46.991757Z"
    }
   },
   "source": [
    "# rename column for clarity\n",
    "df = df.rename(columns={\"daytime/evening_attendance\": \"daytime_attendance\"})"
   ],
   "outputs": [],
   "execution_count": 108
  },
  {
   "cell_type": "markdown",
   "id": "4d3eda7c-ee56-4882-b81d-8fd0801098be",
   "metadata": {},
   "source": [
    "### 1.5 Previous Qualifications <a class=\"anchor\" id=\"step5\"></a>\n",
    "\n",
    "For now, I will encode this feature as an Ordinal feature"
   ]
  },
  {
   "metadata": {
    "ExecuteTime": {
     "end_time": "2024-09-12T14:35:47.072525Z",
     "start_time": "2024-09-12T14:35:47.067324Z"
    }
   },
   "cell_type": "code",
   "source": [
    "mapper = {\n",
    "    1: \"high_school\", 2: \"higher_education\", 3: \"higher_education\", 4: \"graduate_school\",\n",
    "    5: \"graduate_school\", 6: \"higher_education\", 9: \"other\", 10: \"other\", 11: \"other\", 12: \"other\",\n",
    "    14: \"other\", 15: \"other\", 18: \"technical_training\", 19: \"other\", 22: \"technical_training\", 26: \"other\",\n",
    "    27: \"other\", 29: \"other\", 30: \"other\", 34: \"other\", 35: \"other\", 36: \"other\", 37: \"other\",\n",
    "    38: \"other\", 39: \"technical_training\",\n",
    "    40: \"higher_education\", 41: \"technical_training\", 42: \"technical_training\", 43: \"graduate_school\",\n",
    "    44: \"graduate_school\"\n",
    "}"
   ],
   "id": "cfb88082bac4ea82",
   "outputs": [],
   "execution_count": 109
  },
  {
   "metadata": {
    "ExecuteTime": {
     "end_time": "2024-09-12T14:35:47.104150Z",
     "start_time": "2024-09-12T14:35:47.093635Z"
    }
   },
   "cell_type": "code",
   "source": [
    "df.previous_qualification = df.previous_qualification.map(mapper)\n",
    "assert df.previous_qualification.isna().sum() == 0\n",
    "df.previous_qualification.value_counts()"
   ],
   "id": "4f362fbf8d0168fe",
   "outputs": [
    {
     "data": {
      "text/plain": [
       "previous_qualification\n",
       "high_school           3717\n",
       "technical_training     255\n",
       "other                  232\n",
       "higher_education       205\n",
       "graduate_school         15\n",
       "Name: count, dtype: int64"
      ]
     },
     "execution_count": 110,
     "metadata": {},
     "output_type": "execute_result"
    }
   ],
   "execution_count": 110
  },
  {
   "metadata": {
    "ExecuteTime": {
     "end_time": "2024-09-12T14:35:47.183833Z",
     "start_time": "2024-09-12T14:35:47.174802Z"
    }
   },
   "cell_type": "code",
   "source": [
    "from sklearn.preprocessing import OrdinalEncoder\n",
    "\n",
    "ord_encoder = OrdinalEncoder(\n",
    "    categories=[[\"other\", \"high_school\", \"technical_training\", \"higher_education\", \"graduate_school\"]]\n",
    ")\n",
    "ord_encoder.set_output(transform=\"pandas\")\n",
    "df.previous_qualification = ord_encoder.fit_transform(df[[\"previous_qualification\"]])"
   ],
   "id": "b9afb8741a267aae",
   "outputs": [],
   "execution_count": 111
  },
  {
   "metadata": {
    "ExecuteTime": {
     "end_time": "2024-09-12T14:35:47.316448Z",
     "start_time": "2024-09-12T14:35:47.307424Z"
    }
   },
   "cell_type": "code",
   "source": "df.previous_qualification.value_counts()",
   "id": "ec960beb5108f014",
   "outputs": [
    {
     "data": {
      "text/plain": [
       "previous_qualification\n",
       "1.0    3717\n",
       "2.0     255\n",
       "0.0     232\n",
       "3.0     205\n",
       "4.0      15\n",
       "Name: count, dtype: int64"
      ]
     },
     "execution_count": 112,
     "metadata": {},
     "output_type": "execute_result"
    }
   ],
   "execution_count": 112
  },
  {
   "metadata": {},
   "cell_type": "markdown",
   "source": [
    "### 1.6 Nationality <a class=\"anchor\" id=\"step6\">\n",
    "\n",
    "Just mapping these to One Hot encoded columns"
   ],
   "id": "e44c95e39088e599"
  },
  {
   "metadata": {
    "ExecuteTime": {
     "end_time": "2024-09-12T14:35:47.435770Z",
     "start_time": "2024-09-12T14:35:47.423328Z"
    }
   },
   "cell_type": "code",
   "source": [
    "df = df.rename(columns={\"nacionality\": \"nationality\"})  # renaming column\n",
    "\n",
    "# mapping column to categories\n",
    "df.nationality = df.nationality.map({\n",
    "    1: \"Portuguese\", 2: \"German\", 6: \"Spanish\", 11: \"Italian\",\n",
    "    13: \"Dutch\", 14: \"English\", 17: \"Lithuanian\", 21: \"Angolan\",\n",
    "    22: \"Cape_Verdean\", 24: \"Guinean\", 25: \"Mozambican\",\n",
    "    26: \"Santomean\", 32: \"Turkish\", 41: \"Brazilian\",\n",
    "    62: \"Romanian\", 100: \"Moldova_Republic_of\",\n",
    "    101: \"Mexican\", 103: \"Ukrainian\", 105: \"Russian\",\n",
    "    108: \"Cuban\", 109: \"Colombian\"\n",
    "})"
   ],
   "id": "97e49fe84961f521",
   "outputs": [],
   "execution_count": 113
  },
  {
   "metadata": {
    "ExecuteTime": {
     "end_time": "2024-09-12T14:35:47.541084Z",
     "start_time": "2024-09-12T14:35:47.534632Z"
    }
   },
   "cell_type": "code",
   "source": "assert df.nationality.isna().sum() == 0",
   "id": "d4a879f29fdf3651",
   "outputs": [],
   "execution_count": 114
  },
  {
   "metadata": {
    "ExecuteTime": {
     "end_time": "2024-09-12T14:35:47.670233Z",
     "start_time": "2024-09-12T14:35:47.658142Z"
    }
   },
   "cell_type": "code",
   "source": [
    "nationality_to_dummies = pd.get_dummies(df.nationality, \"nationality\", dtype=\"int\") \\\n",
    "    .drop(columns=[\"nationality_Portuguese\"])\n",
    "df = df.join(nationality_to_dummies)\n",
    "df.shape"
   ],
   "id": "a7abf8c3ccb4eb53",
   "outputs": [
    {
     "data": {
      "text/plain": [
       "(4424, 95)"
      ]
     },
     "execution_count": 115,
     "metadata": {},
     "output_type": "execute_result"
    }
   ],
   "execution_count": 115
  },
  {
   "metadata": {},
   "cell_type": "markdown",
   "source": "### 1.7 Mother's Qualification <a class=\"anchor\" id=\"step7\"></a>",
   "id": "717de276f2207591"
  },
  {
   "metadata": {},
   "cell_type": "markdown",
   "source": "This feature was similar enough to Previous Qualifications to be able to use prior mapper.",
   "id": "71c6a67100bff0c9"
  },
  {
   "metadata": {
    "ExecuteTime": {
     "end_time": "2024-09-12T14:35:47.770791Z",
     "start_time": "2024-09-12T14:35:47.759965Z"
    }
   },
   "cell_type": "code",
   "source": [
    "df[\"mother's_qualification\"] = df[\"mother's_qualification\"].map(mapper)\n",
    "assert df[\"mother's_qualification\"].isna().sum() == 0\n",
    "ord_encoder2 = OrdinalEncoder(\n",
    "    categories=[[\"other\", \"high_school\", \"technical_training\", \"higher_education\", \"graduate_school\"]]\n",
    ")\n",
    "ord_encoder2.set_output(transform=\"pandas\")\n",
    "df[\"mother's_qualification\"] = ord_encoder2.fit_transform(df[[\"mother's_qualification\"]])"
   ],
   "id": "a5e1896470ee151d",
   "outputs": [],
   "execution_count": 116
  },
  {
   "metadata": {},
   "cell_type": "markdown",
   "source": [
    "### 1.8 Father's Qualification <a class=\"anchor\" id=\"step8\"></a>\n",
    "\n",
    "Will have to construct a new mapper, then encode feature as a Ordinal Feature"
   ],
   "id": "989b9f9b0eb48428"
  },
  {
   "metadata": {
    "ExecuteTime": {
     "end_time": "2024-09-12T14:35:47.816931Z",
     "start_time": "2024-09-12T14:35:47.811151Z"
    }
   },
   "cell_type": "code",
   "source": [
    "mapper_father = {}\n",
    "other_keys = [7, 8, 9, 10, 11, 12, 17, 18, 19, 20, 21, 24, 25, 26, 27, 28, 35, 36, 37, 38]\n",
    "high_school_keys = [1, 14]\n",
    "technical_training_keys = [13, 15, 16, 22, 23, 29, 32, 39, 41, 42]\n",
    "higher_ed_keys = [2, 3, 6, 30, 31, 40]\n",
    "graduate_school_keys = [4, 5, 33, 34, 43, 44]"
   ],
   "id": "1e548886517ffef",
   "outputs": [],
   "execution_count": 117
  },
  {
   "metadata": {
    "ExecuteTime": {
     "end_time": "2024-09-12T14:35:47.875932Z",
     "start_time": "2024-09-12T14:35:47.871731Z"
    }
   },
   "cell_type": "code",
   "source": [
    "def add_to_dict(mapper_dict, key_list_, value):\n",
    "    for key in key_list_:\n",
    "        mapper_dict[key] = value\n",
    "    return mapper_dict"
   ],
   "id": "7a27675071498ea2",
   "outputs": [],
   "execution_count": 118
  },
  {
   "metadata": {
    "ExecuteTime": {
     "end_time": "2024-09-12T14:35:47.921263Z",
     "start_time": "2024-09-12T14:35:47.915760Z"
    }
   },
   "cell_type": "code",
   "source": "in_data = set(df[\"father's_qualification\"].unique())",
   "id": "3987b95d5d417d4e",
   "outputs": [],
   "execution_count": 119
  },
  {
   "metadata": {
    "ExecuteTime": {
     "end_time": "2024-09-12T14:35:47.962528Z",
     "start_time": "2024-09-12T14:35:47.956135Z"
    }
   },
   "cell_type": "code",
   "source": [
    "categories = [\"other\", \"high_school\", \"technical_training\", \"higher_education\", \"graduate_school\"]\n",
    "key_lists = [other_keys, high_school_keys, technical_training_keys, higher_ed_keys, graduate_school_keys]\n",
    "for category, key_list in zip(categories, key_lists):\n",
    "    mapper_father = add_to_dict(mapper_father, key_list, category)"
   ],
   "id": "b9ef2dc398354699",
   "outputs": [],
   "execution_count": 120
  },
  {
   "metadata": {
    "ExecuteTime": {
     "end_time": "2024-09-12T14:35:48.014570Z",
     "start_time": "2024-09-12T14:35:48.008556Z"
    }
   },
   "cell_type": "code",
   "source": [
    "in_mapper = set(mapper_father.keys())\n",
    "in_data.difference(in_mapper)"
   ],
   "id": "6bfaf4a654b06dbb",
   "outputs": [
    {
     "data": {
      "text/plain": [
       "set()"
      ]
     },
     "execution_count": 121,
     "metadata": {},
     "output_type": "execute_result"
    }
   ],
   "execution_count": 121
  },
  {
   "metadata": {
    "ExecuteTime": {
     "end_time": "2024-09-12T14:35:48.072258Z",
     "start_time": "2024-09-12T14:35:48.064521Z"
    }
   },
   "cell_type": "code",
   "source": [
    "df[\"father's_qualification\"] = df[\"father's_qualification\"].map(mapper_father)\n",
    "assert df[\"father's_qualification\"].isna().sum() == 0"
   ],
   "id": "ee7f7ff6eb2d451b",
   "outputs": [],
   "execution_count": 122
  },
  {
   "metadata": {
    "ExecuteTime": {
     "end_time": "2024-09-12T14:35:48.132300Z",
     "start_time": "2024-09-12T14:35:48.123863Z"
    }
   },
   "cell_type": "code",
   "source": [
    "ord_encoder3 = OrdinalEncoder(\n",
    "    categories=[[\"other\", \"high_school\", \"technical_training\", \"higher_education\", \"graduate_school\"]]\n",
    ")\n",
    "ord_encoder3.set_output(transform=\"pandas\")\n",
    "df[\"father's_qualification\"] = ord_encoder3.fit_transform(df[[\"father's_qualification\"]])"
   ],
   "id": "e87a460eb5ea542b",
   "outputs": [],
   "execution_count": 123
  },
  {
   "metadata": {},
   "cell_type": "markdown",
   "source": "### 1.9 Mother's Occupation <a class=\"anchor\" id=\"step9\"></a>",
   "id": "99b712e577e2df95"
  },
  {
   "metadata": {
    "ExecuteTime": {
     "end_time": "2024-09-12T14:35:48.186670Z",
     "start_time": "2024-09-12T14:35:48.180143Z"
    }
   },
   "cell_type": "code",
   "source": [
    "mother_job_mapper = {\n",
    "    0: \"Student\",\n",
    "    1: \"Representatives of the Legislative Power and Executive Bodies, Directors, Directors and Executive Managers\",\n",
    "    2: \"Specialists in Intellectual and Scientific Activities\",\n",
    "    3: \"Intermediate Level Technicians and Professions\",\n",
    "    4: \"Administrative staff\",\n",
    "    5: \"Personal Services, Security and Safety Workers and Sellers\",\n",
    "    6: \"Farmers and Skilled Workers in Agriculture, Fisheries and Forestry\",\n",
    "    7: \"Skilled Workers in Industry, Construction and Craftsmen\",\n",
    "    8: \"Installation and Machine Operators and Assembly Workers\",\n",
    "    9: \"Unskilled Workers\",\n",
    "    10: \"Armed Forces Professions\",\n",
    "    90: \"Other Situation\",\n",
    "    99: \"(blank)\",\n",
    "    122: \"Health professionals\",\n",
    "    123: \"Teachers\",\n",
    "    125: \"Specialists in information and communication technologies (ICT)\",\n",
    "    131: \"Intermediate level science and engineering technicians and professions\",\n",
    "    132: \"Technicians and professionals, of intermediate level of health\",\n",
    "    134: \"Intermediate level technicians from legal, social, sports, cultural and similar services\",\n",
    "    141: \"Office workers, secretaries in general and data processing operators\",\n",
    "    143: \"Data, accounting, statistical, financial services and registry-related operators\",\n",
    "    144: \"Other administrative support staff\",\n",
    "    151: \"Personal service workers\",\n",
    "    152: \"Sellers\",\n",
    "    153: \"Personal care workers and the like\",\n",
    "    171: \"Skilled construction workers and the like, except electricians\",\n",
    "    173: \"Skilled workers in printing, precision instrument manufacturing, jewelers, artisans and the like\",\n",
    "    175: \"Workers in food processing, woodworking, clothing and other industries and crafts\",\n",
    "    191: \"Cleaning workers\",\n",
    "    192: \"Unskilled workers in agriculture, animal production, fisheries and forestry\",\n",
    "    193: \"Unskilled workers in extractive industry, construction, manufacturing and transport\",\n",
    "    194: \"Meal preparation assistants\"\n",
    "}"
   ],
   "id": "53d9841023df4ce8",
   "outputs": [],
   "execution_count": 124
  },
  {
   "metadata": {
    "ExecuteTime": {
     "end_time": "2024-09-12T14:35:48.237393Z",
     "start_time": "2024-09-12T14:35:48.230358Z"
    }
   },
   "cell_type": "code",
   "source": "assert df[\"mother's_occupation\"].map(mother_job_mapper).isna().sum() == 0",
   "id": "ff13fc6127198248",
   "outputs": [],
   "execution_count": 125
  },
  {
   "metadata": {
    "ExecuteTime": {
     "end_time": "2024-09-12T14:35:48.292201Z",
     "start_time": "2024-09-12T14:35:48.282084Z"
    }
   },
   "cell_type": "code",
   "source": [
    "df[\"mother's_occupation\"] = df[\"mother's_occupation\"].map(mother_job_mapper)\n",
    "df[\"mother's_occupation\"].value_counts()"
   ],
   "id": "399078e765dd4e6c",
   "outputs": [
    {
     "data": {
      "text/plain": [
       "mother's_occupation\n",
       "Unskilled Workers                                                                                             1577\n",
       "Administrative staff                                                                                           817\n",
       "Personal Services, Security and Safety Workers and Sellers                                                     530\n",
       "Intermediate Level Technicians and Professions                                                                 351\n",
       "Specialists in Intellectual and Scientific Activities                                                          318\n",
       "Skilled Workers in Industry, Construction and Craftsmen                                                        272\n",
       "Student                                                                                                        144\n",
       "Representatives of the Legislative Power and Executive Bodies, Directors, Directors and Executive Managers     102\n",
       "Farmers and Skilled Workers in Agriculture, Fisheries and Forestry                                              91\n",
       "Other Situation                                                                                                 70\n",
       "Installation and Machine Operators and Assembly Workers                                                         36\n",
       "Cleaning workers                                                                                                26\n",
       "(blank)                                                                                                         17\n",
       "Meal preparation assistants                                                                                     11\n",
       "Office workers, secretaries in general and data processing operators                                             8\n",
       "Teachers                                                                                                         7\n",
       "Other administrative support staff                                                                               6\n",
       "Workers in food processing, woodworking, clothing and other industries and crafts                                5\n",
       "Unskilled workers in agriculture, animal production, fisheries and forestry                                      5\n",
       "Unskilled workers in extractive industry, construction, manufacturing and transport                              4\n",
       "Intermediate level technicians from legal, social, sports, cultural and similar services                         4\n",
       "Armed Forces Professions                                                                                         4\n",
       "Data, accounting, statistical, financial services and registry-related operators                                 3\n",
       "Personal service workers                                                                                         3\n",
       "Technicians and professionals, of intermediate level of health                                                   3\n",
       "Sellers                                                                                                          2\n",
       "Health professionals                                                                                             2\n",
       "Personal care workers and the like                                                                               2\n",
       "Skilled workers in printing, precision instrument manufacturing, jewelers, artisans and the like                 1\n",
       "Specialists in information and communication technologies (ICT)                                                  1\n",
       "Intermediate level science and engineering technicians and professions                                           1\n",
       "Skilled construction workers and the like, except electricians                                                   1\n",
       "Name: count, dtype: int64"
      ]
     },
     "execution_count": 126,
     "metadata": {},
     "output_type": "execute_result"
    }
   ],
   "execution_count": 126
  },
  {
   "metadata": {
    "ExecuteTime": {
     "end_time": "2024-09-12T14:35:48.366083Z",
     "start_time": "2024-09-12T14:35:48.359276Z"
    }
   },
   "cell_type": "code",
   "source": [
    "mother_job_dummies = pd.get_dummies(df[\"mother's_occupation\"], \"mother_job\", dtype=\"int\") \\\n",
    "    .drop(columns=[\"mother_job_Unskilled Workers\"])"
   ],
   "id": "38d14c402d3d5132",
   "outputs": [],
   "execution_count": 127
  },
  {
   "metadata": {
    "ExecuteTime": {
     "end_time": "2024-09-12T14:35:48.463501Z",
     "start_time": "2024-09-12T14:35:48.453978Z"
    }
   },
   "cell_type": "code",
   "source": [
    "df = df.join(mother_job_dummies)\n",
    "assert df.shape[0] == 4424"
   ],
   "id": "20ef433cc374e84b",
   "outputs": [],
   "execution_count": 128
  },
  {
   "metadata": {},
   "cell_type": "markdown",
   "source": "### 1.10 Father's Occupation <a class=\"anchor\" id=\"step10\"></a>",
   "id": "64d95b0be66bd70c"
  },
  {
   "metadata": {
    "ExecuteTime": {
     "end_time": "2024-09-12T14:35:48.558288Z",
     "start_time": "2024-09-12T14:35:48.551139Z"
    }
   },
   "cell_type": "code",
   "source": [
    "father_job_mapper = {\n",
    "    0: \"Student\",\n",
    "    1: \"Representatives of the Legislative Power and Executive Bodies, Directors, Directors and Executive Managers\",\n",
    "    2: \"Specialists in Intellectual and Scientific Activities\",\n",
    "    3: \"Intermediate Level Technicians and Professions\",\n",
    "    4: \"Administrative staff\",\n",
    "    5: \"Personal Services, Security and Safety Workers and Sellers\",\n",
    "    6: \"Farmers and Skilled Workers in Agriculture, Fisheries and Forestry\",\n",
    "    7: \"Skilled Workers in Industry, Construction and Craftsmen\",\n",
    "    8: \"Installation and Machine Operators and Assembly Workers\",\n",
    "    9: \"Unskilled Workers\",\n",
    "    10: \"Armed Forces Professions\",\n",
    "    90: \"Other Situation\",\n",
    "    99: \"(blank)\",\n",
    "    101: \"Armed Forces Officers\",\n",
    "    102: \"Armed Forces Sergeants\",\n",
    "    103: \"Other Armed Forces personnel\",\n",
    "    112: \"Directors of administrative and commercial services\",\n",
    "    114: \"Hotel, catering, trade and other services directors\",\n",
    "    121: \"Specialists in the physical sciences, mathematics, engineering and related techniques\",\n",
    "    122: \"Health professionals\",\n",
    "    123: \"Teachers\",\n",
    "    124: \"Specialists in finance, accounting, administrative organization, public and commercial relations\",\n",
    "    131: \"Intermediate level science and engineering technicians and professions\",\n",
    "    132: \"Technicians and professionals, of intermediate level of health\",\n",
    "    134: \"Intermediate level technicians from legal, social, sports, cultural and similar services\",\n",
    "    135: \"Information and communication technology technicians\",\n",
    "    141: \"Office workers, secretaries in general and data processing operators\",\n",
    "    143: \"Data, accounting, statistical, financial services and registry-related operators\",\n",
    "    144: \"Other administrative support staff\",\n",
    "    151: \"Personal service workers\",\n",
    "    152: \"Sellers\",\n",
    "    153: \"Personal care workers and the like\",\n",
    "    154: \"Protection and security services personnel\",\n",
    "    161: \"Market-oriented farmers and skilled agricultural and animal production workers\",\n",
    "    163: \"Farmers, livestock keepers, fishermen, hunters and gatherers, subsistence\",\n",
    "    171: \"Skilled construction workers and the like, except electricians\",\n",
    "    172: \"Skilled workers in metallurgy, metalworking and similar\",\n",
    "    174: \"Skilled workers in electricity and electronics\",\n",
    "    175: \"Workers in food processing, woodworking, clothing and other industries and crafts\",\n",
    "    181: \"Fixed plant and machine operators\",\n",
    "    182: \"Assembly workers\",\n",
    "    183: \"Vehicle drivers and mobile equipment operators\",\n",
    "    192: \"Unskilled workers in agriculture, animal production, fisheries and forestry\",\n",
    "    193: \"Unskilled workers in extractive industry, construction, manufacturing and transport\",\n",
    "    194: \"Meal preparation assistants\",\n",
    "    195: \"Street vendors (except food) and street service providers\"\n",
    "}"
   ],
   "id": "db904b36726480c8",
   "outputs": [],
   "execution_count": 129
  },
  {
   "metadata": {
    "ExecuteTime": {
     "end_time": "2024-09-12T14:35:48.613786Z",
     "start_time": "2024-09-12T14:35:48.607274Z"
    }
   },
   "cell_type": "code",
   "source": [
    "assert (mapped_column_father:=df[\"father's_occupation\"].map(father_job_mapper)).isna().sum() == 0\n",
    "assert mapped_column_father.size == 4424"
   ],
   "id": "d001815460c56361",
   "outputs": [],
   "execution_count": 130
  },
  {
   "metadata": {
    "ExecuteTime": {
     "end_time": "2024-09-12T14:35:48.709796Z",
     "start_time": "2024-09-12T14:35:48.701178Z"
    }
   },
   "cell_type": "code",
   "source": "mapped_column_father.value_counts().sort_values(ascending=False).iloc[:5]",
   "id": "1a4b4b883a5205b9",
   "outputs": [
    {
     "data": {
      "text/plain": [
       "father's_occupation\n",
       "Unskilled Workers                                             1010\n",
       "Skilled Workers in Industry, Construction and Craftsmen        666\n",
       "Personal Services, Security and Safety Workers and Sellers     516\n",
       "Administrative staff                                           386\n",
       "Intermediate Level Technicians and Professions                 384\n",
       "Name: count, dtype: int64"
      ]
     },
     "execution_count": 131,
     "metadata": {},
     "output_type": "execute_result"
    }
   ],
   "execution_count": 131
  },
  {
   "metadata": {
    "ExecuteTime": {
     "end_time": "2024-09-12T14:35:48.759422Z",
     "start_time": "2024-09-12T14:35:48.750473Z"
    }
   },
   "cell_type": "code",
   "source": [
    "father_job_dummies = pd.get_dummies(mapped_column_father, \"father_job\", dtype=\"int\")\\\n",
    "    .drop(columns=[\"father_job_Unskilled Workers\"])"
   ],
   "id": "aca504d1e6d34752",
   "outputs": [],
   "execution_count": 132
  },
  {
   "metadata": {
    "ExecuteTime": {
     "end_time": "2024-09-12T14:35:48.847040Z",
     "start_time": "2024-09-12T14:35:48.842048Z"
    }
   },
   "cell_type": "code",
   "source": "assert father_job_dummies.shape == (4424, len(df[\"father's_occupation\"].unique()) - 1)",
   "id": "800e4d9a1beba83e",
   "outputs": [],
   "execution_count": 133
  },
  {
   "metadata": {
    "ExecuteTime": {
     "end_time": "2024-09-12T14:35:48.989933Z",
     "start_time": "2024-09-12T14:35:48.981077Z"
    }
   },
   "cell_type": "code",
   "source": [
    "df = df.join(father_job_dummies)\n",
    "assert df.shape[0] == 4424"
   ],
   "id": "8bebf15f583b77c4",
   "outputs": [],
   "execution_count": 134
  },
  {
   "metadata": {},
   "cell_type": "markdown",
   "source": "### 1.11 Gender Rename <a class=\"anchor\" id=\"step11\"></a>",
   "id": "d032ca1e0a852d72"
  },
  {
   "metadata": {
    "ExecuteTime": {
     "end_time": "2024-09-12T14:35:49.006824Z",
     "start_time": "2024-09-12T14:35:48.996231Z"
    }
   },
   "cell_type": "code",
   "source": "df = df.rename({\"gender\": \"is_male\"})",
   "id": "96b011ef47e86f87",
   "outputs": [],
   "execution_count": 135
  },
  {
   "metadata": {
    "ExecuteTime": {
     "end_time": "2024-09-12T14:35:49.063865Z",
     "start_time": "2024-09-12T14:35:49.057048Z"
    }
   },
   "cell_type": "code",
   "source": "df.shape",
   "id": "734c5aa3c3416413",
   "outputs": [
    {
     "data": {
      "text/plain": [
       "(4424, 171)"
      ]
     },
     "execution_count": 136,
     "metadata": {},
     "output_type": "execute_result"
    }
   ],
   "execution_count": 136
  },
  {
   "metadata": {},
   "cell_type": "markdown",
   "source": "### 1.12 Encode the Target <a class=\"anchor\" id=\"step12\"></a>",
   "id": "10444b9176796405"
  },
  {
   "metadata": {
    "ExecuteTime": {
     "end_time": "2024-09-12T14:35:49.168783Z",
     "start_time": "2024-09-12T14:35:49.161633Z"
    }
   },
   "cell_type": "code",
   "source": [
    "target_map = {\"Enrolled\": 1, \"Dropout\": 0, \"Graduate\": 2}\n",
    "df[\"target\"] = df[\"target\"].map(target_map)"
   ],
   "id": "53f6bd33457a881a",
   "outputs": [],
   "execution_count": 137
  },
  {
   "metadata": {},
   "cell_type": "markdown",
   "source": "### Write to file",
   "id": "1f9f182e81fdff76"
  },
  {
   "metadata": {
    "ExecuteTime": {
     "end_time": "2024-09-12T14:35:49.264042Z",
     "start_time": "2024-09-12T14:35:49.251022Z"
    }
   },
   "cell_type": "code",
   "source": "df.select_dtypes(exclude=\"object\").dtypes.value_counts()",
   "id": "9d447e6351d57da5",
   "outputs": [
    {
     "data": {
      "text/plain": [
       "int32      134\n",
       "int64       22\n",
       "float64     10\n",
       "Name: count, dtype: int64"
      ]
     },
     "execution_count": 138,
     "metadata": {},
     "output_type": "execute_result"
    }
   ],
   "execution_count": 138
  },
  {
   "metadata": {
    "ExecuteTime": {
     "end_time": "2024-09-12T14:35:49.489900Z",
     "start_time": "2024-09-12T14:35:49.342491Z"
    }
   },
   "cell_type": "code",
   "source": [
    "df = df.select_dtypes(exclude=\"object\")\n",
    "df.to_csv(\"data/cleaned_data_baseline.csv\", index=False)"
   ],
   "id": "a6f8426380324784",
   "outputs": [],
   "execution_count": 139
  }
 ],
 "metadata": {
  "kernelspec": {
   "display_name": "Python 3 (ipykernel)",
   "language": "python",
   "name": "python3"
  },
  "language_info": {
   "codemirror_mode": {
    "name": "ipython",
    "version": 3
   },
   "file_extension": ".py",
   "mimetype": "text/x-python",
   "name": "python",
   "nbconvert_exporter": "python",
   "pygments_lexer": "ipython3",
   "version": "3.10.14"
  }
 },
 "nbformat": 4,
 "nbformat_minor": 5
}
