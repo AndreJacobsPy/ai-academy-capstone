{
 "cells": [
  {
   "cell_type": "markdown",
   "id": "8f56b672380d1908",
   "metadata": {},
   "source": [
    "# Data Preparation"
   ]
  },
  {
   "cell_type": "markdown",
   "id": "8894a16e42cf691c",
   "metadata": {},
   "source": [
    "## Table of Contents\n",
    "\n",
    "1. [Data Cleaning for Baseline Model](#dc-base)\n",
    "    - [Marital Status One Hot Encoding](#step1)\n",
    "    - [Application Mode One Hot Encoding](#step2)\n",
    "    - [Course One Hot Encoding](#step3)\n",
    "    - [Rename Daytime/Nighttime Attendance](#step4)\n",
    "    - [Modify Previous Qualifications](#step5)"
   ]
  },
  {
   "cell_type": "code",
   "execution_count": 1,
   "id": "3a1776e8-6f10-4328-9d17-072f1d24d525",
   "metadata": {
    "ExecuteTime": {
     "end_time": "2024-09-10T19:14:42.246430Z",
     "start_time": "2024-09-10T19:14:42.221360Z"
    }
   },
   "outputs": [
    {
     "data": {
      "text/html": [
       "<div>\n",
       "<style scoped>\n",
       "    .dataframe tbody tr th:only-of-type {\n",
       "        vertical-align: middle;\n",
       "    }\n",
       "\n",
       "    .dataframe tbody tr th {\n",
       "        vertical-align: top;\n",
       "    }\n",
       "\n",
       "    .dataframe thead th {\n",
       "        text-align: right;\n",
       "    }\n",
       "</style>\n",
       "<table border=\"1\" class=\"dataframe\">\n",
       "  <thead>\n",
       "    <tr style=\"text-align: right;\">\n",
       "      <th></th>\n",
       "      <th>Marital status</th>\n",
       "      <th>Application mode</th>\n",
       "      <th>Application order</th>\n",
       "      <th>Course</th>\n",
       "      <th>Daytime/evening attendance\\t</th>\n",
       "      <th>Previous qualification</th>\n",
       "      <th>Previous qualification (grade)</th>\n",
       "      <th>Nacionality</th>\n",
       "      <th>Mother's qualification</th>\n",
       "      <th>Father's qualification</th>\n",
       "      <th>...</th>\n",
       "      <th>Curricular units 2nd sem (credited)</th>\n",
       "      <th>Curricular units 2nd sem (enrolled)</th>\n",
       "      <th>Curricular units 2nd sem (evaluations)</th>\n",
       "      <th>Curricular units 2nd sem (approved)</th>\n",
       "      <th>Curricular units 2nd sem (grade)</th>\n",
       "      <th>Curricular units 2nd sem (without evaluations)</th>\n",
       "      <th>Unemployment rate</th>\n",
       "      <th>Inflation rate</th>\n",
       "      <th>GDP</th>\n",
       "      <th>Target</th>\n",
       "    </tr>\n",
       "  </thead>\n",
       "  <tbody>\n",
       "    <tr>\n",
       "      <th>0</th>\n",
       "      <td>1</td>\n",
       "      <td>17</td>\n",
       "      <td>5</td>\n",
       "      <td>171</td>\n",
       "      <td>1</td>\n",
       "      <td>1</td>\n",
       "      <td>122.0</td>\n",
       "      <td>1</td>\n",
       "      <td>19</td>\n",
       "      <td>12</td>\n",
       "      <td>...</td>\n",
       "      <td>0</td>\n",
       "      <td>0</td>\n",
       "      <td>0</td>\n",
       "      <td>0</td>\n",
       "      <td>0.000000</td>\n",
       "      <td>0</td>\n",
       "      <td>10.8</td>\n",
       "      <td>1.4</td>\n",
       "      <td>1.74</td>\n",
       "      <td>Dropout</td>\n",
       "    </tr>\n",
       "    <tr>\n",
       "      <th>1</th>\n",
       "      <td>1</td>\n",
       "      <td>15</td>\n",
       "      <td>1</td>\n",
       "      <td>9254</td>\n",
       "      <td>1</td>\n",
       "      <td>1</td>\n",
       "      <td>160.0</td>\n",
       "      <td>1</td>\n",
       "      <td>1</td>\n",
       "      <td>3</td>\n",
       "      <td>...</td>\n",
       "      <td>0</td>\n",
       "      <td>6</td>\n",
       "      <td>6</td>\n",
       "      <td>6</td>\n",
       "      <td>13.666667</td>\n",
       "      <td>0</td>\n",
       "      <td>13.9</td>\n",
       "      <td>-0.3</td>\n",
       "      <td>0.79</td>\n",
       "      <td>Graduate</td>\n",
       "    </tr>\n",
       "    <tr>\n",
       "      <th>2</th>\n",
       "      <td>1</td>\n",
       "      <td>1</td>\n",
       "      <td>5</td>\n",
       "      <td>9070</td>\n",
       "      <td>1</td>\n",
       "      <td>1</td>\n",
       "      <td>122.0</td>\n",
       "      <td>1</td>\n",
       "      <td>37</td>\n",
       "      <td>37</td>\n",
       "      <td>...</td>\n",
       "      <td>0</td>\n",
       "      <td>6</td>\n",
       "      <td>0</td>\n",
       "      <td>0</td>\n",
       "      <td>0.000000</td>\n",
       "      <td>0</td>\n",
       "      <td>10.8</td>\n",
       "      <td>1.4</td>\n",
       "      <td>1.74</td>\n",
       "      <td>Dropout</td>\n",
       "    </tr>\n",
       "    <tr>\n",
       "      <th>3</th>\n",
       "      <td>1</td>\n",
       "      <td>17</td>\n",
       "      <td>2</td>\n",
       "      <td>9773</td>\n",
       "      <td>1</td>\n",
       "      <td>1</td>\n",
       "      <td>122.0</td>\n",
       "      <td>1</td>\n",
       "      <td>38</td>\n",
       "      <td>37</td>\n",
       "      <td>...</td>\n",
       "      <td>0</td>\n",
       "      <td>6</td>\n",
       "      <td>10</td>\n",
       "      <td>5</td>\n",
       "      <td>12.400000</td>\n",
       "      <td>0</td>\n",
       "      <td>9.4</td>\n",
       "      <td>-0.8</td>\n",
       "      <td>-3.12</td>\n",
       "      <td>Graduate</td>\n",
       "    </tr>\n",
       "    <tr>\n",
       "      <th>4</th>\n",
       "      <td>2</td>\n",
       "      <td>39</td>\n",
       "      <td>1</td>\n",
       "      <td>8014</td>\n",
       "      <td>0</td>\n",
       "      <td>1</td>\n",
       "      <td>100.0</td>\n",
       "      <td>1</td>\n",
       "      <td>37</td>\n",
       "      <td>38</td>\n",
       "      <td>...</td>\n",
       "      <td>0</td>\n",
       "      <td>6</td>\n",
       "      <td>6</td>\n",
       "      <td>6</td>\n",
       "      <td>13.000000</td>\n",
       "      <td>0</td>\n",
       "      <td>13.9</td>\n",
       "      <td>-0.3</td>\n",
       "      <td>0.79</td>\n",
       "      <td>Graduate</td>\n",
       "    </tr>\n",
       "  </tbody>\n",
       "</table>\n",
       "<p>5 rows × 37 columns</p>\n",
       "</div>"
      ],
      "text/plain": [
       "   Marital status  Application mode  Application order  Course  \\\n",
       "0               1                17                  5     171   \n",
       "1               1                15                  1    9254   \n",
       "2               1                 1                  5    9070   \n",
       "3               1                17                  2    9773   \n",
       "4               2                39                  1    8014   \n",
       "\n",
       "   Daytime/evening attendance\\t  Previous qualification  \\\n",
       "0                             1                       1   \n",
       "1                             1                       1   \n",
       "2                             1                       1   \n",
       "3                             1                       1   \n",
       "4                             0                       1   \n",
       "\n",
       "   Previous qualification (grade)  Nacionality  Mother's qualification  \\\n",
       "0                           122.0            1                      19   \n",
       "1                           160.0            1                       1   \n",
       "2                           122.0            1                      37   \n",
       "3                           122.0            1                      38   \n",
       "4                           100.0            1                      37   \n",
       "\n",
       "   Father's qualification  ...  Curricular units 2nd sem (credited)  \\\n",
       "0                      12  ...                                    0   \n",
       "1                       3  ...                                    0   \n",
       "2                      37  ...                                    0   \n",
       "3                      37  ...                                    0   \n",
       "4                      38  ...                                    0   \n",
       "\n",
       "   Curricular units 2nd sem (enrolled)  \\\n",
       "0                                    0   \n",
       "1                                    6   \n",
       "2                                    6   \n",
       "3                                    6   \n",
       "4                                    6   \n",
       "\n",
       "   Curricular units 2nd sem (evaluations)  \\\n",
       "0                                       0   \n",
       "1                                       6   \n",
       "2                                       0   \n",
       "3                                      10   \n",
       "4                                       6   \n",
       "\n",
       "   Curricular units 2nd sem (approved)  Curricular units 2nd sem (grade)  \\\n",
       "0                                    0                          0.000000   \n",
       "1                                    6                         13.666667   \n",
       "2                                    0                          0.000000   \n",
       "3                                    5                         12.400000   \n",
       "4                                    6                         13.000000   \n",
       "\n",
       "   Curricular units 2nd sem (without evaluations)  Unemployment rate  \\\n",
       "0                                               0               10.8   \n",
       "1                                               0               13.9   \n",
       "2                                               0               10.8   \n",
       "3                                               0                9.4   \n",
       "4                                               0               13.9   \n",
       "\n",
       "   Inflation rate   GDP    Target  \n",
       "0             1.4  1.74   Dropout  \n",
       "1            -0.3  0.79  Graduate  \n",
       "2             1.4  1.74   Dropout  \n",
       "3            -0.8 -3.12  Graduate  \n",
       "4            -0.3  0.79  Graduate  \n",
       "\n",
       "[5 rows x 37 columns]"
      ]
     },
     "execution_count": 1,
     "metadata": {},
     "output_type": "execute_result"
    }
   ],
   "source": [
    "import pandas as pd\n",
    "\n",
    "data = pd.read_csv(\"data/student-dropout-academic-success.csv\", sep=\";\")\n",
    "df = data.copy()\n",
    "data.head()"
   ]
  },
  {
   "cell_type": "code",
   "execution_count": 14,
   "id": "011c1072-75af-4616-b1ae-ab993481668c",
   "metadata": {},
   "outputs": [
    {
     "data": {
      "text/plain": [
       "Index(['marital_status', 'application_mode', 'application_order', 'course',\n",
       "       'daytime/evening_attendance', 'previous_qualification',\n",
       "       'previous_qualification_(grade)', 'nacionality',\n",
       "       'mother's_qualification', 'father's_qualification',\n",
       "       'mother's_occupation', 'father's_occupation', 'admission_grade',\n",
       "       'displaced', 'educational_special_needs', 'debtor',\n",
       "       'tuition_fees_up_to_date', 'gender', 'scholarship_holder',\n",
       "       'age_at_enrollment', 'international',\n",
       "       'curricular_units_1st_sem_(credited)',\n",
       "       'curricular_units_1st_sem_(enrolled)',\n",
       "       'curricular_units_1st_sem_(evaluations)',\n",
       "       'curricular_units_1st_sem_(approved)',\n",
       "       'curricular_units_1st_sem_(grade)',\n",
       "       'curricular_units_1st_sem_(without_evaluations)',\n",
       "       'curricular_units_2nd_sem_(credited)',\n",
       "       'curricular_units_2nd_sem_(enrolled)',\n",
       "       'curricular_units_2nd_sem_(evaluations)',\n",
       "       'curricular_units_2nd_sem_(approved)',\n",
       "       'curricular_units_2nd_sem_(grade)',\n",
       "       'curricular_units_2nd_sem_(without_evaluations)', 'unemployment_rate',\n",
       "       'inflation_rate', 'gdp', 'target', 'marital_status_divorced',\n",
       "       'marital_status_facto_union', 'marital_status_legally_separated',\n",
       "       'marital_status_married', 'marital_status_widower',\n",
       "       'application_mode_1st_phase_special_contingent_azores_island',\n",
       "       'application_mode_1st_phase_special_contingent_madeira_island',\n",
       "       'application_mode_2nd_phase_general_contingent',\n",
       "       'application_mode_3rd_phase_general_contingent',\n",
       "       'application_mode_change_of_course',\n",
       "       'application_mode_change_of_institution_course',\n",
       "       'application_mode_change_of_institution_course_international',\n",
       "       'application_mode_holders_of_other_higher_courses',\n",
       "       'application_mode_international_student_bachelor',\n",
       "       'application_mode_ordinance_no_533-a/99_item_b2_different_plan',\n",
       "       'application_mode_ordinance_no_533-a/99_item_b3_other_institution',\n",
       "       'application_mode_ordinance_no_612/93',\n",
       "       'application_mode_ordinance_no_854-b/99',\n",
       "       'application_mode_over_23_years_old',\n",
       "       'application_mode_short_cycle_diploma_holders',\n",
       "       'application_mode_technological_specialization_diploma_holders',\n",
       "       'application_mode_transfer',\n",
       "       'course_advertising_and_marketing_management', 'course_agronomy',\n",
       "       'course_animation_and_multimedia_design', 'course_basic_education',\n",
       "       'course_biofuel_production_technologies', 'course_communication_design',\n",
       "       'course_equinculture', 'course_informatics_engineering',\n",
       "       'course_journalism_and_communication', 'course_management',\n",
       "       'course_management_evening_attendance', 'course_oral_hygiene',\n",
       "       'course_social_service', 'course_social_service_evening_attendance',\n",
       "       'course_tourism', 'course_veterinary_nursing'],\n",
       "      dtype='object')"
      ]
     },
     "execution_count": 14,
     "metadata": {},
     "output_type": "execute_result"
    }
   ],
   "source": [
    "df.columns = df.columns.str.lower().str.replace(\" \", \"_\").str.strip()\n",
    "df.columns"
   ]
  },
  {
   "cell_type": "markdown",
   "id": "8df9e6bba1893ba2",
   "metadata": {},
   "source": [
    "## Data Cleaning for Baseline Model <a class=\"anchor\" id=\"dc-base\"></a>\n",
    "\n",
    "We will start by cleaning the data for the baseline model. This will be for a target variable as is with Dropout, Enrolled, and Graduated."
   ]
  },
  {
   "cell_type": "markdown",
   "id": "3117736f3007f000",
   "metadata": {},
   "source": [
    "### 1.1 Marital Status <a class=\"anchor\" id=\"step1\"></a>\n",
    "\n",
    "For now, we will convert this to a One Hot Encoded variable."
   ]
  },
  {
   "cell_type": "code",
   "execution_count": 3,
   "id": "f806a2ae968c4691",
   "metadata": {},
   "outputs": [
    {
     "data": {
      "text/plain": [
       "array([1, 2, 4, 3, 5, 6], dtype=int64)"
      ]
     },
     "execution_count": 3,
     "metadata": {},
     "output_type": "execute_result"
    }
   ],
   "source": [
    "df.marital_status.unique()"
   ]
  },
  {
   "cell_type": "code",
   "execution_count": 4,
   "id": "f79b15ed-30d2-4ec1-a030-355aaa714d13",
   "metadata": {},
   "outputs": [],
   "source": [
    "# mapping to string values so one hot encoding columns make sense\n",
    "df.marital_status = df.marital_status.map(\n",
    "    {1: \"single\", 2: \"married\", 3: \"widower\", 4: \"divorced\", 5: \"facto_union\", 6: \"legally_separated\"}\n",
    ")"
   ]
  },
  {
   "cell_type": "code",
   "execution_count": 5,
   "id": "9e64bcd9-d881-48f6-a1a1-ccbcb35ca3f4",
   "metadata": {},
   "outputs": [
    {
     "data": {
      "text/plain": [
       "(4424, 42)"
      ]
     },
     "execution_count": 5,
     "metadata": {},
     "output_type": "execute_result"
    }
   ],
   "source": [
    "marital_status_df = pd.get_dummies(df.marital_status, \"marital_status\", dtype=\"int\")\\\n",
    "    .drop(\"marital_status_single\", axis=1)\n",
    "df = df.join(marital_status_df)\n",
    "df.shape"
   ]
  },
  {
   "cell_type": "markdown",
   "id": "3f2be35f-7dbb-4229-a6c7-ed22bf5a542b",
   "metadata": {},
   "source": [
    "### 1.2 Application Mode <a class=\"anchor\" id=\"step2\"></a>\n",
    "\n",
    "Need to convert back to labels then One Hot Encode them. For now I will just drop first because it is hard to get a column to drop through intuition."
   ]
  },
  {
   "cell_type": "code",
   "execution_count": 6,
   "id": "a679b33a-2fec-4805-b13b-04e305de4b96",
   "metadata": {},
   "outputs": [],
   "source": [
    "df.application_mode = df.application_mode.map({\n",
    "    1: \"1st_phase_general_contingent\", 2: \"Ordinance_No_612/93\", \n",
    "    5: \"1st_phase_special_contingent_Azores_Island\", \n",
    "    7: \"Holders_of_other_higher_courses\", 10: \"Ordinance_No_854-B/99\",\n",
    "    15: \"International_student_bachelor\", \n",
    "    16: \"1st_phase_special_contingent_Madeira_Island\",\n",
    "    17: \"2nd_phase_general_contingent\", 18: \"3rd_phase_general_contingent\",\n",
    "    26: \"Ordinance_No_533-A/99_item_b2_Different_Plan\",\n",
    "    27: \"Ordinance_No_533-A/99_item_b3_Other_Institution\",\n",
    "    39: \"Over_23_years_old\", 42: \"Transfer\", 43: \"Change_of_course\",\n",
    "    44: \"Technological_specialization_diploma_holders\",\n",
    "    51: \"Change_of_institution_course\", 53: \"Short_cycle_diploma_holders\",\n",
    "    57: \"Change_of_institution_course_International\"\n",
    "})"
   ]
  },
  {
   "cell_type": "code",
   "execution_count": 7,
   "id": "0329ed7a-4ee0-4a43-ba4c-f864dc8f3fc7",
   "metadata": {},
   "outputs": [],
   "source": [
    "applictaion_mode_dummies = pd.get_dummies(df.application_mode, \"application_mode\", drop_first=True, dtype=\"int\")\n",
    "# applictaion_mode_dummies"
   ]
  },
  {
   "cell_type": "code",
   "execution_count": 8,
   "id": "dfc18d5c-e2b6-4790-933d-37c4149bbd83",
   "metadata": {},
   "outputs": [
    {
     "data": {
      "text/plain": [
       "(4424, 59)"
      ]
     },
     "execution_count": 8,
     "metadata": {},
     "output_type": "execute_result"
    }
   ],
   "source": [
    "df = df.join(applictaion_mode_dummies)\n",
    "df.shape"
   ]
  },
  {
   "cell_type": "markdown",
   "id": "6a87457a-f18d-4efe-944f-92a675cc16dd",
   "metadata": {},
   "source": [
    "## Course <a class=\"anchor\" id=\"step3\"></a>\n",
    "\n",
    "For this feature I need to map integers to real values then One Hot Encode them into categories.\n",
    "\n",
    "I will use Nursing as the reference column due to the fact it has the most rows."
   ]
  },
  {
   "cell_type": "code",
   "execution_count": 9,
   "id": "ffeee3b2-3c66-441c-9520-377c7b752314",
   "metadata": {},
   "outputs": [],
   "source": [
    "# mapping course numbers to their respective name\n",
    "df.course = df.course.map({\n",
    "    33: \"Biofuel_Production_Technologies\", 171: \"Animation_and_Multimedia_Design\",\n",
    "    8014: \"Social_Service_evening_attendance\", 9003: \"Agronomy\",\n",
    "    9070: \"Communication_Design\", 9085: \"Veterinary_Nursing\",\n",
    "    9119: \"Informatics_Engineering\", 9130: \"Equinculture\",\n",
    "    9147: \"Management\", 9238: \"Social_Service\",\n",
    "    9254: \"Tourism\", 9500: \"Nursing\",\n",
    "    9556: \"Oral_Hygiene\", 9670: \"Advertising_and_Marketing_Management\",\n",
    "    9773: \"Journalism_and_Communication\", 9853: \"Basic_Education\",\n",
    "    9991: \"Management_evening_attendance\"\n",
    "})"
   ]
  },
  {
   "cell_type": "code",
   "execution_count": 11,
   "id": "d0368be7-35fd-4ac8-bb26-d9f8587e78e9",
   "metadata": {},
   "outputs": [
    {
     "data": {
      "text/plain": [
       "Index(['course_Advertising_and_Marketing_Management', 'course_Agronomy',\n",
       "       'course_Animation_and_Multimedia_Design', 'course_Basic_Education',\n",
       "       'course_Biofuel_Production_Technologies', 'course_Communication_Design',\n",
       "       'course_Equinculture', 'course_Informatics_Engineering',\n",
       "       'course_Journalism_and_Communication', 'course_Management',\n",
       "       'course_Management_evening_attendance', 'course_Oral_Hygiene',\n",
       "       'course_Social_Service', 'course_Social_Service_evening_attendance',\n",
       "       'course_Tourism', 'course_Veterinary_Nursing'],\n",
       "      dtype='object')"
      ]
     },
     "execution_count": 11,
     "metadata": {},
     "output_type": "execute_result"
    }
   ],
   "source": [
    "courses_dummies = pd.get_dummies(df.course, \"course\", dtype=\"int\")\\\n",
    "    .drop(columns=[\"course_Nursing\"])\n",
    "courses_dummies.columns"
   ]
  },
  {
   "cell_type": "code",
   "execution_count": 12,
   "id": "ee8702c3-bb51-40c6-a35a-cf4d1e1a222a",
   "metadata": {},
   "outputs": [
    {
     "data": {
      "text/plain": [
       "(4424, 75)"
      ]
     },
     "execution_count": 12,
     "metadata": {},
     "output_type": "execute_result"
    }
   ],
   "source": [
    "df = df.join(courses_dummies)\n",
    "df.shape"
   ]
  },
  {
   "cell_type": "markdown",
   "id": "f2389754-0f00-4b47-a6f8-a9a161b6e49d",
   "metadata": {},
   "source": [
    "### Daytime Nightime Attendance <a class=\"anchor\" id=\"step4\"></a>"
   ]
  },
  {
   "cell_type": "code",
   "execution_count": 17,
   "id": "ed326867-c14a-42c9-8505-f45d92bd7378",
   "metadata": {},
   "outputs": [],
   "source": [
    "# rename column for clarity\n",
    "df = df.rename(columns={\"daytime/evening_attendance\": \"daytime_attendance\"})"
   ]
  },
  {
   "cell_type": "markdown",
   "id": "4d3eda7c-ee56-4882-b81d-8fd0801098be",
   "metadata": {},
   "source": [
    "### Previous Qualifications <a class=\"anchor\" id=\"step5\"></a>"
   ]
  },
  {
   "cell_type": "code",
   "execution_count": null,
   "id": "6df5e042-0f51-463f-83ae-e800775ce0a7",
   "metadata": {},
   "outputs": [],
   "source": []
  }
 ],
 "metadata": {
  "kernelspec": {
   "display_name": "Python 3 (ipykernel)",
   "language": "python",
   "name": "python3"
  },
  "language_info": {
   "codemirror_mode": {
    "name": "ipython",
    "version": 3
   },
   "file_extension": ".py",
   "mimetype": "text/x-python",
   "name": "python",
   "nbconvert_exporter": "python",
   "pygments_lexer": "ipython3",
   "version": "3.10.14"
  }
 },
 "nbformat": 4,
 "nbformat_minor": 5
}
