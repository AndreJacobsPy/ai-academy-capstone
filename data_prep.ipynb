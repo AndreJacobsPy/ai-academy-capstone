{
 "cells": [
  {
   "cell_type": "markdown",
   "metadata": {},
   "source": [
    "# Data Preparation"
   ],
   "id": "27a9118c9076835f"
  },
  {
   "cell_type": "markdown",
   "metadata": {},
   "source": [
    "## Table of Contents\n",
    "\n",
    "1. [Data Cleaning for Baseline Model](#dc-base)\n",
    "    - [1.1 Marital Status One Hot Encoding](#step1)\n",
    "    - [1.2 Application Mode One Hot Encoding](#step2)\n",
    "    - [1.3 Course One Hot Encoding](#step3)\n",
    "    - [1.4 Rename Daytime/Nighttime Attendance](#step4)\n",
    "    - [1.5 Modify Previous Qualifications](#step5)\n",
    "    - [1.6 Nationality Mapping](#step6)\n",
    "    - [1.7 Modify Mother's Qualifications](#step7)\n",
    "    - [1.8 Modify Father's Qualifications](#step8)\n",
    "    - [1.9 Mother's Occupation Cleaning](#step9)\n",
    "    - [1.10 Father's Occupation Cleaning](#step10)\n",
    "    - [1.11 Rename Gender Column](#step11)\n",
    "    - [1.12 Encode the Target](#step12)"
   ],
   "id": "953107672c4607db"
  },
  {
   "metadata": {},
   "cell_type": "markdown",
   "source": "This is the notebook where data is cleaned and prepared for the baseline model. The data is then saved to a csv file for later use. Also, further feature engineering is done to see if we can improve the model. The code is written in a very systematic way looking at each feature and cleaning it. FOr the baseline model I just tried to get the data in a format that can be used for a model. For the feature engineering I tried to see if I could get more value from the data, by shrinking features on columns that had to be One Hot encoded. An issue in the data was many columns were categorical and had many categories so data got wide fast.",
   "id": "48cec2fb03ea0439"
  },
  {
   "cell_type": "code",
   "metadata": {
    "ExecuteTime": {
     "end_time": "2024-09-30T22:03:09.261559Z",
     "start_time": "2024-09-30T22:03:08.703680Z"
    }
   },
   "source": [
    "import pandas as pd\n",
    "\n",
    "data = pd.read_csv(\"data/student-dropout-academic-success.csv\", sep=\";\")\n",
    "df = data.copy()\n",
    "data.head(3)"
   ],
   "id": "d98447a405d8f6df",
   "outputs": [
    {
     "data": {
      "text/plain": [
       "   Marital status  Application mode  Application order  Course  \\\n",
       "0               1                17                  5     171   \n",
       "1               1                15                  1    9254   \n",
       "2               1                 1                  5    9070   \n",
       "\n",
       "   Daytime/evening attendance\\t  Previous qualification  \\\n",
       "0                             1                       1   \n",
       "1                             1                       1   \n",
       "2                             1                       1   \n",
       "\n",
       "   Previous qualification (grade)  Nacionality  Mother's qualification  \\\n",
       "0                           122.0            1                      19   \n",
       "1                           160.0            1                       1   \n",
       "2                           122.0            1                      37   \n",
       "\n",
       "   Father's qualification  ...  Curricular units 2nd sem (credited)  \\\n",
       "0                      12  ...                                    0   \n",
       "1                       3  ...                                    0   \n",
       "2                      37  ...                                    0   \n",
       "\n",
       "   Curricular units 2nd sem (enrolled)  \\\n",
       "0                                    0   \n",
       "1                                    6   \n",
       "2                                    6   \n",
       "\n",
       "   Curricular units 2nd sem (evaluations)  \\\n",
       "0                                       0   \n",
       "1                                       6   \n",
       "2                                       0   \n",
       "\n",
       "   Curricular units 2nd sem (approved)  Curricular units 2nd sem (grade)  \\\n",
       "0                                    0                          0.000000   \n",
       "1                                    6                         13.666667   \n",
       "2                                    0                          0.000000   \n",
       "\n",
       "   Curricular units 2nd sem (without evaluations)  Unemployment rate  \\\n",
       "0                                               0               10.8   \n",
       "1                                               0               13.9   \n",
       "2                                               0               10.8   \n",
       "\n",
       "   Inflation rate   GDP    Target  \n",
       "0             1.4  1.74   Dropout  \n",
       "1            -0.3  0.79  Graduate  \n",
       "2             1.4  1.74   Dropout  \n",
       "\n",
       "[3 rows x 37 columns]"
      ],
      "text/html": [
       "<div>\n",
       "<style scoped>\n",
       "    .dataframe tbody tr th:only-of-type {\n",
       "        vertical-align: middle;\n",
       "    }\n",
       "\n",
       "    .dataframe tbody tr th {\n",
       "        vertical-align: top;\n",
       "    }\n",
       "\n",
       "    .dataframe thead th {\n",
       "        text-align: right;\n",
       "    }\n",
       "</style>\n",
       "<table border=\"1\" class=\"dataframe\">\n",
       "  <thead>\n",
       "    <tr style=\"text-align: right;\">\n",
       "      <th></th>\n",
       "      <th>Marital status</th>\n",
       "      <th>Application mode</th>\n",
       "      <th>Application order</th>\n",
       "      <th>Course</th>\n",
       "      <th>Daytime/evening attendance\\t</th>\n",
       "      <th>Previous qualification</th>\n",
       "      <th>Previous qualification (grade)</th>\n",
       "      <th>Nacionality</th>\n",
       "      <th>Mother's qualification</th>\n",
       "      <th>Father's qualification</th>\n",
       "      <th>...</th>\n",
       "      <th>Curricular units 2nd sem (credited)</th>\n",
       "      <th>Curricular units 2nd sem (enrolled)</th>\n",
       "      <th>Curricular units 2nd sem (evaluations)</th>\n",
       "      <th>Curricular units 2nd sem (approved)</th>\n",
       "      <th>Curricular units 2nd sem (grade)</th>\n",
       "      <th>Curricular units 2nd sem (without evaluations)</th>\n",
       "      <th>Unemployment rate</th>\n",
       "      <th>Inflation rate</th>\n",
       "      <th>GDP</th>\n",
       "      <th>Target</th>\n",
       "    </tr>\n",
       "  </thead>\n",
       "  <tbody>\n",
       "    <tr>\n",
       "      <th>0</th>\n",
       "      <td>1</td>\n",
       "      <td>17</td>\n",
       "      <td>5</td>\n",
       "      <td>171</td>\n",
       "      <td>1</td>\n",
       "      <td>1</td>\n",
       "      <td>122.0</td>\n",
       "      <td>1</td>\n",
       "      <td>19</td>\n",
       "      <td>12</td>\n",
       "      <td>...</td>\n",
       "      <td>0</td>\n",
       "      <td>0</td>\n",
       "      <td>0</td>\n",
       "      <td>0</td>\n",
       "      <td>0.000000</td>\n",
       "      <td>0</td>\n",
       "      <td>10.8</td>\n",
       "      <td>1.4</td>\n",
       "      <td>1.74</td>\n",
       "      <td>Dropout</td>\n",
       "    </tr>\n",
       "    <tr>\n",
       "      <th>1</th>\n",
       "      <td>1</td>\n",
       "      <td>15</td>\n",
       "      <td>1</td>\n",
       "      <td>9254</td>\n",
       "      <td>1</td>\n",
       "      <td>1</td>\n",
       "      <td>160.0</td>\n",
       "      <td>1</td>\n",
       "      <td>1</td>\n",
       "      <td>3</td>\n",
       "      <td>...</td>\n",
       "      <td>0</td>\n",
       "      <td>6</td>\n",
       "      <td>6</td>\n",
       "      <td>6</td>\n",
       "      <td>13.666667</td>\n",
       "      <td>0</td>\n",
       "      <td>13.9</td>\n",
       "      <td>-0.3</td>\n",
       "      <td>0.79</td>\n",
       "      <td>Graduate</td>\n",
       "    </tr>\n",
       "    <tr>\n",
       "      <th>2</th>\n",
       "      <td>1</td>\n",
       "      <td>1</td>\n",
       "      <td>5</td>\n",
       "      <td>9070</td>\n",
       "      <td>1</td>\n",
       "      <td>1</td>\n",
       "      <td>122.0</td>\n",
       "      <td>1</td>\n",
       "      <td>37</td>\n",
       "      <td>37</td>\n",
       "      <td>...</td>\n",
       "      <td>0</td>\n",
       "      <td>6</td>\n",
       "      <td>0</td>\n",
       "      <td>0</td>\n",
       "      <td>0.000000</td>\n",
       "      <td>0</td>\n",
       "      <td>10.8</td>\n",
       "      <td>1.4</td>\n",
       "      <td>1.74</td>\n",
       "      <td>Dropout</td>\n",
       "    </tr>\n",
       "  </tbody>\n",
       "</table>\n",
       "<p>3 rows × 37 columns</p>\n",
       "</div>"
      ]
     },
     "execution_count": 1,
     "metadata": {},
     "output_type": "execute_result"
    }
   ],
   "execution_count": 1
  },
  {
   "cell_type": "code",
   "metadata": {
    "ExecuteTime": {
     "end_time": "2024-09-30T22:03:09.303878Z",
     "start_time": "2024-09-30T22:03:09.296291Z"
    }
   },
   "source": [
    "df.columns = df.columns.str.lower().str.replace(\" \", \"_\").str.strip()\n",
    "# df.columns"
   ],
   "id": "80f87db9e8359baf",
   "outputs": [],
   "execution_count": 2
  },
  {
   "cell_type": "markdown",
   "metadata": {},
   "source": [
    "## Data Cleaning for Baseline Model <a class=\"anchor\" id=\"dc-base\"></a>\n",
    "\n",
    "We will start by cleaning the data for the baseline model. This will be for a target variable as is with Dropout, Enrolled, and Graduated."
   ],
   "id": "7228eb8787889d61"
  },
  {
   "cell_type": "markdown",
   "metadata": {},
   "source": [
    "### 1.1 Marital Status <a class=\"anchor\" id=\"step1\"></a>\n",
    "\n",
    "For now, we will convert this to a One Hot Encoded variable."
   ],
   "id": "a2c32aff45a900f0"
  },
  {
   "cell_type": "code",
   "metadata": {
    "ExecuteTime": {
     "end_time": "2024-09-30T22:03:09.383532Z",
     "start_time": "2024-09-30T22:03:09.374981Z"
    }
   },
   "source": [
    "df.marital_status.unique()"
   ],
   "id": "eaac7594ffab9b02",
   "outputs": [
    {
     "data": {
      "text/plain": [
       "array([1, 2, 4, 3, 5, 6])"
      ]
     },
     "execution_count": 3,
     "metadata": {},
     "output_type": "execute_result"
    }
   ],
   "execution_count": 3
  },
  {
   "cell_type": "code",
   "metadata": {
    "ExecuteTime": {
     "end_time": "2024-09-30T22:03:09.517222Z",
     "start_time": "2024-09-30T22:03:09.510748Z"
    }
   },
   "source": [
    "# mapping to string values so one hot encoding columns make sense\n",
    "df.marital_status = df.marital_status.map(\n",
    "    {1: \"single\", 2: \"married\", 3: \"widower\", 4: \"divorced\", 5: \"facto_union\", 6: \"legally_separated\"}\n",
    ")"
   ],
   "id": "e1d934b774ee0cfa",
   "outputs": [],
   "execution_count": 4
  },
  {
   "cell_type": "code",
   "metadata": {
    "ExecuteTime": {
     "end_time": "2024-09-30T22:03:09.746020Z",
     "start_time": "2024-09-30T22:03:09.739924Z"
    }
   },
   "source": [
    "assert df.marital_status.isna().sum() == 0"
   ],
   "id": "ee95f6bb5a4dbf2a",
   "outputs": [],
   "execution_count": 5
  },
  {
   "cell_type": "code",
   "metadata": {
    "ExecuteTime": {
     "end_time": "2024-09-30T22:03:09.774754Z",
     "start_time": "2024-09-30T22:03:09.764230Z"
    }
   },
   "source": [
    "marital_status_df = pd.get_dummies(df.marital_status, \"marital_status\", dtype=\"int\") \\\n",
    "    .drop(\"marital_status_single\", axis=1)\n",
    "df = df.join(marital_status_df)\n",
    "df = df.drop(columns=\"marital_status\")\n",
    "df.shape"
   ],
   "id": "793dc20dda978a92",
   "outputs": [
    {
     "data": {
      "text/plain": [
       "(4424, 41)"
      ]
     },
     "execution_count": 6,
     "metadata": {},
     "output_type": "execute_result"
    }
   ],
   "execution_count": 6
  },
  {
   "cell_type": "markdown",
   "metadata": {},
   "source": [
    "### 1.2 Application Mode <a class=\"anchor\" id=\"step2\"></a>\n",
    "\n",
    "Need to convert back to labels then One Hot Encode them. For now I will just drop first because it is hard to get a column to drop through intuition."
   ],
   "id": "b36843bf2a35363e"
  },
  {
   "cell_type": "code",
   "metadata": {
    "ExecuteTime": {
     "end_time": "2024-09-30T22:03:09.802153Z",
     "start_time": "2024-09-30T22:03:09.794899Z"
    }
   },
   "source": [
    "df.application_mode = df.application_mode.map({\n",
    "    1: \"1st_phase_general_contingent\", 2: \"Ordinance_No_612/93\",\n",
    "    5: \"1st_phase_special_contingent_Azores_Island\",\n",
    "    7: \"Holders_of_other_higher_courses\", 10: \"Ordinance_No_854-B/99\",\n",
    "    15: \"International_student_bachelor\",\n",
    "    16: \"1st_phase_special_contingent_Madeira_Island\",\n",
    "    17: \"2nd_phase_general_contingent\", 18: \"3rd_phase_general_contingent\",\n",
    "    26: \"Ordinance_No_533-A/99_item_b2_Different_Plan\",\n",
    "    27: \"Ordinance_No_533-A/99_item_b3_Other_Institution\",\n",
    "    39: \"Over_23_years_old\", 42: \"Transfer\", 43: \"Change_of_course\",\n",
    "    44: \"Technological_specialization_diploma_holders\",\n",
    "    51: \"Change_of_institution_course\", 53: \"Short_cycle_diploma_holders\",\n",
    "    57: \"Change_of_institution_course_International\"\n",
    "})"
   ],
   "id": "50870e1dce305db1",
   "outputs": [],
   "execution_count": 7
  },
  {
   "cell_type": "code",
   "metadata": {
    "ExecuteTime": {
     "end_time": "2024-09-30T22:03:09.844814Z",
     "start_time": "2024-09-30T22:03:09.838594Z"
    }
   },
   "source": [
    "assert df.application_mode.isna().sum() == 0"
   ],
   "id": "92134ca7fbf9ee9c",
   "outputs": [],
   "execution_count": 8
  },
  {
   "cell_type": "code",
   "metadata": {
    "ExecuteTime": {
     "end_time": "2024-09-30T22:03:09.880196Z",
     "start_time": "2024-09-30T22:03:09.873928Z"
    }
   },
   "source": [
    "application_mode_dummies = pd.get_dummies(df.application_mode, \"application_mode\", drop_first=True, dtype=\"int\")\n",
    "# application_mode_dummies"
   ],
   "id": "ba5dca896b775f12",
   "outputs": [],
   "execution_count": 9
  },
  {
   "cell_type": "code",
   "metadata": {
    "ExecuteTime": {
     "end_time": "2024-09-30T22:03:09.906334Z",
     "start_time": "2024-09-30T22:03:09.892208Z"
    }
   },
   "source": [
    "df = df.join(application_mode_dummies)\n",
    "df = df.drop(columns=\"application_mode\")\n",
    "df.shape"
   ],
   "id": "af7f9d47ff5ddd47",
   "outputs": [
    {
     "data": {
      "text/plain": [
       "(4424, 57)"
      ]
     },
     "execution_count": 10,
     "metadata": {},
     "output_type": "execute_result"
    }
   ],
   "execution_count": 10
  },
  {
   "cell_type": "markdown",
   "metadata": {},
   "source": [
    "### 1.3 Course <a class=\"anchor\" id=\"step3\"></a>\n",
    "\n",
    "For this feature I need to map integers to real values then One Hot Encode them into categories.\n",
    "\n",
    "I will use Nursing as the reference column due to the fact it has the most rows."
   ],
   "id": "a85bc8e9585faf57"
  },
  {
   "cell_type": "code",
   "metadata": {
    "ExecuteTime": {
     "end_time": "2024-09-30T22:03:09.930938Z",
     "start_time": "2024-09-30T22:03:09.924493Z"
    }
   },
   "source": [
    "# mapping course numbers to their respective name\n",
    "df.course = df.course.map({\n",
    "    33: \"Biofuel_Production_Technologies\", 171: \"Animation_and_Multimedia_Design\",\n",
    "    8014: \"Social_Service_evening_attendance\", 9003: \"Agronomy\",\n",
    "    9070: \"Communication_Design\", 9085: \"Veterinary_Nursing\",\n",
    "    9119: \"Informatics_Engineering\", 9130: \"Equinculture\",\n",
    "    9147: \"Management\", 9238: \"Social_Service\",\n",
    "    9254: \"Tourism\", 9500: \"Nursing\",\n",
    "    9556: \"Oral_Hygiene\", 9670: \"Advertising_and_Marketing_Management\",\n",
    "    9773: \"Journalism_and_Communication\", 9853: \"Basic_Education\",\n",
    "    9991: \"Management_evening_attendance\"\n",
    "})"
   ],
   "id": "43e1dd2a775a4ba5",
   "outputs": [],
   "execution_count": 11
  },
  {
   "cell_type": "code",
   "metadata": {
    "ExecuteTime": {
     "end_time": "2024-09-30T22:03:09.961512Z",
     "start_time": "2024-09-30T22:03:09.956588Z"
    }
   },
   "source": [
    "assert df.course.isna().sum() == 0"
   ],
   "id": "27bf2ca75798938f",
   "outputs": [],
   "execution_count": 12
  },
  {
   "cell_type": "code",
   "metadata": {
    "ExecuteTime": {
     "end_time": "2024-09-30T22:03:09.985107Z",
     "start_time": "2024-09-30T22:03:09.978477Z"
    }
   },
   "source": [
    "courses_dummies = pd.get_dummies(df.course, \"course\", dtype=\"int\") \\\n",
    "    .drop(columns=[\"course_Nursing\"])\n",
    "# courses_dummies.columns"
   ],
   "id": "ae69531d808e4f4a",
   "outputs": [],
   "execution_count": 13
  },
  {
   "cell_type": "code",
   "metadata": {
    "ExecuteTime": {
     "end_time": "2024-09-30T22:03:10.020449Z",
     "start_time": "2024-09-30T22:03:10.008989Z"
    }
   },
   "source": [
    "df = df.join(courses_dummies)\n",
    "df = df.drop(columns=\"course\")\n",
    "df.shape"
   ],
   "id": "f3c2b52f82329f8b",
   "outputs": [
    {
     "data": {
      "text/plain": [
       "(4424, 72)"
      ]
     },
     "execution_count": 14,
     "metadata": {},
     "output_type": "execute_result"
    }
   ],
   "execution_count": 14
  },
  {
   "cell_type": "markdown",
   "metadata": {},
   "source": [
    "### 1.4 Daytime Nightime Attendance <a class=\"anchor\" id=\"step4\"></a> \n",
    "\n",
    "Just renaming the column for clarity."
   ],
   "id": "dbde011a62e28a50"
  },
  {
   "cell_type": "code",
   "metadata": {
    "ExecuteTime": {
     "end_time": "2024-09-30T22:03:10.057628Z",
     "start_time": "2024-09-30T22:03:10.049465Z"
    }
   },
   "source": [
    "# rename column for clarity\n",
    "df = df.rename(columns={\"daytime/evening_attendance\": \"daytime_attendance\"})"
   ],
   "id": "1d3cc36dd160dbc0",
   "outputs": [],
   "execution_count": 15
  },
  {
   "cell_type": "markdown",
   "metadata": {},
   "source": [
    "### 1.5 Previous Qualifications <a class=\"anchor\" id=\"step5\"></a>\n",
    "\n",
    "For now, I will encode this feature as an Ordinal feature"
   ],
   "id": "94f6801bb62b974c"
  },
  {
   "cell_type": "code",
   "metadata": {
    "ExecuteTime": {
     "end_time": "2024-09-30T22:03:10.100725Z",
     "start_time": "2024-09-30T22:03:10.097596Z"
    }
   },
   "source": [
    "mapper = {\n",
    "    1: \"high_school\", 2: \"higher_education\", 3: \"higher_education\", 4: \"graduate_school\",\n",
    "    5: \"graduate_school\", 6: \"higher_education\", 9: \"other\", 10: \"other\", 11: \"other\", 12: \"other\",\n",
    "    14: \"other\", 15: \"other\", 18: \"technical_training\", 19: \"other\", 22: \"technical_training\", 26: \"other\",\n",
    "    27: \"other\", 29: \"other\", 30: \"other\", 34: \"other\", 35: \"other\", 36: \"other\", 37: \"other\",\n",
    "    38: \"other\", 39: \"technical_training\",\n",
    "    40: \"higher_education\", 41: \"technical_training\", 42: \"technical_training\", 43: \"graduate_school\",\n",
    "    44: \"graduate_school\"\n",
    "}"
   ],
   "id": "5e63510c974f9730",
   "outputs": [],
   "execution_count": 16
  },
  {
   "cell_type": "code",
   "metadata": {
    "ExecuteTime": {
     "end_time": "2024-09-30T22:03:10.135152Z",
     "start_time": "2024-09-30T22:03:10.123405Z"
    }
   },
   "source": [
    "df.previous_qualification = df.previous_qualification.map(mapper)\n",
    "assert df.previous_qualification.isna().sum() == 0\n",
    "df.previous_qualification.value_counts()"
   ],
   "id": "937f2e2688ab385c",
   "outputs": [
    {
     "data": {
      "text/plain": [
       "previous_qualification\n",
       "high_school           3717\n",
       "technical_training     255\n",
       "other                  232\n",
       "higher_education       205\n",
       "graduate_school         15\n",
       "Name: count, dtype: int64"
      ]
     },
     "execution_count": 17,
     "metadata": {},
     "output_type": "execute_result"
    }
   ],
   "execution_count": 17
  },
  {
   "cell_type": "code",
   "metadata": {
    "ExecuteTime": {
     "end_time": "2024-09-30T22:03:11.064736Z",
     "start_time": "2024-09-30T22:03:10.175183Z"
    }
   },
   "source": [
    "from sklearn.preprocessing import OrdinalEncoder\n",
    "\n",
    "ord_encoder = OrdinalEncoder(\n",
    "    categories=[[\"other\", \"high_school\", \"technical_training\", \"higher_education\", \"graduate_school\"]]\n",
    ")\n",
    "ord_encoder.set_output(transform=\"pandas\")\n",
    "df.previous_qualification = ord_encoder.fit_transform(df[[\"previous_qualification\"]])"
   ],
   "id": "227934bee31de37",
   "outputs": [],
   "execution_count": 18
  },
  {
   "cell_type": "code",
   "metadata": {
    "ExecuteTime": {
     "end_time": "2024-09-30T22:03:11.102323Z",
     "start_time": "2024-09-30T22:03:11.092846Z"
    }
   },
   "source": [
    "df.previous_qualification.value_counts()"
   ],
   "id": "e6e88f869cc93d2",
   "outputs": [
    {
     "data": {
      "text/plain": [
       "previous_qualification\n",
       "1.0    3717\n",
       "2.0     255\n",
       "0.0     232\n",
       "3.0     205\n",
       "4.0      15\n",
       "Name: count, dtype: int64"
      ]
     },
     "execution_count": 19,
     "metadata": {},
     "output_type": "execute_result"
    }
   ],
   "execution_count": 19
  },
  {
   "cell_type": "markdown",
   "metadata": {},
   "source": [
    "### 1.6 Nationality <a class=\"anchor\" id=\"step6\">\n",
    "\n",
    "Just mapping these to One Hot encoded columns"
   ],
   "id": "59a432af32464cb6"
  },
  {
   "cell_type": "code",
   "metadata": {
    "ExecuteTime": {
     "end_time": "2024-09-30T22:03:11.153950Z",
     "start_time": "2024-09-30T22:03:11.141473Z"
    }
   },
   "source": [
    "df = df.rename(columns={\"nacionality\": \"nationality\"})  # renaming column\n",
    "\n",
    "# mapping column to categories\n",
    "df.nationality = df.nationality.map({\n",
    "    1: \"Portuguese\", 2: \"German\", 6: \"Spanish\", 11: \"Italian\",\n",
    "    13: \"Dutch\", 14: \"English\", 17: \"Lithuanian\", 21: \"Angolan\",\n",
    "    22: \"Cape_Verdean\", 24: \"Guinean\", 25: \"Mozambican\",\n",
    "    26: \"Santomean\", 32: \"Turkish\", 41: \"Brazilian\",\n",
    "    62: \"Romanian\", 100: \"Moldova_Republic_of\",\n",
    "    101: \"Mexican\", 103: \"Ukrainian\", 105: \"Russian\",\n",
    "    108: \"Cuban\", 109: \"Colombian\"\n",
    "})"
   ],
   "id": "c33d728556dcdb39",
   "outputs": [],
   "execution_count": 20
  },
  {
   "cell_type": "code",
   "metadata": {
    "ExecuteTime": {
     "end_time": "2024-09-30T22:03:11.290020Z",
     "start_time": "2024-09-30T22:03:11.285103Z"
    }
   },
   "source": [
    "assert df.nationality.isna().sum() == 0"
   ],
   "id": "786dfeb6b78f28e8",
   "outputs": [],
   "execution_count": 21
  },
  {
   "cell_type": "code",
   "metadata": {
    "ExecuteTime": {
     "end_time": "2024-09-30T22:03:11.376995Z",
     "start_time": "2024-09-30T22:03:11.365254Z"
    }
   },
   "source": [
    "nationality_to_dummies = pd.get_dummies(df.nationality, \"nationality\", dtype=\"int\") \\\n",
    "    .drop(columns=[\"nationality_Portuguese\"])\n",
    "df = df.join(nationality_to_dummies)\n",
    "df = df.drop(columns=\"nationality\")\n",
    "df.shape"
   ],
   "id": "8067fed0a69fffec",
   "outputs": [
    {
     "data": {
      "text/plain": [
       "(4424, 91)"
      ]
     },
     "execution_count": 22,
     "metadata": {},
     "output_type": "execute_result"
    }
   ],
   "execution_count": 22
  },
  {
   "cell_type": "markdown",
   "metadata": {},
   "source": [
    "### 1.7 Mother's Qualification <a class=\"anchor\" id=\"step7\"></a>"
   ],
   "id": "4ee74702b786f10"
  },
  {
   "cell_type": "markdown",
   "metadata": {},
   "source": [
    "This feature was similar enough to Previous Qualifications to be able to use prior mapper."
   ],
   "id": "30281060df9ada5e"
  },
  {
   "cell_type": "code",
   "metadata": {
    "ExecuteTime": {
     "end_time": "2024-09-30T22:03:11.471931Z",
     "start_time": "2024-09-30T22:03:11.466243Z"
    }
   },
   "source": [
    "df[\"mother's_qualification\"] = df[\"mother's_qualification\"].map(mapper)\n",
    "assert df[\"mother's_qualification\"].isna().sum() == 0\n",
    "ord_encoder2 = OrdinalEncoder(\n",
    "    categories=[[\"other\", \"high_school\", \"technical_training\", \"higher_education\", \"graduate_school\"]]\n",
    ")\n",
    "ord_encoder2.set_output(transform=\"pandas\")\n",
    "df[\"mother's_qualification\"] = ord_encoder2.fit_transform(df[[\"mother's_qualification\"]])"
   ],
   "id": "b0364cc3ee88c138",
   "outputs": [],
   "execution_count": 23
  },
  {
   "cell_type": "markdown",
   "metadata": {},
   "source": [
    "### 1.8 Father's Qualification <a class=\"anchor\" id=\"step8\"></a>\n",
    "\n",
    "Will have to construct a new mapper, then encode feature as a Ordinal Feature"
   ],
   "id": "538d6e2b3954bada"
  },
  {
   "cell_type": "code",
   "metadata": {
    "ExecuteTime": {
     "end_time": "2024-09-30T22:03:11.481794Z",
     "start_time": "2024-09-30T22:03:11.476940Z"
    }
   },
   "source": [
    "mapper_father = {}\n",
    "other_keys = [7, 8, 9, 10, 11, 12, 17, 18, 19, 20, 21, 24, 25, 26, 27, 28, 35, 36, 37, 38]\n",
    "high_school_keys = [1, 14]\n",
    "technical_training_keys = [13, 15, 16, 22, 23, 29, 32, 39, 41, 42]\n",
    "higher_ed_keys = [2, 3, 6, 30, 31, 40]\n",
    "graduate_school_keys = [4, 5, 33, 34, 43, 44]"
   ],
   "id": "fe071c6af67da600",
   "outputs": [],
   "execution_count": 24
  },
  {
   "cell_type": "code",
   "metadata": {
    "ExecuteTime": {
     "end_time": "2024-09-30T22:03:11.506712Z",
     "start_time": "2024-09-30T22:03:11.502758Z"
    }
   },
   "source": [
    "def add_to_dict(mapper_dict, key_list_, value):\n",
    "    for key in key_list_:\n",
    "        mapper_dict[key] = value\n",
    "    return mapper_dict"
   ],
   "id": "effcc20c115c4c32",
   "outputs": [],
   "execution_count": 25
  },
  {
   "cell_type": "code",
   "metadata": {
    "ExecuteTime": {
     "end_time": "2024-09-30T22:03:11.533824Z",
     "start_time": "2024-09-30T22:03:11.528846Z"
    }
   },
   "source": [
    "in_data = set(df[\"father's_qualification\"].unique())"
   ],
   "id": "4f11631abc77187a",
   "outputs": [],
   "execution_count": 26
  },
  {
   "cell_type": "code",
   "metadata": {
    "ExecuteTime": {
     "end_time": "2024-09-30T22:03:11.571878Z",
     "start_time": "2024-09-30T22:03:11.566805Z"
    }
   },
   "source": [
    "categories = [\"other\", \"high_school\", \"technical_training\", \"higher_education\", \"graduate_school\"]\n",
    "key_lists = [other_keys, high_school_keys, technical_training_keys, higher_ed_keys, graduate_school_keys]\n",
    "for category, key_list in zip(categories, key_lists):\n",
    "    mapper_father = add_to_dict(mapper_father, key_list, category)"
   ],
   "id": "76f9a84e32c25de2",
   "outputs": [],
   "execution_count": 27
  },
  {
   "cell_type": "code",
   "metadata": {
    "ExecuteTime": {
     "end_time": "2024-09-30T22:03:11.603680Z",
     "start_time": "2024-09-30T22:03:11.596862Z"
    }
   },
   "source": [
    "in_mapper = set(mapper_father.keys())\n",
    "in_data.difference(in_mapper)"
   ],
   "id": "a6b920ba8c612618",
   "outputs": [
    {
     "data": {
      "text/plain": [
       "set()"
      ]
     },
     "execution_count": 28,
     "metadata": {},
     "output_type": "execute_result"
    }
   ],
   "execution_count": 28
  },
  {
   "cell_type": "code",
   "metadata": {
    "ExecuteTime": {
     "end_time": "2024-09-30T22:03:11.676210Z",
     "start_time": "2024-09-30T22:03:11.670317Z"
    }
   },
   "source": [
    "df[\"father's_qualification\"] = df[\"father's_qualification\"].map(mapper_father)\n",
    "assert df[\"father's_qualification\"].isna().sum() == 0"
   ],
   "id": "2196b8a6d95a4ace",
   "outputs": [],
   "execution_count": 29
  },
  {
   "cell_type": "code",
   "metadata": {
    "ExecuteTime": {
     "end_time": "2024-09-30T22:03:11.686170Z",
     "start_time": "2024-09-30T22:03:11.679169Z"
    }
   },
   "source": [
    "ord_encoder3 = OrdinalEncoder(\n",
    "    categories=[[\"other\", \"high_school\", \"technical_training\", \"higher_education\", \"graduate_school\"]]\n",
    ")\n",
    "ord_encoder3.set_output(transform=\"pandas\")\n",
    "df[\"father's_qualification\"] = ord_encoder3.fit_transform(df[[\"father's_qualification\"]])"
   ],
   "id": "1014347f1808bd74",
   "outputs": [],
   "execution_count": 30
  },
  {
   "cell_type": "markdown",
   "metadata": {},
   "source": [
    "### 1.9 Mother's Occupation <a class=\"anchor\" id=\"step9\"></a>"
   ],
   "id": "e9ec773aa05ec252"
  },
  {
   "cell_type": "code",
   "metadata": {
    "ExecuteTime": {
     "end_time": "2024-09-30T22:03:11.713613Z",
     "start_time": "2024-09-30T22:03:11.707274Z"
    }
   },
   "source": [
    "mother_job_mapper = {\n",
    "    0: \"Student\",\n",
    "    1: \"Representatives of the Legislative Power and Executive Bodies, Directors, Directors and Executive Managers\",\n",
    "    2: \"Specialists in Intellectual and Scientific Activities\",\n",
    "    3: \"Intermediate Level Technicians and Professions\",\n",
    "    4: \"Administrative staff\",\n",
    "    5: \"Personal Services, Security and Safety Workers and Sellers\",\n",
    "    6: \"Farmers and Skilled Workers in Agriculture, Fisheries and Forestry\",\n",
    "    7: \"Skilled Workers in Industry, Construction and Craftsmen\",\n",
    "    8: \"Installation and Machine Operators and Assembly Workers\",\n",
    "    9: \"Unskilled Workers\",\n",
    "    10: \"Armed Forces Professions\",\n",
    "    90: \"Other Situation\",\n",
    "    99: \"(blank)\",\n",
    "    122: \"Health professionals\",\n",
    "    123: \"Teachers\",\n",
    "    125: \"Specialists in information and communication technologies (ICT)\",\n",
    "    131: \"Intermediate level science and engineering technicians and professions\",\n",
    "    132: \"Technicians and professionals, of intermediate level of health\",\n",
    "    134: \"Intermediate level technicians from legal, social, sports, cultural and similar services\",\n",
    "    141: \"Office workers, secretaries in general and data processing operators\",\n",
    "    143: \"Data, accounting, statistical, financial services and registry-related operators\",\n",
    "    144: \"Other administrative support staff\",\n",
    "    151: \"Personal service workers\",\n",
    "    152: \"Sellers\",\n",
    "    153: \"Personal care workers and the like\",\n",
    "    171: \"Skilled construction workers and the like, except electricians\",\n",
    "    173: \"Skilled workers in printing, precision instrument manufacturing, jewelers, artisans and the like\",\n",
    "    175: \"Workers in food processing, woodworking, clothing and other industries and crafts\",\n",
    "    191: \"Cleaning workers\",\n",
    "    192: \"Unskilled workers in agriculture, animal production, fisheries and forestry\",\n",
    "    193: \"Unskilled workers in extractive industry, construction, manufacturing and transport\",\n",
    "    194: \"Meal preparation assistants\"\n",
    "}"
   ],
   "id": "2e54419e6fd21fc3",
   "outputs": [],
   "execution_count": 31
  },
  {
   "cell_type": "code",
   "metadata": {
    "ExecuteTime": {
     "end_time": "2024-09-30T22:03:11.742981Z",
     "start_time": "2024-09-30T22:03:11.735870Z"
    }
   },
   "source": [
    "assert df[\"mother's_occupation\"].map(mother_job_mapper).isna().sum() == 0"
   ],
   "id": "2d9c5f4d5fedf529",
   "outputs": [],
   "execution_count": 32
  },
  {
   "cell_type": "code",
   "metadata": {
    "ExecuteTime": {
     "end_time": "2024-09-30T22:03:11.786108Z",
     "start_time": "2024-09-30T22:03:11.775283Z"
    }
   },
   "source": [
    "df[\"mother's_occupation\"] = df[\"mother's_occupation\"].map(mother_job_mapper)\n",
    "df[\"mother's_occupation\"].value_counts()"
   ],
   "id": "4c11b305a6c13b15",
   "outputs": [
    {
     "data": {
      "text/plain": [
       "mother's_occupation\n",
       "Unskilled Workers                                                                                             1577\n",
       "Administrative staff                                                                                           817\n",
       "Personal Services, Security and Safety Workers and Sellers                                                     530\n",
       "Intermediate Level Technicians and Professions                                                                 351\n",
       "Specialists in Intellectual and Scientific Activities                                                          318\n",
       "Skilled Workers in Industry, Construction and Craftsmen                                                        272\n",
       "Student                                                                                                        144\n",
       "Representatives of the Legislative Power and Executive Bodies, Directors, Directors and Executive Managers     102\n",
       "Farmers and Skilled Workers in Agriculture, Fisheries and Forestry                                              91\n",
       "Other Situation                                                                                                 70\n",
       "Installation and Machine Operators and Assembly Workers                                                         36\n",
       "Cleaning workers                                                                                                26\n",
       "(blank)                                                                                                         17\n",
       "Meal preparation assistants                                                                                     11\n",
       "Office workers, secretaries in general and data processing operators                                             8\n",
       "Teachers                                                                                                         7\n",
       "Other administrative support staff                                                                               6\n",
       "Workers in food processing, woodworking, clothing and other industries and crafts                                5\n",
       "Unskilled workers in agriculture, animal production, fisheries and forestry                                      5\n",
       "Armed Forces Professions                                                                                         4\n",
       "Intermediate level technicians from legal, social, sports, cultural and similar services                         4\n",
       "Unskilled workers in extractive industry, construction, manufacturing and transport                              4\n",
       "Personal service workers                                                                                         3\n",
       "Technicians and professionals, of intermediate level of health                                                   3\n",
       "Data, accounting, statistical, financial services and registry-related operators                                 3\n",
       "Personal care workers and the like                                                                               2\n",
       "Sellers                                                                                                          2\n",
       "Health professionals                                                                                             2\n",
       "Specialists in information and communication technologies (ICT)                                                  1\n",
       "Skilled workers in printing, precision instrument manufacturing, jewelers, artisans and the like                 1\n",
       "Intermediate level science and engineering technicians and professions                                           1\n",
       "Skilled construction workers and the like, except electricians                                                   1\n",
       "Name: count, dtype: int64"
      ]
     },
     "execution_count": 33,
     "metadata": {},
     "output_type": "execute_result"
    }
   ],
   "execution_count": 33
  },
  {
   "cell_type": "code",
   "metadata": {
    "ExecuteTime": {
     "end_time": "2024-09-30T22:03:11.847960Z",
     "start_time": "2024-09-30T22:03:11.838637Z"
    }
   },
   "source": [
    "mother_job_dummies = pd.get_dummies(df[\"mother's_occupation\"], \"mother_job\", dtype=\"int\") \\\n",
    "    .drop(columns=[\"mother_job_Unskilled Workers\"])"
   ],
   "id": "4650d29d2856933c",
   "outputs": [],
   "execution_count": 34
  },
  {
   "cell_type": "code",
   "metadata": {
    "ExecuteTime": {
     "end_time": "2024-09-30T22:03:11.894748Z",
     "start_time": "2024-09-30T22:03:11.883069Z"
    }
   },
   "source": [
    "df = df.join(mother_job_dummies)\n",
    "df = df.drop(columns=\"mother's_occupation\")\n",
    "assert df.shape[0] == 4424"
   ],
   "id": "1ba22154a0c079c8",
   "outputs": [],
   "execution_count": 35
  },
  {
   "cell_type": "markdown",
   "metadata": {},
   "source": [
    "### 1.10 Father's Occupation <a class=\"anchor\" id=\"step10\"></a>"
   ],
   "id": "a32d5f59366cb1aa"
  },
  {
   "cell_type": "code",
   "metadata": {
    "ExecuteTime": {
     "end_time": "2024-09-30T22:03:11.931211Z",
     "start_time": "2024-09-30T22:03:11.925107Z"
    }
   },
   "source": [
    "father_job_mapper = {\n",
    "    0: \"Student\",\n",
    "    1: \"Representatives of the Legislative Power and Executive Bodies, Directors, Directors and Executive Managers\",\n",
    "    2: \"Specialists in Intellectual and Scientific Activities\",\n",
    "    3: \"Intermediate Level Technicians and Professions\",\n",
    "    4: \"Administrative staff\",\n",
    "    5: \"Personal Services, Security and Safety Workers and Sellers\",\n",
    "    6: \"Farmers and Skilled Workers in Agriculture, Fisheries and Forestry\",\n",
    "    7: \"Skilled Workers in Industry, Construction and Craftsmen\",\n",
    "    8: \"Installation and Machine Operators and Assembly Workers\",\n",
    "    9: \"Unskilled Workers\",\n",
    "    10: \"Armed Forces Professions\",\n",
    "    90: \"Other Situation\",\n",
    "    99: \"(blank)\",\n",
    "    101: \"Armed Forces Officers\",\n",
    "    102: \"Armed Forces Sergeants\",\n",
    "    103: \"Other Armed Forces personnel\",\n",
    "    112: \"Directors of administrative and commercial services\",\n",
    "    114: \"Hotel, catering, trade and other services directors\",\n",
    "    121: \"Specialists in the physical sciences, mathematics, engineering and related techniques\",\n",
    "    122: \"Health professionals\",\n",
    "    123: \"Teachers\",\n",
    "    124: \"Specialists in finance, accounting, administrative organization, public and commercial relations\",\n",
    "    131: \"Intermediate level science and engineering technicians and professions\",\n",
    "    132: \"Technicians and professionals, of intermediate level of health\",\n",
    "    134: \"Intermediate level technicians from legal, social, sports, cultural and similar services\",\n",
    "    135: \"Information and communication technology technicians\",\n",
    "    141: \"Office workers, secretaries in general and data processing operators\",\n",
    "    143: \"Data, accounting, statistical, financial services and registry-related operators\",\n",
    "    144: \"Other administrative support staff\",\n",
    "    151: \"Personal service workers\",\n",
    "    152: \"Sellers\",\n",
    "    153: \"Personal care workers and the like\",\n",
    "    154: \"Protection and security services personnel\",\n",
    "    161: \"Market-oriented farmers and skilled agricultural and animal production workers\",\n",
    "    163: \"Farmers, livestock keepers, fishermen, hunters and gatherers, subsistence\",\n",
    "    171: \"Skilled construction workers and the like, except electricians\",\n",
    "    172: \"Skilled workers in metallurgy, metalworking and similar\",\n",
    "    174: \"Skilled workers in electricity and electronics\",\n",
    "    175: \"Workers in food processing, woodworking, clothing and other industries and crafts\",\n",
    "    181: \"Fixed plant and machine operators\",\n",
    "    182: \"Assembly workers\",\n",
    "    183: \"Vehicle drivers and mobile equipment operators\",\n",
    "    192: \"Unskilled workers in agriculture, animal production, fisheries and forestry\",\n",
    "    193: \"Unskilled workers in extractive industry, construction, manufacturing and transport\",\n",
    "    194: \"Meal preparation assistants\",\n",
    "    195: \"Street vendors (except food) and street service providers\"\n",
    "}"
   ],
   "id": "324d901c70615d1a",
   "outputs": [],
   "execution_count": 36
  },
  {
   "cell_type": "code",
   "metadata": {
    "ExecuteTime": {
     "end_time": "2024-09-30T22:03:12.004990Z",
     "start_time": "2024-09-30T22:03:11.996638Z"
    }
   },
   "source": [
    "assert (mapped_column_father:=df[\"father's_occupation\"].map(father_job_mapper)).isna().sum() == 0\n",
    "assert mapped_column_father.size == 4424"
   ],
   "id": "40ca90196d154d7b",
   "outputs": [],
   "execution_count": 37
  },
  {
   "cell_type": "code",
   "metadata": {
    "ExecuteTime": {
     "end_time": "2024-09-30T22:03:12.025512Z",
     "start_time": "2024-09-30T22:03:12.012508Z"
    }
   },
   "source": [
    "mapped_column_father.value_counts().sort_values(ascending=False).iloc[:5]"
   ],
   "id": "2b76cbfb723f396e",
   "outputs": [
    {
     "data": {
      "text/plain": [
       "father's_occupation\n",
       "Unskilled Workers                                             1010\n",
       "Skilled Workers in Industry, Construction and Craftsmen        666\n",
       "Personal Services, Security and Safety Workers and Sellers     516\n",
       "Administrative staff                                           386\n",
       "Intermediate Level Technicians and Professions                 384\n",
       "Name: count, dtype: int64"
      ]
     },
     "execution_count": 38,
     "metadata": {},
     "output_type": "execute_result"
    }
   ],
   "execution_count": 38
  },
  {
   "cell_type": "code",
   "metadata": {
    "ExecuteTime": {
     "end_time": "2024-09-30T22:03:12.085425Z",
     "start_time": "2024-09-30T22:03:12.079782Z"
    }
   },
   "source": [
    "father_job_dummies = pd.get_dummies(mapped_column_father, \"father_job\", dtype=\"int\")\\\n",
    "    .drop(columns=[\"father_job_Unskilled Workers\"])"
   ],
   "id": "d2a1cd1f5fe45e7c",
   "outputs": [],
   "execution_count": 39
  },
  {
   "cell_type": "code",
   "metadata": {
    "ExecuteTime": {
     "end_time": "2024-09-30T22:03:12.134083Z",
     "start_time": "2024-09-30T22:03:12.128166Z"
    }
   },
   "source": [
    "assert father_job_dummies.shape == (4424, len(df[\"father's_occupation\"].unique()) - 1)"
   ],
   "id": "557f4df3a1eb13d8",
   "outputs": [],
   "execution_count": 40
  },
  {
   "cell_type": "code",
   "metadata": {
    "ExecuteTime": {
     "end_time": "2024-09-30T22:03:12.179947Z",
     "start_time": "2024-09-30T22:03:12.167851Z"
    }
   },
   "source": [
    "df = df.join(father_job_dummies)\n",
    "df = df.drop(columns=\"father's_occupation\")\n",
    "assert df.shape[0] == 4424"
   ],
   "id": "a3528735d7ae8ce9",
   "outputs": [],
   "execution_count": 41
  },
  {
   "cell_type": "markdown",
   "metadata": {},
   "source": [
    "### 1.11 Gender Rename <a class=\"anchor\" id=\"step11\"></a>"
   ],
   "id": "22a6eaa74c199374"
  },
  {
   "cell_type": "code",
   "metadata": {
    "ExecuteTime": {
     "end_time": "2024-09-30T22:03:12.241900Z",
     "start_time": "2024-09-30T22:03:12.228419Z"
    }
   },
   "source": [
    "df = df.rename({\"gender\": \"is_male\"})"
   ],
   "id": "eefea12c1cd717ad",
   "outputs": [],
   "execution_count": 42
  },
  {
   "cell_type": "code",
   "metadata": {
    "ExecuteTime": {
     "end_time": "2024-09-30T22:03:12.290951Z",
     "start_time": "2024-09-30T22:03:12.285047Z"
    }
   },
   "source": [
    "df.shape"
   ],
   "id": "31762a2519fc0602",
   "outputs": [
    {
     "data": {
      "text/plain": [
       "(4424, 165)"
      ]
     },
     "execution_count": 43,
     "metadata": {},
     "output_type": "execute_result"
    }
   ],
   "execution_count": 43
  },
  {
   "cell_type": "markdown",
   "metadata": {},
   "source": [
    "### 1.12 Encode the Target <a class=\"anchor\" id=\"step12\"></a>"
   ],
   "id": "e6dd16b3f7332b1b"
  },
  {
   "cell_type": "code",
   "metadata": {
    "ExecuteTime": {
     "end_time": "2024-09-30T22:03:12.356917Z",
     "start_time": "2024-09-30T22:03:12.351841Z"
    }
   },
   "source": [
    "target_map = {\"Enrolled\": 1, \"Dropout\": 0, \"Graduate\": 2}\n",
    "df[\"target\"] = df[\"target\"].map(target_map)"
   ],
   "id": "9a221f930b3ee9a4",
   "outputs": [],
   "execution_count": 44
  },
  {
   "cell_type": "markdown",
   "metadata": {},
   "source": [
    "### Write to file"
   ],
   "id": "443447e9fbde1fc"
  },
  {
   "cell_type": "code",
   "metadata": {
    "ExecuteTime": {
     "end_time": "2024-09-30T22:03:12.382633Z",
     "start_time": "2024-09-30T22:03:12.356917Z"
    }
   },
   "source": [
    "df.select_dtypes(exclude=\"object\").dtypes.value_counts()"
   ],
   "id": "5cd0296263ff07e6",
   "outputs": [
    {
     "data": {
      "text/plain": [
       "int64      155\n",
       "float64     10\n",
       "Name: count, dtype: int64"
      ]
     },
     "execution_count": 45,
     "metadata": {},
     "output_type": "execute_result"
    }
   ],
   "execution_count": 45
  },
  {
   "cell_type": "code",
   "metadata": {
    "ExecuteTime": {
     "end_time": "2024-09-30T22:03:12.530307Z",
     "start_time": "2024-09-30T22:03:12.433442Z"
    }
   },
   "source": [
    "df = df.select_dtypes(exclude=\"object\")\n",
    "df.to_csv(\"data/cleaned_data_baseline.csv\", index=False)"
   ],
   "id": "e0e1c630a2220034",
   "outputs": [],
   "execution_count": 46
  },
  {
   "cell_type": "markdown",
   "metadata": {},
   "source": [
    "## Feature Engineering\n",
    "\n",
    "This portion of notebook is where we modify dataset to gain value from best features."
   ],
   "id": "8181c40579285f96"
  },
  {
   "cell_type": "code",
   "metadata": {
    "ExecuteTime": {
     "end_time": "2024-09-30T22:03:12.817071Z",
     "start_time": "2024-09-30T22:03:12.562792Z"
    }
   },
   "source": [
    "from sklearn.pipeline import make_pipeline\n",
    "from sklearn.model_selection import train_test_split, cross_val_score\n",
    "from sklearn.ensemble import RandomForestClassifier\n",
    "from sklearn.preprocessing import MinMaxScaler"
   ],
   "id": "efb460db7b5ddab1",
   "outputs": [],
   "execution_count": 47
  },
  {
   "cell_type": "code",
   "metadata": {
    "ExecuteTime": {
     "end_time": "2024-09-30T22:03:12.828582Z",
     "start_time": "2024-09-30T22:03:12.817071Z"
    }
   },
   "source": [
    "def score_model(x, y, metric=\"accuracy\"):\n",
    "    x_train, x_test, y_train, y_test = train_test_split(x, y, random_state=42)\n",
    "    scaler = MinMaxScaler()\n",
    "    forest = RandomForestClassifier(random_state=42, class_weight={0:7, 1:3})\n",
    "    standardized_forest = make_pipeline(scaler, forest)\n",
    "    return cross_val_score(standardized_forest, x_train, y_train, scoring=metric)"
   ],
   "id": "f9b2d1222031766c",
   "outputs": [],
   "execution_count": 48
  },
  {
   "cell_type": "code",
   "metadata": {
    "ExecuteTime": {
     "end_time": "2024-09-30T22:03:12.866231Z",
     "start_time": "2024-09-30T22:03:12.861741Z"
    }
   },
   "source": [
    "def run_model(data_: pd.DataFrame, metric=\"accuracy\"):\n",
    "    # split data\n",
    "    fn_data = data_.copy()\n",
    "    y = fn_data.pop(\"target\")\n",
    "    x = fn_data\n",
    "    \n",
    "    # train model\n",
    "    return score_model(x, y, metric)"
   ],
   "id": "2463af242edaaf7b",
   "outputs": [],
   "execution_count": 49
  },
  {
   "cell_type": "code",
   "metadata": {
    "ExecuteTime": {
     "end_time": "2024-09-30T22:03:12.900783Z",
     "start_time": "2024-09-30T22:03:12.893184Z"
    }
   },
   "source": [
    "df.target = df.target.map(lambda x: 1 if x == 0 else 0)"
   ],
   "id": "182fe992c1c62047",
   "outputs": [],
   "execution_count": 50
  },
  {
   "metadata": {},
   "cell_type": "markdown",
   "source": "### Getting Baseline Scores Before Feature Engineering",
   "id": "d54254056346dc08"
  },
  {
   "cell_type": "code",
   "metadata": {
    "ExecuteTime": {
     "end_time": "2024-09-30T22:03:15.927797Z",
     "start_time": "2024-09-30T22:03:12.970569Z"
    }
   },
   "source": [
    "# test with our baseline processed data\n",
    "print(f\"Average Validation Accuracy: {run_model(df).mean():.2f}\")\n",
    "print(f\"Average Validation Recall: {run_model(df, \"recall\").mean():.2f}\")"
   ],
   "id": "4e0bf174fbb6fdf5",
   "outputs": [
    {
     "name": "stdout",
     "output_type": "stream",
     "text": [
      "Average Validation Accuracy: 0.88\n",
      "Average Validation Recall: 0.71\n"
     ]
    }
   ],
   "execution_count": 51
  },
  {
   "cell_type": "code",
   "metadata": {
    "ExecuteTime": {
     "end_time": "2024-09-30T22:03:15.986147Z",
     "start_time": "2024-09-30T22:03:15.961806Z"
    }
   },
   "source": [
    "fe_df = pd.read_csv(\"data/student-dropout-academic-success.csv\", sep=\";\")\n",
    "fe_df.columns = fe_df.columns.str.lower().str.replace(\" \", \"_\").str.strip()\n",
    "fe_df[\"target\"] = fe_df[\"target\"].map(lambda x: 1 if x == \"Dropout\" else 0)\n",
    "fe_df.head()"
   ],
   "id": "e194e4eb3b47cee",
   "outputs": [
    {
     "data": {
      "text/plain": [
       "   marital_status  application_mode  application_order  course  \\\n",
       "0               1                17                  5     171   \n",
       "1               1                15                  1    9254   \n",
       "2               1                 1                  5    9070   \n",
       "3               1                17                  2    9773   \n",
       "4               2                39                  1    8014   \n",
       "\n",
       "   daytime/evening_attendance  previous_qualification  \\\n",
       "0                           1                       1   \n",
       "1                           1                       1   \n",
       "2                           1                       1   \n",
       "3                           1                       1   \n",
       "4                           0                       1   \n",
       "\n",
       "   previous_qualification_(grade)  nacionality  mother's_qualification  \\\n",
       "0                           122.0            1                      19   \n",
       "1                           160.0            1                       1   \n",
       "2                           122.0            1                      37   \n",
       "3                           122.0            1                      38   \n",
       "4                           100.0            1                      37   \n",
       "\n",
       "   father's_qualification  ...  curricular_units_2nd_sem_(credited)  \\\n",
       "0                      12  ...                                    0   \n",
       "1                       3  ...                                    0   \n",
       "2                      37  ...                                    0   \n",
       "3                      37  ...                                    0   \n",
       "4                      38  ...                                    0   \n",
       "\n",
       "   curricular_units_2nd_sem_(enrolled)  \\\n",
       "0                                    0   \n",
       "1                                    6   \n",
       "2                                    6   \n",
       "3                                    6   \n",
       "4                                    6   \n",
       "\n",
       "   curricular_units_2nd_sem_(evaluations)  \\\n",
       "0                                       0   \n",
       "1                                       6   \n",
       "2                                       0   \n",
       "3                                      10   \n",
       "4                                       6   \n",
       "\n",
       "   curricular_units_2nd_sem_(approved)  curricular_units_2nd_sem_(grade)  \\\n",
       "0                                    0                          0.000000   \n",
       "1                                    6                         13.666667   \n",
       "2                                    0                          0.000000   \n",
       "3                                    5                         12.400000   \n",
       "4                                    6                         13.000000   \n",
       "\n",
       "   curricular_units_2nd_sem_(without_evaluations)  unemployment_rate  \\\n",
       "0                                               0               10.8   \n",
       "1                                               0               13.9   \n",
       "2                                               0               10.8   \n",
       "3                                               0                9.4   \n",
       "4                                               0               13.9   \n",
       "\n",
       "   inflation_rate   gdp  target  \n",
       "0             1.4  1.74       1  \n",
       "1            -0.3  0.79       0  \n",
       "2             1.4  1.74       1  \n",
       "3            -0.8 -3.12       0  \n",
       "4            -0.3  0.79       0  \n",
       "\n",
       "[5 rows x 37 columns]"
      ],
      "text/html": [
       "<div>\n",
       "<style scoped>\n",
       "    .dataframe tbody tr th:only-of-type {\n",
       "        vertical-align: middle;\n",
       "    }\n",
       "\n",
       "    .dataframe tbody tr th {\n",
       "        vertical-align: top;\n",
       "    }\n",
       "\n",
       "    .dataframe thead th {\n",
       "        text-align: right;\n",
       "    }\n",
       "</style>\n",
       "<table border=\"1\" class=\"dataframe\">\n",
       "  <thead>\n",
       "    <tr style=\"text-align: right;\">\n",
       "      <th></th>\n",
       "      <th>marital_status</th>\n",
       "      <th>application_mode</th>\n",
       "      <th>application_order</th>\n",
       "      <th>course</th>\n",
       "      <th>daytime/evening_attendance</th>\n",
       "      <th>previous_qualification</th>\n",
       "      <th>previous_qualification_(grade)</th>\n",
       "      <th>nacionality</th>\n",
       "      <th>mother's_qualification</th>\n",
       "      <th>father's_qualification</th>\n",
       "      <th>...</th>\n",
       "      <th>curricular_units_2nd_sem_(credited)</th>\n",
       "      <th>curricular_units_2nd_sem_(enrolled)</th>\n",
       "      <th>curricular_units_2nd_sem_(evaluations)</th>\n",
       "      <th>curricular_units_2nd_sem_(approved)</th>\n",
       "      <th>curricular_units_2nd_sem_(grade)</th>\n",
       "      <th>curricular_units_2nd_sem_(without_evaluations)</th>\n",
       "      <th>unemployment_rate</th>\n",
       "      <th>inflation_rate</th>\n",
       "      <th>gdp</th>\n",
       "      <th>target</th>\n",
       "    </tr>\n",
       "  </thead>\n",
       "  <tbody>\n",
       "    <tr>\n",
       "      <th>0</th>\n",
       "      <td>1</td>\n",
       "      <td>17</td>\n",
       "      <td>5</td>\n",
       "      <td>171</td>\n",
       "      <td>1</td>\n",
       "      <td>1</td>\n",
       "      <td>122.0</td>\n",
       "      <td>1</td>\n",
       "      <td>19</td>\n",
       "      <td>12</td>\n",
       "      <td>...</td>\n",
       "      <td>0</td>\n",
       "      <td>0</td>\n",
       "      <td>0</td>\n",
       "      <td>0</td>\n",
       "      <td>0.000000</td>\n",
       "      <td>0</td>\n",
       "      <td>10.8</td>\n",
       "      <td>1.4</td>\n",
       "      <td>1.74</td>\n",
       "      <td>1</td>\n",
       "    </tr>\n",
       "    <tr>\n",
       "      <th>1</th>\n",
       "      <td>1</td>\n",
       "      <td>15</td>\n",
       "      <td>1</td>\n",
       "      <td>9254</td>\n",
       "      <td>1</td>\n",
       "      <td>1</td>\n",
       "      <td>160.0</td>\n",
       "      <td>1</td>\n",
       "      <td>1</td>\n",
       "      <td>3</td>\n",
       "      <td>...</td>\n",
       "      <td>0</td>\n",
       "      <td>6</td>\n",
       "      <td>6</td>\n",
       "      <td>6</td>\n",
       "      <td>13.666667</td>\n",
       "      <td>0</td>\n",
       "      <td>13.9</td>\n",
       "      <td>-0.3</td>\n",
       "      <td>0.79</td>\n",
       "      <td>0</td>\n",
       "    </tr>\n",
       "    <tr>\n",
       "      <th>2</th>\n",
       "      <td>1</td>\n",
       "      <td>1</td>\n",
       "      <td>5</td>\n",
       "      <td>9070</td>\n",
       "      <td>1</td>\n",
       "      <td>1</td>\n",
       "      <td>122.0</td>\n",
       "      <td>1</td>\n",
       "      <td>37</td>\n",
       "      <td>37</td>\n",
       "      <td>...</td>\n",
       "      <td>0</td>\n",
       "      <td>6</td>\n",
       "      <td>0</td>\n",
       "      <td>0</td>\n",
       "      <td>0.000000</td>\n",
       "      <td>0</td>\n",
       "      <td>10.8</td>\n",
       "      <td>1.4</td>\n",
       "      <td>1.74</td>\n",
       "      <td>1</td>\n",
       "    </tr>\n",
       "    <tr>\n",
       "      <th>3</th>\n",
       "      <td>1</td>\n",
       "      <td>17</td>\n",
       "      <td>2</td>\n",
       "      <td>9773</td>\n",
       "      <td>1</td>\n",
       "      <td>1</td>\n",
       "      <td>122.0</td>\n",
       "      <td>1</td>\n",
       "      <td>38</td>\n",
       "      <td>37</td>\n",
       "      <td>...</td>\n",
       "      <td>0</td>\n",
       "      <td>6</td>\n",
       "      <td>10</td>\n",
       "      <td>5</td>\n",
       "      <td>12.400000</td>\n",
       "      <td>0</td>\n",
       "      <td>9.4</td>\n",
       "      <td>-0.8</td>\n",
       "      <td>-3.12</td>\n",
       "      <td>0</td>\n",
       "    </tr>\n",
       "    <tr>\n",
       "      <th>4</th>\n",
       "      <td>2</td>\n",
       "      <td>39</td>\n",
       "      <td>1</td>\n",
       "      <td>8014</td>\n",
       "      <td>0</td>\n",
       "      <td>1</td>\n",
       "      <td>100.0</td>\n",
       "      <td>1</td>\n",
       "      <td>37</td>\n",
       "      <td>38</td>\n",
       "      <td>...</td>\n",
       "      <td>0</td>\n",
       "      <td>6</td>\n",
       "      <td>6</td>\n",
       "      <td>6</td>\n",
       "      <td>13.000000</td>\n",
       "      <td>0</td>\n",
       "      <td>13.9</td>\n",
       "      <td>-0.3</td>\n",
       "      <td>0.79</td>\n",
       "      <td>0</td>\n",
       "    </tr>\n",
       "  </tbody>\n",
       "</table>\n",
       "<p>5 rows × 37 columns</p>\n",
       "</div>"
      ]
     },
     "execution_count": 52,
     "metadata": {},
     "output_type": "execute_result"
    }
   ],
   "execution_count": 52
  },
  {
   "cell_type": "markdown",
   "metadata": {},
   "source": [
    "### 2.1 Marital Status\n"
   ],
   "id": "966865ea26ba4ada"
  },
  {
   "cell_type": "code",
   "metadata": {
    "ExecuteTime": {
     "end_time": "2024-09-30T22:03:16.055528Z",
     "start_time": "2024-09-30T22:03:16.046507Z"
    }
   },
   "source": [
    "fe_df.marital_status = fe_df.marital_status.map({\n",
    "    1: \"single\", 2: \"married\", 3: \"widower\", 4: \"divorced\", \n",
    "    5: \"facto_union\", 6: \"legally_separated\"\n",
    "})\n",
    "fe_df[\"marital_status\"].value_counts()"
   ],
   "id": "8ae826b465d4a23a",
   "outputs": [
    {
     "data": {
      "text/plain": [
       "marital_status\n",
       "single               3919\n",
       "married               379\n",
       "divorced               91\n",
       "facto_union            25\n",
       "legally_separated       6\n",
       "widower                 4\n",
       "Name: count, dtype: int64"
      ]
     },
     "execution_count": 53,
     "metadata": {},
     "output_type": "execute_result"
    }
   ],
   "execution_count": 53
  },
  {
   "cell_type": "code",
   "metadata": {
    "ExecuteTime": {
     "end_time": "2024-09-30T22:03:16.137170Z",
     "start_time": "2024-09-30T22:03:16.123762Z"
    }
   },
   "source": [
    "marital_status = pd.get_dummies(fe_df[\"marital_status\"], dtype=int)\\\n",
    "    .drop(columns=\"single\")\n",
    "fe_df = fe_df.join(marital_status).drop(columns=\"marital_status\")\n",
    "fe_df.shape"
   ],
   "id": "c14967031a86dbec",
   "outputs": [
    {
     "data": {
      "text/plain": [
       "(4424, 41)"
      ]
     },
     "execution_count": 54,
     "metadata": {},
     "output_type": "execute_result"
    }
   ],
   "execution_count": 54
  },
  {
   "cell_type": "markdown",
   "metadata": {},
   "source": [
    "### 2.2 Application Mode"
   ],
   "id": "78620d5435765a77"
  },
  {
   "cell_type": "code",
   "metadata": {
    "ExecuteTime": {
     "end_time": "2024-09-30T22:03:16.245844Z",
     "start_time": "2024-09-30T22:03:16.240265Z"
    }
   },
   "source": [
    "fe_df = fe_df.drop(columns=\"application_mode\")"
   ],
   "id": "acfec3cc0f165116",
   "outputs": [],
   "execution_count": 55
  },
  {
   "cell_type": "markdown",
   "metadata": {},
   "source": [
    "### 2.3 Course"
   ],
   "id": "d120577fbbf0e15b"
  },
  {
   "cell_type": "code",
   "metadata": {
    "ExecuteTime": {
     "end_time": "2024-09-30T22:03:16.356772Z",
     "start_time": "2024-09-30T22:03:16.352410Z"
    }
   },
   "source": [
    "course_mappers = {\n",
    "    33: \"Biofuel_Production_Technologies\", 171: \"Animation_and_Multimedia_Design\",\n",
    "    8014: \"Social_Service_evening_attendance\", 9003: \"Agronomy\",\n",
    "    9070: \"Communication_Design\", 9085: \"Veterinary_Nursing\",\n",
    "    9119: \"Informatics_Engineering\", 9130: \"Equinculture\",\n",
    "    9147: \"Management\", 9238: \"Social_Service\",\n",
    "    9254: \"Tourism\", 9500: \"Nursing\",\n",
    "    9556: \"Oral_Hygiene\", 9670: \"Advertising_and_Marketing_Management\",\n",
    "    9773: \"Journalism_and_Communication\", 9853: \"Basic_Education\",\n",
    "    9991: \"Management_evening_attendance\"\n",
    "}\n",
    "course_mappers = {k: v.lower() for k, v in course_mappers.items()}"
   ],
   "id": "63a97334e8d128ae",
   "outputs": [],
   "execution_count": 56
  },
  {
   "cell_type": "code",
   "metadata": {
    "ExecuteTime": {
     "end_time": "2024-09-30T22:03:16.404916Z",
     "start_time": "2024-09-30T22:03:16.393188Z"
    }
   },
   "source": [
    "course = pd.get_dummies(fe_df[\"course\"].map(course_mappers), prefix=\"course\", dtype=int, drop_first=True)\n",
    "fe_df = fe_df.join(course).drop(columns=\"course\")"
   ],
   "id": "9e9a8a00b5c91318",
   "outputs": [],
   "execution_count": 57
  },
  {
   "cell_type": "code",
   "metadata": {
    "ExecuteTime": {
     "end_time": "2024-09-30T22:03:16.451860Z",
     "start_time": "2024-09-30T22:03:16.445520Z"
    }
   },
   "source": [
    "fe_df.shape"
   ],
   "id": "1d9f0431f373ba48",
   "outputs": [
    {
     "data": {
      "text/plain": [
       "(4424, 55)"
      ]
     },
     "execution_count": 58,
     "metadata": {},
     "output_type": "execute_result"
    }
   ],
   "execution_count": 58
  },
  {
   "cell_type": "markdown",
   "metadata": {},
   "source": [
    "### 2.4 Daytime Attendance"
   ],
   "id": "66a2347c074a07e7"
  },
  {
   "cell_type": "code",
   "metadata": {
    "ExecuteTime": {
     "end_time": "2024-09-30T22:03:16.495666Z",
     "start_time": "2024-09-30T22:03:16.487436Z"
    }
   },
   "source": [
    "fe_df = fe_df.rename(columns={\"daytime/evening_attendance\": \"daytime_attendance\"})"
   ],
   "id": "b6c5afaf39a86110",
   "outputs": [],
   "execution_count": 59
  },
  {
   "cell_type": "markdown",
   "metadata": {},
   "source": [
    "### 2.5 Previous Qualifications"
   ],
   "id": "c0c9505147269ff1"
  },
  {
   "cell_type": "code",
   "metadata": {
    "ExecuteTime": {
     "end_time": "2024-09-30T22:03:16.533291Z",
     "start_time": "2024-09-30T22:03:16.528551Z"
    }
   },
   "source": [
    "fe_df[\"previous_qualifications\"] = df[\"previous_qualification\"]"
   ],
   "id": "4a79db96b5a56761",
   "outputs": [],
   "execution_count": 60
  },
  {
   "cell_type": "code",
   "metadata": {
    "ExecuteTime": {
     "end_time": "2024-09-30T22:03:16.573261Z",
     "start_time": "2024-09-30T22:03:16.566261Z"
    }
   },
   "source": [
    "fe_df[\"previous_qualifications\"].value_counts()"
   ],
   "id": "8f306547d769e173",
   "outputs": [
    {
     "data": {
      "text/plain": [
       "previous_qualifications\n",
       "1.0    3717\n",
       "2.0     255\n",
       "0.0     232\n",
       "3.0     205\n",
       "4.0      15\n",
       "Name: count, dtype: int64"
      ]
     },
     "execution_count": 61,
     "metadata": {},
     "output_type": "execute_result"
    }
   ],
   "execution_count": 61
  },
  {
   "cell_type": "markdown",
   "metadata": {},
   "source": [
    "### 2.6 Nationality"
   ],
   "id": "7d233e9720344657"
  },
  {
   "cell_type": "code",
   "metadata": {
    "ExecuteTime": {
     "end_time": "2024-09-30T22:03:16.641423Z",
     "start_time": "2024-09-30T22:03:16.631003Z"
    }
   },
   "source": [
    "fe_df = fe_df.rename(columns={\"nacionality\": \"portuguese\"})\n",
    "fe_df[\"portuguese\"] = fe_df[\"portuguese\"].map(lambda x: 1 if x == 1 else 0)\n",
    "fe_df[\"portuguese\"].value_counts()"
   ],
   "id": "b8f824094a7d66bb",
   "outputs": [
    {
     "data": {
      "text/plain": [
       "portuguese\n",
       "1    4314\n",
       "0     110\n",
       "Name: count, dtype: int64"
      ]
     },
     "execution_count": 62,
     "metadata": {},
     "output_type": "execute_result"
    }
   ],
   "execution_count": 62
  },
  {
   "cell_type": "markdown",
   "metadata": {},
   "source": [
    "### 2.7 Mother's Qualification"
   ],
   "id": "17389effab57c41d"
  },
  {
   "cell_type": "code",
   "metadata": {
    "ExecuteTime": {
     "end_time": "2024-09-30T22:03:16.703805Z",
     "start_time": "2024-09-30T22:03:16.697387Z"
    }
   },
   "source": [
    "fe_df[\"mother's_qualification\"] = df[\"mother's_qualification\"]\n",
    "fe_df[\"mother's_qualification\"].value_counts()"
   ],
   "id": "cd8b775dfb9c5a87",
   "outputs": [
    {
     "data": {
      "text/plain": [
       "mother's_qualification\n",
       "0.0    2726\n",
       "1.0    1069\n",
       "3.0     534\n",
       "4.0      75\n",
       "2.0      20\n",
       "Name: count, dtype: int64"
      ]
     },
     "execution_count": 63,
     "metadata": {},
     "output_type": "execute_result"
    }
   ],
   "execution_count": 63
  },
  {
   "cell_type": "markdown",
   "metadata": {},
   "source": [
    "### 2.8 Father's Qualification"
   ],
   "id": "ff9943be59c59a2e"
  },
  {
   "cell_type": "code",
   "metadata": {
    "ExecuteTime": {
     "end_time": "2024-09-30T22:03:16.797438Z",
     "start_time": "2024-09-30T22:03:16.787379Z"
    }
   },
   "source": [
    "fe_df[\"father's_qualification\"] = df[\"father's_qualification\"]\n",
    "fe_df[\"father's_qualification\"].value_counts()"
   ],
   "id": "f73a2fcce094ab12",
   "outputs": [
    {
     "data": {
      "text/plain": [
       "father's_qualification\n",
       "0.0    2950\n",
       "1.0     908\n",
       "3.0     362\n",
       "4.0     173\n",
       "2.0      31\n",
       "Name: count, dtype: int64"
      ]
     },
     "execution_count": 64,
     "metadata": {},
     "output_type": "execute_result"
    }
   ],
   "execution_count": 64
  },
  {
   "cell_type": "markdown",
   "metadata": {},
   "source": [
    "### 2.9 Mother's Occupation (Drop Column)"
   ],
   "id": "73ea499c111b4b73"
  },
  {
   "cell_type": "code",
   "metadata": {
    "ExecuteTime": {
     "end_time": "2024-09-30T22:03:16.928407Z",
     "start_time": "2024-09-30T22:03:16.923156Z"
    }
   },
   "source": [
    "fe_df = fe_df.drop(columns=\"mother's_occupation\")"
   ],
   "id": "c496c1020225b121",
   "outputs": [],
   "execution_count": 65
  },
  {
   "cell_type": "markdown",
   "metadata": {},
   "source": [
    "### 2.10 Father's Occupation (Drop Column)"
   ],
   "id": "2080aafc05c64ffa"
  },
  {
   "cell_type": "code",
   "metadata": {
    "ExecuteTime": {
     "end_time": "2024-09-30T22:03:17.012830Z",
     "start_time": "2024-09-30T22:03:17.006558Z"
    }
   },
   "source": [
    "fe_df = fe_df.drop(columns=\"father's_occupation\")"
   ],
   "id": "a6232b2aedfabaa8",
   "outputs": [],
   "execution_count": 66
  },
  {
   "cell_type": "code",
   "metadata": {
    "ExecuteTime": {
     "end_time": "2024-09-30T22:03:17.149657Z",
     "start_time": "2024-09-30T22:03:17.144208Z"
    }
   },
   "source": [
    "fe_df.shape"
   ],
   "id": "1b59d059c8b84d08",
   "outputs": [
    {
     "data": {
      "text/plain": [
       "(4424, 54)"
      ]
     },
     "execution_count": 67,
     "metadata": {},
     "output_type": "execute_result"
    }
   ],
   "execution_count": 67
  },
  {
   "cell_type": "markdown",
   "metadata": {},
   "source": [
    "### Write to file"
   ],
   "id": "4142cd0cafd0e519"
  },
  {
   "cell_type": "code",
   "metadata": {
    "ExecuteTime": {
     "end_time": "2024-09-30T22:03:17.189303Z",
     "start_time": "2024-09-30T22:03:17.184330Z"
    }
   },
   "source": [
    "fe_df.target.value_counts()"
   ],
   "id": "8d73af3afc084535",
   "outputs": [
    {
     "data": {
      "text/plain": [
       "target\n",
       "0    3003\n",
       "1    1421\n",
       "Name: count, dtype: int64"
      ]
     },
     "execution_count": 68,
     "metadata": {},
     "output_type": "execute_result"
    }
   ],
   "execution_count": 68
  },
  {
   "cell_type": "code",
   "metadata": {
    "ExecuteTime": {
     "end_time": "2024-09-30T22:03:17.301849Z",
     "start_time": "2024-09-30T22:03:17.249845Z"
    }
   },
   "source": [
    "fe_df.to_csv(\"data/feature_engineering.csv\", index=False)"
   ],
   "id": "fecf55b37edde081",
   "outputs": [],
   "execution_count": 69
  },
  {
   "metadata": {},
   "cell_type": "markdown",
   "source": "### Getting Scores After Feature Engineering",
   "id": "d04b650b1bca01c"
  },
  {
   "cell_type": "code",
   "metadata": {
    "ExecuteTime": {
     "end_time": "2024-09-30T22:03:18.883278Z",
     "start_time": "2024-09-30T22:03:17.342099Z"
    }
   },
   "source": [
    "print(f\"Average Validation Accuracy: {run_model(fe_df).mean():.2f}\")"
   ],
   "id": "48f930a2c9c5c88",
   "outputs": [
    {
     "name": "stdout",
     "output_type": "stream",
     "text": [
      "Average Validation Accuracy: 0.88\n"
     ]
    }
   ],
   "execution_count": 70
  },
  {
   "cell_type": "code",
   "metadata": {
    "ExecuteTime": {
     "end_time": "2024-09-30T22:03:20.428900Z",
     "start_time": "2024-09-30T22:03:18.947843Z"
    }
   },
   "source": [
    "print(f\"Average Validation Recall: {run_model(fe_df, 'recall').mean():.2f}\")"
   ],
   "id": "e9fe4a8ff6953e1c",
   "outputs": [
    {
     "name": "stdout",
     "output_type": "stream",
     "text": [
      "Average Validation Recall: 0.72\n"
     ]
    }
   ],
   "execution_count": 71
  }
 ],
 "metadata": {
  "kernelspec": {
   "display_name": "Python 3",
   "language": "python",
   "name": "python3"
  },
  "language_info": {
   "codemirror_mode": {
    "name": "ipython",
    "version": 3
   },
   "file_extension": ".py",
   "mimetype": "text/x-python",
   "name": "python",
   "nbconvert_exporter": "python",
   "pygments_lexer": "ipython3",
   "version": "3.8.5"
  }
 },
 "nbformat": 4,
 "nbformat_minor": 5
}
