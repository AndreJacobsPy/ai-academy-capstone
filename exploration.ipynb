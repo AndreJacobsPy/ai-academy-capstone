{
 "cells": [
  {
   "cell_type": "markdown",
   "id": "22d1a6e4-f37f-4fb5-bb41-0ca6e3d7943d",
   "metadata": {},
   "source": [
    "# Student Success Classification\n",
    "\n",
    "This notebook is intended to be a place where our team experiments, works with, and models the data. Our goal is to classify the status of students between 3 distinct classes:\n",
    "1. Drop out\n",
    "2. Graduated\n",
    "3. Enrolled\n",
    "\n",
    "There are 36 features to predict this including demographic information, academic information, financial information, and a few economic indicators."
   ]
  },
  {
   "cell_type": "markdown",
   "id": "04c24b4a-d815-4042-b06d-84d05e95c017",
   "metadata": {},
   "source": [
    "## Importing the data"
   ]
  },
  {
   "cell_type": "code",
   "id": "5afc5b44-3218-470e-bda4-a0ae10300781",
   "metadata": {
    "ExecuteTime": {
     "end_time": "2024-09-05T16:34:13.485885Z",
     "start_time": "2024-09-05T16:34:08.739735Z"
    }
   },
   "source": [
    "%%bash\n",
    "ls data"
   ],
   "outputs": [
    {
     "name": "stdout",
     "output_type": "stream",
     "text": [
      "metadata.csv\n",
      "student-dropout-academic-success.csv\n"
     ]
    }
   ],
   "execution_count": 74
  },
  {
   "cell_type": "code",
   "id": "1cdedc4c-a698-45a7-ae63-6e83bfb155fa",
   "metadata": {
    "ExecuteTime": {
     "end_time": "2024-09-05T16:34:13.548414Z",
     "start_time": "2024-09-05T16:34:13.509582Z"
    }
   },
   "source": [
    "import pandas as pd\n",
    "\n",
    "# importing data and insuring columns were read in correctly\n",
    "raw_data = pd.read_csv(\"data/student-dropout-academic-success.csv\", delimiter=\";\")\n",
    "raw_data.columns = raw_data.columns.str.strip()\n",
    "raw_data.info()"
   ],
   "outputs": [
    {
     "name": "stdout",
     "output_type": "stream",
     "text": [
      "<class 'pandas.core.frame.DataFrame'>\n",
      "RangeIndex: 4424 entries, 0 to 4423\n",
      "Data columns (total 37 columns):\n",
      " #   Column                                          Non-Null Count  Dtype  \n",
      "---  ------                                          --------------  -----  \n",
      " 0   Marital status                                  4424 non-null   int64  \n",
      " 1   Application mode                                4424 non-null   int64  \n",
      " 2   Application order                               4424 non-null   int64  \n",
      " 3   Course                                          4424 non-null   int64  \n",
      " 4   Daytime/evening attendance                      4424 non-null   int64  \n",
      " 5   Previous qualification                          4424 non-null   int64  \n",
      " 6   Previous qualification (grade)                  4424 non-null   float64\n",
      " 7   Nacionality                                     4424 non-null   int64  \n",
      " 8   Mother's qualification                          4424 non-null   int64  \n",
      " 9   Father's qualification                          4424 non-null   int64  \n",
      " 10  Mother's occupation                             4424 non-null   int64  \n",
      " 11  Father's occupation                             4424 non-null   int64  \n",
      " 12  Admission grade                                 4424 non-null   float64\n",
      " 13  Displaced                                       4424 non-null   int64  \n",
      " 14  Educational special needs                       4424 non-null   int64  \n",
      " 15  Debtor                                          4424 non-null   int64  \n",
      " 16  Tuition fees up to date                         4424 non-null   int64  \n",
      " 17  Gender                                          4424 non-null   int64  \n",
      " 18  Scholarship holder                              4424 non-null   int64  \n",
      " 19  Age at enrollment                               4424 non-null   int64  \n",
      " 20  International                                   4424 non-null   int64  \n",
      " 21  Curricular units 1st sem (credited)             4424 non-null   int64  \n",
      " 22  Curricular units 1st sem (enrolled)             4424 non-null   int64  \n",
      " 23  Curricular units 1st sem (evaluations)          4424 non-null   int64  \n",
      " 24  Curricular units 1st sem (approved)             4424 non-null   int64  \n",
      " 25  Curricular units 1st sem (grade)                4424 non-null   float64\n",
      " 26  Curricular units 1st sem (without evaluations)  4424 non-null   int64  \n",
      " 27  Curricular units 2nd sem (credited)             4424 non-null   int64  \n",
      " 28  Curricular units 2nd sem (enrolled)             4424 non-null   int64  \n",
      " 29  Curricular units 2nd sem (evaluations)          4424 non-null   int64  \n",
      " 30  Curricular units 2nd sem (approved)             4424 non-null   int64  \n",
      " 31  Curricular units 2nd sem (grade)                4424 non-null   float64\n",
      " 32  Curricular units 2nd sem (without evaluations)  4424 non-null   int64  \n",
      " 33  Unemployment rate                               4424 non-null   float64\n",
      " 34  Inflation rate                                  4424 non-null   float64\n",
      " 35  GDP                                             4424 non-null   float64\n",
      " 36  Target                                          4424 non-null   object \n",
      "dtypes: float64(7), int64(29), object(1)\n",
      "memory usage: 1.2+ MB\n"
     ]
    }
   ],
   "execution_count": 75
  },
  {
   "cell_type": "markdown",
   "metadata": {},
   "source": [
    "## Brief Look at the Data"
   ],
   "id": "583f4c49d13f9b71"
  },
  {
   "cell_type": "code",
   "id": "3bf2356a-22ed-4b95-8c0e-e1a6717cc724",
   "metadata": {
    "ExecuteTime": {
     "end_time": "2024-09-05T16:34:13.587557Z",
     "start_time": "2024-09-05T16:34:13.576848Z"
    }
   },
   "source": [
    "# looking at target column\n",
    "raw_data.Target.value_counts()"
   ],
   "outputs": [
    {
     "data": {
      "text/plain": [
       "Target\n",
       "Graduate    2209\n",
       "Dropout     1421\n",
       "Enrolled     794\n",
       "Name: count, dtype: int64"
      ]
     },
     "execution_count": 76,
     "metadata": {},
     "output_type": "execute_result"
    }
   ],
   "execution_count": 76
  },
  {
   "cell_type": "code",
   "id": "3b63ccd0-b2c3-4cea-abaa-1b79c0e7b51a",
   "metadata": {
    "ExecuteTime": {
     "end_time": "2024-09-05T16:34:13.651972Z",
     "start_time": "2024-09-05T16:34:13.638538Z"
    }
   },
   "source": [
    "raw_data.head()"
   ],
   "outputs": [
    {
     "data": {
      "text/plain": [
       "   Marital status  Application mode  Application order  Course  \\\n",
       "0               1                17                  5     171   \n",
       "1               1                15                  1    9254   \n",
       "2               1                 1                  5    9070   \n",
       "3               1                17                  2    9773   \n",
       "4               2                39                  1    8014   \n",
       "\n",
       "   Daytime/evening attendance  Previous qualification  \\\n",
       "0                           1                       1   \n",
       "1                           1                       1   \n",
       "2                           1                       1   \n",
       "3                           1                       1   \n",
       "4                           0                       1   \n",
       "\n",
       "   Previous qualification (grade)  Nacionality  Mother's qualification  \\\n",
       "0                           122.0            1                      19   \n",
       "1                           160.0            1                       1   \n",
       "2                           122.0            1                      37   \n",
       "3                           122.0            1                      38   \n",
       "4                           100.0            1                      37   \n",
       "\n",
       "   Father's qualification  ...  Curricular units 2nd sem (credited)  \\\n",
       "0                      12  ...                                    0   \n",
       "1                       3  ...                                    0   \n",
       "2                      37  ...                                    0   \n",
       "3                      37  ...                                    0   \n",
       "4                      38  ...                                    0   \n",
       "\n",
       "   Curricular units 2nd sem (enrolled)  \\\n",
       "0                                    0   \n",
       "1                                    6   \n",
       "2                                    6   \n",
       "3                                    6   \n",
       "4                                    6   \n",
       "\n",
       "   Curricular units 2nd sem (evaluations)  \\\n",
       "0                                       0   \n",
       "1                                       6   \n",
       "2                                       0   \n",
       "3                                      10   \n",
       "4                                       6   \n",
       "\n",
       "   Curricular units 2nd sem (approved)  Curricular units 2nd sem (grade)  \\\n",
       "0                                    0                          0.000000   \n",
       "1                                    6                         13.666667   \n",
       "2                                    0                          0.000000   \n",
       "3                                    5                         12.400000   \n",
       "4                                    6                         13.000000   \n",
       "\n",
       "   Curricular units 2nd sem (without evaluations)  Unemployment rate  \\\n",
       "0                                               0               10.8   \n",
       "1                                               0               13.9   \n",
       "2                                               0               10.8   \n",
       "3                                               0                9.4   \n",
       "4                                               0               13.9   \n",
       "\n",
       "   Inflation rate   GDP    Target  \n",
       "0             1.4  1.74   Dropout  \n",
       "1            -0.3  0.79  Graduate  \n",
       "2             1.4  1.74   Dropout  \n",
       "3            -0.8 -3.12  Graduate  \n",
       "4            -0.3  0.79  Graduate  \n",
       "\n",
       "[5 rows x 37 columns]"
      ],
      "text/html": [
       "<div>\n",
       "<style scoped>\n",
       "    .dataframe tbody tr th:only-of-type {\n",
       "        vertical-align: middle;\n",
       "    }\n",
       "\n",
       "    .dataframe tbody tr th {\n",
       "        vertical-align: top;\n",
       "    }\n",
       "\n",
       "    .dataframe thead th {\n",
       "        text-align: right;\n",
       "    }\n",
       "</style>\n",
       "<table border=\"1\" class=\"dataframe\">\n",
       "  <thead>\n",
       "    <tr style=\"text-align: right;\">\n",
       "      <th></th>\n",
       "      <th>Marital status</th>\n",
       "      <th>Application mode</th>\n",
       "      <th>Application order</th>\n",
       "      <th>Course</th>\n",
       "      <th>Daytime/evening attendance</th>\n",
       "      <th>Previous qualification</th>\n",
       "      <th>Previous qualification (grade)</th>\n",
       "      <th>Nacionality</th>\n",
       "      <th>Mother's qualification</th>\n",
       "      <th>Father's qualification</th>\n",
       "      <th>...</th>\n",
       "      <th>Curricular units 2nd sem (credited)</th>\n",
       "      <th>Curricular units 2nd sem (enrolled)</th>\n",
       "      <th>Curricular units 2nd sem (evaluations)</th>\n",
       "      <th>Curricular units 2nd sem (approved)</th>\n",
       "      <th>Curricular units 2nd sem (grade)</th>\n",
       "      <th>Curricular units 2nd sem (without evaluations)</th>\n",
       "      <th>Unemployment rate</th>\n",
       "      <th>Inflation rate</th>\n",
       "      <th>GDP</th>\n",
       "      <th>Target</th>\n",
       "    </tr>\n",
       "  </thead>\n",
       "  <tbody>\n",
       "    <tr>\n",
       "      <th>0</th>\n",
       "      <td>1</td>\n",
       "      <td>17</td>\n",
       "      <td>5</td>\n",
       "      <td>171</td>\n",
       "      <td>1</td>\n",
       "      <td>1</td>\n",
       "      <td>122.0</td>\n",
       "      <td>1</td>\n",
       "      <td>19</td>\n",
       "      <td>12</td>\n",
       "      <td>...</td>\n",
       "      <td>0</td>\n",
       "      <td>0</td>\n",
       "      <td>0</td>\n",
       "      <td>0</td>\n",
       "      <td>0.000000</td>\n",
       "      <td>0</td>\n",
       "      <td>10.8</td>\n",
       "      <td>1.4</td>\n",
       "      <td>1.74</td>\n",
       "      <td>Dropout</td>\n",
       "    </tr>\n",
       "    <tr>\n",
       "      <th>1</th>\n",
       "      <td>1</td>\n",
       "      <td>15</td>\n",
       "      <td>1</td>\n",
       "      <td>9254</td>\n",
       "      <td>1</td>\n",
       "      <td>1</td>\n",
       "      <td>160.0</td>\n",
       "      <td>1</td>\n",
       "      <td>1</td>\n",
       "      <td>3</td>\n",
       "      <td>...</td>\n",
       "      <td>0</td>\n",
       "      <td>6</td>\n",
       "      <td>6</td>\n",
       "      <td>6</td>\n",
       "      <td>13.666667</td>\n",
       "      <td>0</td>\n",
       "      <td>13.9</td>\n",
       "      <td>-0.3</td>\n",
       "      <td>0.79</td>\n",
       "      <td>Graduate</td>\n",
       "    </tr>\n",
       "    <tr>\n",
       "      <th>2</th>\n",
       "      <td>1</td>\n",
       "      <td>1</td>\n",
       "      <td>5</td>\n",
       "      <td>9070</td>\n",
       "      <td>1</td>\n",
       "      <td>1</td>\n",
       "      <td>122.0</td>\n",
       "      <td>1</td>\n",
       "      <td>37</td>\n",
       "      <td>37</td>\n",
       "      <td>...</td>\n",
       "      <td>0</td>\n",
       "      <td>6</td>\n",
       "      <td>0</td>\n",
       "      <td>0</td>\n",
       "      <td>0.000000</td>\n",
       "      <td>0</td>\n",
       "      <td>10.8</td>\n",
       "      <td>1.4</td>\n",
       "      <td>1.74</td>\n",
       "      <td>Dropout</td>\n",
       "    </tr>\n",
       "    <tr>\n",
       "      <th>3</th>\n",
       "      <td>1</td>\n",
       "      <td>17</td>\n",
       "      <td>2</td>\n",
       "      <td>9773</td>\n",
       "      <td>1</td>\n",
       "      <td>1</td>\n",
       "      <td>122.0</td>\n",
       "      <td>1</td>\n",
       "      <td>38</td>\n",
       "      <td>37</td>\n",
       "      <td>...</td>\n",
       "      <td>0</td>\n",
       "      <td>6</td>\n",
       "      <td>10</td>\n",
       "      <td>5</td>\n",
       "      <td>12.400000</td>\n",
       "      <td>0</td>\n",
       "      <td>9.4</td>\n",
       "      <td>-0.8</td>\n",
       "      <td>-3.12</td>\n",
       "      <td>Graduate</td>\n",
       "    </tr>\n",
       "    <tr>\n",
       "      <th>4</th>\n",
       "      <td>2</td>\n",
       "      <td>39</td>\n",
       "      <td>1</td>\n",
       "      <td>8014</td>\n",
       "      <td>0</td>\n",
       "      <td>1</td>\n",
       "      <td>100.0</td>\n",
       "      <td>1</td>\n",
       "      <td>37</td>\n",
       "      <td>38</td>\n",
       "      <td>...</td>\n",
       "      <td>0</td>\n",
       "      <td>6</td>\n",
       "      <td>6</td>\n",
       "      <td>6</td>\n",
       "      <td>13.000000</td>\n",
       "      <td>0</td>\n",
       "      <td>13.9</td>\n",
       "      <td>-0.3</td>\n",
       "      <td>0.79</td>\n",
       "      <td>Graduate</td>\n",
       "    </tr>\n",
       "  </tbody>\n",
       "</table>\n",
       "<p>5 rows × 37 columns</p>\n",
       "</div>"
      ]
     },
     "execution_count": 77,
     "metadata": {},
     "output_type": "execute_result"
    }
   ],
   "execution_count": 77
  },
  {
   "cell_type": "markdown",
   "metadata": {},
   "source": [
    "## Looking column by column"
   ],
   "id": "477b58ee18779406"
  },
  {
   "cell_type": "code",
   "metadata": {
    "ExecuteTime": {
     "end_time": "2024-09-05T16:34:13.750835Z",
     "start_time": "2024-09-05T16:34:13.740700Z"
    }
   },
   "source": [
    "df = raw_data.copy()  # copying data to create a working copy\n",
    "df.columns = df.columns.str.replace(\" \", \"_\").str.lower()"
   ],
   "id": "6c0ffbecfedd22be",
   "outputs": [],
   "execution_count": 78
  },
  {
   "cell_type": "markdown",
   "metadata": {},
   "source": "### Marital Status",
   "id": "e42c723314c1ec2c"
  },
  {
   "cell_type": "code",
   "metadata": {
    "ExecuteTime": {
     "end_time": "2024-09-05T16:34:13.914752Z",
     "start_time": "2024-09-05T16:34:13.899237Z"
    }
   },
   "source": [
    "df.marital_status.value_counts().sort_index()"
   ],
   "id": "56913c128dcf35bf",
   "outputs": [
    {
     "data": {
      "text/plain": [
       "marital_status\n",
       "1    3919\n",
       "2     379\n",
       "3       4\n",
       "4      91\n",
       "5      25\n",
       "6       6\n",
       "Name: count, dtype: int64"
      ]
     },
     "execution_count": 79,
     "metadata": {},
     "output_type": "execute_result"
    }
   ],
   "execution_count": 79
  },
  {
   "metadata": {},
   "cell_type": "markdown",
   "source": [
    "1 – single 2 – married 3 – widower 4 – divorced 5 – facto union 6 – legally separated\n",
    "\n",
    "We need to convert this ordinal column back to strings then we will one hot encode it."
   ],
   "id": "26e78121b4e3841d"
  },
  {
   "metadata": {
    "ExecuteTime": {
     "end_time": "2024-09-05T16:34:14.158864Z",
     "start_time": "2024-09-05T16:34:14.137866Z"
    }
   },
   "cell_type": "code",
   "source": [
    "df.marital_status = df.marital_status.map(\n",
    "    {1: \"single\", 2: \"married\", 3: \"widower\", 4: \"divorced\", 5: \"facto_union\", 6: \"legally_separated\"}\n",
    ")\n",
    "grouped_marital_status = df.marital_status.value_counts()"
   ],
   "id": "c1e36a262ea5cf6d",
   "outputs": [],
   "execution_count": 80
  },
  {
   "metadata": {
    "ExecuteTime": {
     "end_time": "2024-09-05T16:34:14.452822Z",
     "start_time": "2024-09-05T16:34:14.313428Z"
    }
   },
   "cell_type": "code",
   "source": "grouped_marital_status.plot(kind=\"bar\");",
   "id": "8c9fc6a86a0488e8",
   "outputs": [
    {
     "data": {
      "text/plain": [
       "<Figure size 640x480 with 1 Axes>"
      ],
      "image/png": "[encoded data removed]"
     },
     "metadata": {},
     "output_type": "display_data"
    }
   ],
   "execution_count": 81
  },
  {
   "metadata": {
    "ExecuteTime": {
     "end_time": "2024-09-05T16:34:14.502700Z",
     "start_time": "2024-09-05T16:34:14.485566Z"
    }
   },
   "cell_type": "code",
   "source": [
    "normalized_target_by_marital = df.groupby([\"marital_status\", \"target\"])[\"target\"].count() / df.groupby(\"marital_status\")[\"target\"].count()\n",
    "normalized_target_by_marital"
   ],
   "id": "48966a799af6f5d2",
   "outputs": [
    {
     "data": {
      "text/plain": [
       "marital_status     target  \n",
       "divorced           Dropout     0.461538\n",
       "                   Enrolled    0.175824\n",
       "                   Graduate    0.362637\n",
       "facto_union        Dropout     0.440000\n",
       "                   Enrolled    0.120000\n",
       "                   Graduate    0.440000\n",
       "legally_separated  Dropout     0.666667\n",
       "                   Enrolled    0.166667\n",
       "                   Graduate    0.166667\n",
       "married            Dropout     0.472296\n",
       "                   Enrolled    0.137203\n",
       "                   Graduate    0.390501\n",
       "single             Dropout     0.302118\n",
       "                   Enrolled    0.183720\n",
       "                   Graduate    0.514162\n",
       "widower            Dropout     0.250000\n",
       "                   Enrolled    0.500000\n",
       "                   Graduate    0.250000\n",
       "Name: target, dtype: float64"
      ]
     },
     "execution_count": 82,
     "metadata": {},
     "output_type": "execute_result"
    }
   ],
   "execution_count": 82
  },
  {
   "metadata": {},
   "cell_type": "markdown",
   "source": "### Application Mode",
   "id": "6400a07dfb60a1eb"
  },
  {
   "metadata": {
    "ExecuteTime": {
     "end_time": "2024-09-05T16:34:14.578146Z",
     "start_time": "2024-09-05T16:34:14.569080Z"
    }
   },
   "cell_type": "code",
   "source": "df.application_mode.value_counts().sort_index()",
   "id": "e37e2045bf390026",
   "outputs": [
    {
     "data": {
      "text/plain": [
       "application_mode\n",
       "1     1708\n",
       "2        3\n",
       "5       16\n",
       "7      139\n",
       "10      10\n",
       "15      30\n",
       "16      38\n",
       "17     872\n",
       "18     124\n",
       "26       1\n",
       "27       1\n",
       "39     785\n",
       "42      77\n",
       "43     312\n",
       "44     213\n",
       "51      59\n",
       "53      35\n",
       "57       1\n",
       "Name: count, dtype: int64"
      ]
     },
     "execution_count": 83,
     "metadata": {},
     "output_type": "execute_result"
    }
   ],
   "execution_count": 83
  },
  {
   "metadata": {},
   "cell_type": "markdown",
   "source": [
    "- 1 - 1st phase - general contingent \n",
    "- 2 - Ordinance No. 612/93 \n",
    "- 5 - 1st phase - special contingent (Azores Island) \n",
    "- 7 - Holders of other higher courses \n",
    "- 10 - Ordinance No. 854-B/99 \n",
    "- 15 - International student (bachelor) \n",
    "- 16 - 1st phase - special contingent (Madeira Island) \n",
    "- 17 - 2nd phase - general contingent \n",
    "- 18 - 3rd phase - general contingent \n",
    "- 26 - Ordinance No. 533-A/99, item b2) (Different Plan) \n",
    "- 27 - Ordinance No. 533-A/99, item b3 (Other Institution) \n",
    "- 39 - Over 23 years old \n",
    "- 42 - Transfer \n",
    "- 43 - Change of course \n",
    "- 44 - Technological specialization diploma holders \n",
    "- 51 - Change of institution/course \n",
    "- 53 - Short cycle diploma holders \n",
    "- 57 - Change of institution/course (International)\n",
    "\n",
    "We need to convert this ordinal column back to strings then we will one hot encode it. It is unclear that this should be ordinal or nominal. We will treat it as nominal for now."
   ],
   "id": "a5acfa40820706b3"
  },
  {
   "metadata": {
    "ExecuteTime": {
     "end_time": "2024-09-05T16:34:14.697134Z",
     "start_time": "2024-09-05T16:34:14.686134Z"
    }
   },
   "cell_type": "code",
   "source": [
    "df.application_mode = df.application_mode.map(\n",
    "    {\n",
    "        1: \"1st_phase_general_contingent\", 2: \"Ordinance_No_612/93\", \n",
    "        5: \"1st_phase_special_contingent_Azores_Island\", \n",
    "        7: \"Holders_of_other_higher_courses\", 10: \"Ordinance_No_854-B/99\",\n",
    "        15: \"International_student_bachelor\", \n",
    "        16: \"1st_phase_special_contingent_Madeira_Island\",\n",
    "        17: \"2nd_phase_general_contingent\", 18: \"3rd_phase_general_contingent\",\n",
    "        26: \"Ordinance_No_533-A/99_item_b2_Different_Plan\",\n",
    "        27: \"Ordinance_No_533-A/99_item_b3_Other_Institution\",\n",
    "        39: \"Over_23_years_old\", 42: \"Transfer\", 43: \"Change_of_course\",\n",
    "        44: \"Technological_specialization_diploma_holders\",\n",
    "        51: \"Change_of_institution_course\", 53: \"Short_cycle_diploma_holders\",\n",
    "        57: \"Change_of_institution_course_International\"\n",
    "    }\n",
    ")\n",
    "grouped_application_mode = df.application_mode.value_counts()\n",
    "grouped_application_mode"
   ],
   "id": "2df809fe799fd3c3",
   "outputs": [
    {
     "data": {
      "text/plain": [
       "application_mode\n",
       "1st_phase_general_contingent                       1708\n",
       "2nd_phase_general_contingent                        872\n",
       "Over_23_years_old                                   785\n",
       "Change_of_course                                    312\n",
       "Technological_specialization_diploma_holders        213\n",
       "Holders_of_other_higher_courses                     139\n",
       "3rd_phase_general_contingent                        124\n",
       "Transfer                                             77\n",
       "Change_of_institution_course                         59\n",
       "1st_phase_special_contingent_Madeira_Island          38\n",
       "Short_cycle_diploma_holders                          35\n",
       "International_student_bachelor                       30\n",
       "1st_phase_special_contingent_Azores_Island           16\n",
       "Ordinance_No_854-B/99                                10\n",
       "Ordinance_No_612/93                                   3\n",
       "Change_of_institution_course_International            1\n",
       "Ordinance_No_533-A/99_item_b2_Different_Plan          1\n",
       "Ordinance_No_533-A/99_item_b3_Other_Institution       1\n",
       "Name: count, dtype: int64"
      ]
     },
     "execution_count": 84,
     "metadata": {},
     "output_type": "execute_result"
    }
   ],
   "execution_count": 84
  },
  {
   "metadata": {
    "ExecuteTime": {
     "end_time": "2024-09-05T16:34:15.100498Z",
     "start_time": "2024-09-05T16:34:14.848942Z"
    }
   },
   "cell_type": "code",
   "source": "grouped_application_mode.sort_values().plot(kind=\"barh\");",
   "id": "5173e1f1647c3553",
   "outputs": [
    {
     "data": {
      "text/plain": [
       "<Figure size 640x480 with 1 Axes>"
      ],
      "image/png": "[encoded data removed]"
     },
     "metadata": {},
     "output_type": "display_data"
    }
   ],
   "execution_count": 85
  },
  {
   "metadata": {},
   "cell_type": "markdown",
   "source": "It seems most applicants are in the 1st or 2nd phase of the general contingent. We will one hot encode this column so, model can see differences among categories.",
   "id": "8d511a76f5fc4681"
  },
  {
   "metadata": {},
   "cell_type": "markdown",
   "source": "### Application Order",
   "id": "6052349d4ef52b2d"
  },
  {
   "metadata": {
    "ExecuteTime": {
     "end_time": "2024-09-05T16:34:15.139885Z",
     "start_time": "2024-09-05T16:34:15.130973Z"
    }
   },
   "cell_type": "code",
   "source": [
    "grouped_app_order = df.application_order.value_counts().sort_index()\n",
    "grouped_app_order"
   ],
   "id": "59c8267dcff58cc9",
   "outputs": [
    {
     "data": {
      "text/plain": [
       "application_order\n",
       "0       1\n",
       "1    3026\n",
       "2     547\n",
       "3     309\n",
       "4     249\n",
       "5     154\n",
       "6     137\n",
       "9       1\n",
       "Name: count, dtype: int64"
      ]
     },
     "execution_count": 86,
     "metadata": {},
     "output_type": "execute_result"
    }
   ],
   "execution_count": 86
  },
  {
   "metadata": {},
   "cell_type": "markdown",
   "source": [
    "Application order (between 0 - first choice; and 9 last choice)\n",
    "\n",
    "This column seems to actually be an ordered column so we can leave it like this."
   ],
   "id": "29e49819c4c0e393"
  },
  {
   "metadata": {
    "ExecuteTime": {
     "end_time": "2024-09-05T16:34:15.300817Z",
     "start_time": "2024-09-05T16:34:15.205679Z"
    }
   },
   "cell_type": "code",
   "source": "grouped_app_order.plot(kind=\"bar\");",
   "id": "d26ddd2f144afcf5",
   "outputs": [
    {
     "data": {
      "text/plain": [
       "<Figure size 640x480 with 1 Axes>"
      ],
      "image/png": "[encoded data removed]"
     },
     "metadata": {},
     "output_type": "display_data"
    }
   ],
   "execution_count": 87
  },
  {
   "metadata": {
    "ExecuteTime": {
     "end_time": "2024-09-05T16:34:15.348695Z",
     "start_time": "2024-09-05T16:34:15.332545Z"
    }
   },
   "cell_type": "code",
   "source": [
    "normalized_target_by_app_order = df.groupby([\"application_order\", \"target\"])[\"target\"].count() / df.groupby(\"application_order\")[\"target\"].count()\n",
    "normalized_target_by_app_order"
   ],
   "id": "b8b53954ab139896",
   "outputs": [
    {
     "data": {
      "text/plain": [
       "application_order  target  \n",
       "0                  Graduate    1.000000\n",
       "1                  Dropout     0.347984\n",
       "                   Enrolled    0.186715\n",
       "                   Graduate    0.465301\n",
       "2                  Dropout     0.274223\n",
       "                   Enrolled    0.175503\n",
       "                   Graduate    0.550274\n",
       "3                  Dropout     0.245955\n",
       "                   Enrolled    0.194175\n",
       "                   Graduate    0.559871\n",
       "4                  Dropout     0.232932\n",
       "                   Enrolled    0.124498\n",
       "                   Graduate    0.642570\n",
       "5                  Dropout     0.344156\n",
       "                   Enrolled    0.162338\n",
       "                   Graduate    0.493506\n",
       "6                  Dropout     0.226277\n",
       "                   Enrolled    0.116788\n",
       "                   Graduate    0.656934\n",
       "9                  Enrolled    1.000000\n",
       "Name: target, dtype: float64"
      ]
     },
     "execution_count": 88,
     "metadata": {},
     "output_type": "execute_result"
    }
   ],
   "execution_count": 88
  },
  {
   "metadata": {},
   "cell_type": "markdown",
   "source": "### Course",
   "id": "3071fea30aa4fadf"
  },
  {
   "metadata": {
    "ExecuteTime": {
     "end_time": "2024-09-05T16:34:15.412927Z",
     "start_time": "2024-09-05T16:34:15.405502Z"
    }
   },
   "cell_type": "code",
   "source": [
    "grouped_course = df.course.value_counts().sort_index()\n",
    "grouped_course"
   ],
   "id": "e48279489f32b22c",
   "outputs": [
    {
     "data": {
      "text/plain": [
       "course\n",
       "33       12\n",
       "171     215\n",
       "8014    215\n",
       "9003    210\n",
       "9070    226\n",
       "9085    337\n",
       "9119    170\n",
       "9130    141\n",
       "9147    380\n",
       "9238    355\n",
       "9254    252\n",
       "9500    766\n",
       "9556     86\n",
       "9670    268\n",
       "9773    331\n",
       "9853    192\n",
       "9991    268\n",
       "Name: count, dtype: int64"
      ]
     },
     "execution_count": 89,
     "metadata": {},
     "output_type": "execute_result"
    }
   ],
   "execution_count": 89
  },
  {
   "metadata": {},
   "cell_type": "markdown",
   "source": [
    "- 33 - Biofuel Production Technologies \n",
    "- 171 - Animation and Multimedia Design \n",
    "- 8014 - Social Service (evening attendance) \n",
    "- 9003 - Agronomy \n",
    "- 9070 - Communication Design \n",
    "- 9085 - Veterinary Nursing \n",
    "- 9119 - Informatics Engineering \n",
    "- 9130 - Equinculture \n",
    "- 9147 - Management \n",
    "- 9238 - Social Service \n",
    "- 9254 - Tourism \n",
    "- 9500 - Nursing \n",
    "- 9556 - Oral Hygiene \n",
    "- 9670 - Advertising and Marketing Management \n",
    "- 9773 - Journalism and Communication \n",
    "- 9853 - Basic Education \n",
    "- 9991 - Management (evening attendance)"
   ],
   "id": "56c2f2abc5e40315"
  },
  {
   "metadata": {},
   "cell_type": "markdown",
   "source": "This data for the course column appears to course numbers so we will need to convert these to strings. We will also one hot encode this column. This is important because the model will see the numbers as ordinal and not nominal.",
   "id": "e5f5c057dc929536"
  },
  {
   "metadata": {
    "ExecuteTime": {
     "end_time": "2024-09-05T16:34:15.560701Z",
     "start_time": "2024-09-05T16:34:15.538056Z"
    }
   },
   "cell_type": "code",
   "source": [
    "df.course = df.course.map({\n",
    "    33: \"Biofuel_Production_Technologies\", 171: \"Animation_and_Multimedia_Design\",\n",
    "    8014: \"Social_Service_evening_attendance\", 9003: \"Agronomy\",\n",
    "    9070: \"Communication_Design\", 9085: \"Veterinary_Nursing\",\n",
    "    9119: \"Informatics_Engineering\", 9130: \"Equinculture\",\n",
    "    9147: \"Management\", 9238: \"Social_Service\",\n",
    "    9254: \"Tourism\", 9500: \"Nursing\",\n",
    "    9556: \"Oral_Hygiene\", 9670: \"Advertising_and_Marketing_Management\",\n",
    "    9773: \"Journalism_and_Communication\", 9853: \"Basic_Education\",\n",
    "    9991: \"Management_evening_attendance\"\n",
    "})\n",
    "grouped_courses_clean = df.course.value_counts()\n",
    "grouped_courses_clean"
   ],
   "id": "f0378d1ab2bc1703",
   "outputs": [
    {
     "data": {
      "text/plain": [
       "course\n",
       "Nursing                                 766\n",
       "Management                              380\n",
       "Social_Service                          355\n",
       "Veterinary_Nursing                      337\n",
       "Journalism_and_Communication            331\n",
       "Advertising_and_Marketing_Management    268\n",
       "Management_evening_attendance           268\n",
       "Tourism                                 252\n",
       "Communication_Design                    226\n",
       "Animation_and_Multimedia_Design         215\n",
       "Social_Service_evening_attendance       215\n",
       "Agronomy                                210\n",
       "Basic_Education                         192\n",
       "Informatics_Engineering                 170\n",
       "Equinculture                            141\n",
       "Oral_Hygiene                             86\n",
       "Biofuel_Production_Technologies          12\n",
       "Name: count, dtype: int64"
      ]
     },
     "execution_count": 90,
     "metadata": {},
     "output_type": "execute_result"
    }
   ],
   "execution_count": 90
  },
  {
   "metadata": {},
   "cell_type": "markdown",
   "source": "### Daytime/Evening Attendance",
   "id": "ac3e4e352b524d29"
  },
  {
   "metadata": {
    "ExecuteTime": {
     "end_time": "2024-09-05T16:34:15.802927Z",
     "start_time": "2024-09-05T16:34:15.786463Z"
    }
   },
   "cell_type": "code",
   "source": "df[\"daytime/evening_attendance\"].value_counts().sort_index()",
   "id": "dea47dc18716f7a9",
   "outputs": [
    {
     "data": {
      "text/plain": [
       "daytime/evening_attendance\n",
       "0     483\n",
       "1    3941\n",
       "Name: count, dtype: int64"
      ]
     },
     "execution_count": 91,
     "metadata": {},
     "output_type": "execute_result"
    }
   ],
   "execution_count": 91
  },
  {
   "metadata": {},
   "cell_type": "markdown",
   "source": "This column appears to be binary, 1 for daytime and 0 for evening. We will turn into strings to keep clarity for later transformation steps.",
   "id": "4e7a9b9063727ec1"
  },
  {
   "metadata": {
    "ExecuteTime": {
     "end_time": "2024-09-05T16:34:15.955280Z",
     "start_time": "2024-09-05T16:34:15.947063Z"
    }
   },
   "cell_type": "code",
   "source": [
    "df[\"daytime/evening_attendance\"] = df[\"daytime/evening_attendance\"].map({1: \"daytime\", 0: \"evening\"})\n",
    "grouped_attendance = df[\"daytime/evening_attendance\"].value_counts()\n",
    "grouped_attendance"
   ],
   "id": "c46c7c2afc267254",
   "outputs": [
    {
     "data": {
      "text/plain": [
       "daytime/evening_attendance\n",
       "daytime    3941\n",
       "evening     483\n",
       "Name: count, dtype: int64"
      ]
     },
     "execution_count": 92,
     "metadata": {},
     "output_type": "execute_result"
    }
   ],
   "execution_count": 92
  },
  {
   "metadata": {},
   "cell_type": "markdown",
   "source": "### Previous Qualifications",
   "id": "b8413320ce63362b"
  },
  {
   "metadata": {
    "ExecuteTime": {
     "end_time": "2024-09-05T16:34:16.110194Z",
     "start_time": "2024-09-05T16:34:16.104630Z"
    }
   },
   "cell_type": "code",
   "source": "df.previous_qualification.value_counts().sort_index()",
   "id": "7d8c4117fccddf9a",
   "outputs": [
    {
     "data": {
      "text/plain": [
       "previous_qualification\n",
       "1     3717\n",
       "2       23\n",
       "3      126\n",
       "4        8\n",
       "5        1\n",
       "6       16\n",
       "9       11\n",
       "10       4\n",
       "12      45\n",
       "14       1\n",
       "15       2\n",
       "19     162\n",
       "38       7\n",
       "39     219\n",
       "40      40\n",
       "42      36\n",
       "43       6\n",
       "Name: count, dtype: int64"
      ]
     },
     "execution_count": 93,
     "metadata": {},
     "output_type": "execute_result"
    }
   ],
   "execution_count": 93
  },
  {
   "metadata": {},
   "cell_type": "markdown",
   "source": [
    "- 1 - Secondary education \n",
    "- 2 - Higher education - bachelor's degree \n",
    "- 3 - Higher education - degree \n",
    "- 4 - Higher education - master's \n",
    "- 5 - Higher education - doctorate \n",
    "- 6 - Frequency of higher education \n",
    "- 9 - 12th year of schooling - not completed \n",
    "- 10 - 11th year of schooling - not completed \n",
    "- 12 - Other - 11th year of schooling \n",
    "- 14 - 10th year of schooling \n",
    "- 15 - 10th year of schooling - not completed \n",
    "- 19 - Basic education 3rd cycle (9th/10th/11th year) or equiv. \n",
    "- 38 - Basic education 2nd cycle (6th/7th/8th year) or equiv. \n",
    "- 39 - Technological specialization course \n",
    "- 40 - Higher education - degree (1st cycle) \n",
    "- 42 - Professional higher technical course \n",
    "- 43 - Higher education - master (2nd cycle)"
   ],
   "id": "890f85a94ddecdf1"
  },
  {
   "metadata": {},
   "cell_type": "markdown",
   "source": "This column provides information about how much school someone has completed I am still unsure if this can be made ordinal or nominal. We will treat it as nominal for now.",
   "id": "7dfca4420bdf9ef7"
  },
  {
   "metadata": {
    "ExecuteTime": {
     "end_time": "2024-09-05T16:34:16.270909Z",
     "start_time": "2024-09-05T16:34:16.259767Z"
    }
   },
   "cell_type": "code",
   "source": [
    "df.previous_qualification = df.previous_qualification.map({\n",
    "    1: \"Secondary_education\", 2: \"Higher_education_bachelors_degree\",\n",
    "    3: \"Higher_education_degree\", 4: \"Higher_education_masters\",\n",
    "    5: \"Higher_education_doctorate\", 6: \"Frequency_of_higher_education\",\n",
    "    9: \"12th_year_of_schooling_not_completed\", 10: \"11th_year_of_schooling_not_completed\",\n",
    "    12: \"Other_11th_year_of_schooling\", 14: \"10th_year_of_schooling\",\n",
    "    15: \"10th_year_of_schooling_not_completed\",\n",
    "    19: \"Basic_education_3rd_cycle_9th/10th/11th_year_or_equiv\",\n",
    "    38: \"Basic_education_2nd_cycle_6th/7th/8th_year_or_equiv\",\n",
    "    39: \"Technological_specialization_course\",\n",
    "    40: \"Higher_education_degree_1st_cycle\",\n",
    "    42: \"Professional_higher_technical_course\",\n",
    "    43: \"Higher_education_master_2nd_cycle\"\n",
    "})\n",
    "grouped_previous_qualifications = df.previous_qualification.value_counts()\n",
    "grouped_previous_qualifications"
   ],
   "id": "606758028ae724b1",
   "outputs": [
    {
     "data": {
      "text/plain": [
       "previous_qualification\n",
       "Secondary_education                                      3717\n",
       "Technological_specialization_course                       219\n",
       "Basic_education_3rd_cycle_9th/10th/11th_year_or_equiv     162\n",
       "Higher_education_degree                                   126\n",
       "Other_11th_year_of_schooling                               45\n",
       "Higher_education_degree_1st_cycle                          40\n",
       "Professional_higher_technical_course                       36\n",
       "Higher_education_bachelors_degree                          23\n",
       "Frequency_of_higher_education                              16\n",
       "12th_year_of_schooling_not_completed                       11\n",
       "Higher_education_masters                                    8\n",
       "Basic_education_2nd_cycle_6th/7th/8th_year_or_equiv         7\n",
       "Higher_education_master_2nd_cycle                           6\n",
       "11th_year_of_schooling_not_completed                        4\n",
       "10th_year_of_schooling_not_completed                        2\n",
       "Higher_education_doctorate                                  1\n",
       "10th_year_of_schooling                                      1\n",
       "Name: count, dtype: int64"
      ]
     },
     "execution_count": 94,
     "metadata": {},
     "output_type": "execute_result"
    }
   ],
   "execution_count": 94
  },
  {
   "metadata": {},
   "cell_type": "markdown",
   "source": [
    "### Previous Qualification Grade\n",
    "\n",
    "Grade of previous qualification (between 0 and 200)"
   ],
   "id": "163ede1499e707bf"
  },
  {
   "metadata": {
    "ExecuteTime": {
     "end_time": "2024-09-05T16:34:16.403330Z",
     "start_time": "2024-09-05T16:34:16.395452Z"
    }
   },
   "cell_type": "code",
   "source": "df[\"previous_qualification_(grade)\"].describe()",
   "id": "4d5ffe9c1015e0f9",
   "outputs": [
    {
     "data": {
      "text/plain": [
       "count    4424.000000\n",
       "mean      132.613314\n",
       "std        13.188332\n",
       "min        95.000000\n",
       "25%       125.000000\n",
       "50%       133.100000\n",
       "75%       140.000000\n",
       "max       190.000000\n",
       "Name: previous_qualification_(grade), dtype: float64"
      ]
     },
     "execution_count": 95,
     "metadata": {},
     "output_type": "execute_result"
    }
   ],
   "execution_count": 95
  },
  {
   "metadata": {
    "ExecuteTime": {
     "end_time": "2024-09-05T16:34:16.615639Z",
     "start_time": "2024-09-05T16:34:16.517891Z"
    }
   },
   "cell_type": "code",
   "source": "df[\"previous_qualification_(grade)\"].plot(kind=\"hist\", bins=20);",
   "id": "772469e055fe16ff",
   "outputs": [
    {
     "data": {
      "text/plain": [
       "<Figure size 640x480 with 1 Axes>"
      ],
      "image/png": "[encoded data removed]"
     },
     "metadata": {},
     "output_type": "display_data"
    }
   ],
   "execution_count": 96
  },
  {
   "metadata": {},
   "cell_type": "markdown",
   "source": "This data look to be normally distributed with a mean of 132 and standard deviation of 13. For the model we can consider transforming this column to a z-score.",
   "id": "12a7c4ffb9d26610"
  },
  {
   "metadata": {},
   "cell_type": "markdown",
   "source": [
    "### Nationality\n",
    "\n",
    "This column needs to be renamed from Nacionality to Nationality"
   ],
   "id": "3fe46ecbe8f03264"
  },
  {
   "metadata": {
    "ExecuteTime": {
     "end_time": "2024-09-05T16:34:16.675293Z",
     "start_time": "2024-09-05T16:34:16.656407Z"
    }
   },
   "cell_type": "code",
   "source": "df.nacionality.value_counts().sort_index()",
   "id": "2ee66107a0251e4c",
   "outputs": [
    {
     "data": {
      "text/plain": [
       "nacionality\n",
       "1      4314\n",
       "2         2\n",
       "6        13\n",
       "11        3\n",
       "13        1\n",
       "14        1\n",
       "17        1\n",
       "21        2\n",
       "22       13\n",
       "24        5\n",
       "25        2\n",
       "26       14\n",
       "32        1\n",
       "41       38\n",
       "62        2\n",
       "100       3\n",
       "101       2\n",
       "103       3\n",
       "105       2\n",
       "108       1\n",
       "109       1\n",
       "Name: count, dtype: int64"
      ]
     },
     "execution_count": 97,
     "metadata": {},
     "output_type": "execute_result"
    }
   ],
   "execution_count": 97
  },
  {
   "metadata": {},
   "cell_type": "markdown",
   "source": [
    "- This is a nominal column of where someone is from, we will convert this back to strings then later one hot encode it.\n",
    "\n",
    "- 1 - Portuguese; \n",
    "- 2 - German; \n",
    "- 6 - Spanish; \n",
    "- 11 - Italian; \n",
    "- 13 - Dutch; \n",
    "- 14 - English; \n",
    "- 17 - Lithuanian; \n",
    "- 21 - Angolan; \n",
    "- 22 - Cape Verdean; \n",
    "- 24 - Guinean; \n",
    "- 25 - Mozambican; \n",
    "- 26 - Santomean; \n",
    "- 32 - Turkish; \n",
    "- 41 - Brazilian; \n",
    "- 62 - Romanian; \n",
    "- 100 - Moldova (Republic of); \n",
    "- 101 - Mexican; \n",
    "- 103 - Ukrainian; \n",
    "- 105 - Russian; \n",
    "- 108 - Cuban; \n",
    "- 109 - Colombian"
   ],
   "id": "8456a51569b42358"
  },
  {
   "metadata": {
    "ExecuteTime": {
     "end_time": "2024-09-05T16:34:16.743194Z",
     "start_time": "2024-09-05T16:34:16.736094Z"
    }
   },
   "cell_type": "code",
   "source": "df = df.rename(columns={\"nacionality\": \"nationality\"})",
   "id": "ba7d26c52c89a5c7",
   "outputs": [],
   "execution_count": 98
  },
  {
   "metadata": {
    "ExecuteTime": {
     "end_time": "2024-09-05T16:34:16.885231Z",
     "start_time": "2024-09-05T16:34:16.874629Z"
    }
   },
   "cell_type": "code",
   "source": [
    "df.nationality = df.nationality.map({\n",
    "    1: \"Portuguese\", 2: \"German\", 6: \"Spanish\", 11: \"Italian\",\n",
    "    13: \"Dutch\", 14: \"English\", 17: \"Lithuanian\", 21: \"Angolan\",\n",
    "    22: \"Cape_Verdean\", 24: \"Guinean\", 25: \"Mozambican\",\n",
    "    26: \"Santomean\", 32: \"Turkish\", 41: \"Brazilian\",\n",
    "    62: \"Romanian\", 100: \"Moldova_Republic_of\",\n",
    "    101: \"Mexican\", 103: \"Ukrainian\", 105: \"Russian\",\n",
    "    108: \"Cuban\", 109: \"Colombian\"\n",
    "})\n",
    "grouped_nationality = df.nationality.value_counts()\n",
    "grouped_nationality"
   ],
   "id": "8a13cc38936c9935",
   "outputs": [
    {
     "data": {
      "text/plain": [
       "nationality\n",
       "Portuguese             4314\n",
       "Brazilian                38\n",
       "Santomean                14\n",
       "Cape_Verdean             13\n",
       "Spanish                  13\n",
       "Guinean                   5\n",
       "Moldova_Republic_of       3\n",
       "Italian                   3\n",
       "Ukrainian                 3\n",
       "Angolan                   2\n",
       "Mexican                   2\n",
       "Romanian                  2\n",
       "Mozambican                2\n",
       "German                    2\n",
       "Russian                   2\n",
       "Turkish                   1\n",
       "Dutch                     1\n",
       "Colombian                 1\n",
       "Cuban                     1\n",
       "English                   1\n",
       "Lithuanian                1\n",
       "Name: count, dtype: int64"
      ]
     },
     "execution_count": 99,
     "metadata": {},
     "output_type": "execute_result"
    }
   ],
   "execution_count": 99
  },
  {
   "metadata": {},
   "cell_type": "markdown",
   "source": "### Mother's Qualification",
   "id": "bde6e3ecf0f7818c"
  },
  {
   "metadata": {},
   "cell_type": "markdown",
   "source": [
    "- 1 - Secondary Education - 12th Year of Schooling or Eq. \n",
    "- 2 - Higher Education - Bachelor's Degree \n",
    "- 3 - Higher Education - Degree \n",
    "- 4 - Higher Education - Master's \n",
    "- 5 - Higher Education - Doctorate \n",
    "- 6 - Frequency of Higher Education \n",
    "- 9 - 12th Year of Schooling - Not Completed \n",
    "- 10 - 11th Year of Schooling - Not Completed \n",
    "- 11 - 7th Year (Old) \n",
    "- 12 - Other - 11th Year of Schooling \n",
    "- 14 - 10th Year of Schooling \n",
    "- 18 - General commerce course \n",
    "- 19 - Basic Education 3rd Cycle (9th/10th/11th Year) or Equiv. \n",
    "- 22 - Technical-professional course \n",
    "- 26 - 7th year of schooling \n",
    "- 27 - 2nd cycle of the general high school course \n",
    "- 29 - 9th Year of Schooling - Not Completed \n",
    "- 30 - 8th year of schooling \n",
    "- 34 - Unknown \n",
    "- 35 - Can't read or write \n",
    "- 36 - Can read without having a 4th year of schooling \n",
    "- 37 - Basic education 1st cycle (4th/5th year) or equiv. \n",
    "- 38 - Basic Education 2nd Cycle (6th/7th/8th Year) or Equiv. \n",
    "- 39 - Technological specialization course \n",
    "- 40 - Higher education - degree (1st cycle) \n",
    "- 41 - Specialized higher studies course \n",
    "- 42 - Professional higher technical course \n",
    "- 43 - Higher Education - Master (2nd cycle) \n",
    "- 44 - Higher Education - Doctorate (3rd cycle)"
   ],
   "id": "810827cb29153a97"
  },
  {
   "metadata": {
    "ExecuteTime": {
     "end_time": "2024-09-05T16:45:29.742951Z",
     "start_time": "2024-09-05T16:45:29.722586Z"
    }
   },
   "cell_type": "code",
   "source": "df[\"mother's_qualification\"].value_counts().sort_index()",
   "id": "2b788a3b70f35b43",
   "outputs": [
    {
     "data": {
      "text/plain": [
       "mother's_qualification\n",
       "1     1069\n",
       "2       83\n",
       "3      438\n",
       "4       49\n",
       "5       21\n",
       "6        4\n",
       "9        8\n",
       "10       3\n",
       "11       3\n",
       "12      42\n",
       "14       2\n",
       "18       1\n",
       "19     953\n",
       "22       1\n",
       "26       1\n",
       "27       1\n",
       "29       3\n",
       "30       3\n",
       "34     130\n",
       "35       3\n",
       "36       3\n",
       "37    1009\n",
       "38     562\n",
       "39       8\n",
       "40       9\n",
       "41       6\n",
       "42       4\n",
       "43       4\n",
       "44       1\n",
       "Name: count, dtype: int64"
      ]
     },
     "execution_count": 101,
     "metadata": {},
     "output_type": "execute_result"
    }
   ],
   "execution_count": 101
  },
  {
   "metadata": {
    "ExecuteTime": {
     "end_time": "2024-09-05T16:46:19.825915Z",
     "start_time": "2024-09-05T16:46:19.817470Z"
    }
   },
   "cell_type": "code",
   "source": [
    "df[\"mother\\'s_qualification\"] = df[\"mother\\'s_qualification\"].map({\n",
    "    1: \"Secondary_Education_12th_Year_of_Schooling_or_Eq\",\n",
    "    2: \"Higher_Education_Bachelors_Degree\",\n",
    "    3: \"Higher_Education_Degree\",\n",
    "    4: \"Higher_Education_Masters\",\n",
    "    5: \"Higher_Education_Doctorate\",\n",
    "    6: \"Frequency_of_Higher_Education\",\n",
    "    9: \"12th_Year_of_Schooling_Not_Completed\",\n",
    "    10: \"11th_Year_of_Schooling_Not_Completed\",\n",
    "    11: \"7th_Year_Old\",\n",
    "    12: \"Other_11th_Year_of_Schooling\",\n",
    "    14: \"10th_Year_of_Schooling\",\n",
    "    18: \"General_commerce_course\",\n",
    "    19: \"Basic_Education_3rd_Cycle_9th/10th/11th_Year_or_Equiv\",\n",
    "    22: \"Technical-professional_course\",\n",
    "    26: \"7th_year_of_schooling\",\n",
    "    27: \"2nd_cycle_of_the_general_high_school_course\",\n",
    "    29: \"9th_Year_of_Schooling_Not_Completed\",\n",
    "    30: \"8th_year_of_schooling\",\n",
    "    34: \"Unknown\",\n",
    "    35: \"Can't_read_or_write\",\n",
    "    36: \"Can_read_without_having_a_4th_year_of_schooling\",\n",
    "    37: \"Basic_education_1st_cycle_4th/5th_year_or_equiv\",\n",
    "    38: \"Basic_Education_2nd_Cycle_6th/7th/8th_Year_or_Equiv\",\n",
    "    39: \"Technological_specialization_course\",\n",
    "    40: \"Higher_education_degree_1st_cycle\",\n",
    "    41: \"Specialized_higher_studies_course\",\n",
    "    42: \"Professional_higher_technical_course\",\n",
    "    43: \"Higher_Education_Master_2nd_cycle\",\n",
    "    44: \"Higher_Education_Doctorate_3rd_cycle\"\n",
    "})"
   ],
   "id": "791dffb7a769d175",
   "outputs": [],
   "execution_count": 102
  },
  {
   "metadata": {
    "ExecuteTime": {
     "end_time": "2024-09-05T16:46:25.613791Z",
     "start_time": "2024-09-05T16:46:25.604158Z"
    }
   },
   "cell_type": "code",
   "source": [
    "grouped_mothers_qualification = df[\"mother's_qualification\"].value_counts()\n",
    "grouped_mothers_qualification"
   ],
   "id": "26e4ac50626d4dcb",
   "outputs": [
    {
     "data": {
      "text/plain": [
       "mother's_qualification\n",
       "Secondary_Education_12th_Year_of_Schooling_or_Eq         1069\n",
       "Basic_education_1st_cycle_4th/5th_year_or_equiv          1009\n",
       "Basic_Education_3rd_Cycle_9th/10th/11th_Year_or_Equiv     953\n",
       "Basic_Education_2nd_Cycle_6th/7th/8th_Year_or_Equiv       562\n",
       "Higher_Education_Degree                                   438\n",
       "Unknown                                                   130\n",
       "Higher_Education_Bachelors_Degree                          83\n",
       "Higher_Education_Masters                                   49\n",
       "Other_11th_Year_of_Schooling                               42\n",
       "Higher_Education_Doctorate                                 21\n",
       "Higher_education_degree_1st_cycle                           9\n",
       "12th_Year_of_Schooling_Not_Completed                        8\n",
       "Technological_specialization_course                         8\n",
       "Specialized_higher_studies_course                           6\n",
       "Frequency_of_Higher_Education                               4\n",
       "Professional_higher_technical_course                        4\n",
       "Higher_Education_Master_2nd_cycle                           4\n",
       "9th_Year_of_Schooling_Not_Completed                         3\n",
       "11th_Year_of_Schooling_Not_Completed                        3\n",
       "7th_Year_Old                                                3\n",
       "Can_read_without_having_a_4th_year_of_schooling             3\n",
       "Can't_read_or_write                                         3\n",
       "8th_year_of_schooling                                       3\n",
       "10th_Year_of_Schooling                                      2\n",
       "General_commerce_course                                     1\n",
       "Technical-professional_course                               1\n",
       "2nd_cycle_of_the_general_high_school_course                 1\n",
       "7th_year_of_schooling                                       1\n",
       "Higher_Education_Doctorate_3rd_cycle                        1\n",
       "Name: count, dtype: int64"
      ]
     },
     "execution_count": 103,
     "metadata": {},
     "output_type": "execute_result"
    }
   ],
   "execution_count": 103
  },
  {
   "metadata": {
    "ExecuteTime": {
     "end_time": "2024-09-05T16:46:41.601266Z",
     "start_time": "2024-09-05T16:46:41.594722Z"
    }
   },
   "cell_type": "code",
   "source": "df.isna().sum()",
   "id": "bc1c58649a5c44d2",
   "outputs": [
    {
     "data": {
      "text/plain": [
       "marital_status                                    0\n",
       "application_mode                                  0\n",
       "application_order                                 0\n",
       "course                                            0\n",
       "daytime/evening_attendance                        0\n",
       "previous_qualification                            0\n",
       "previous_qualification_(grade)                    0\n",
       "nationality                                       0\n",
       "mother's_qualification                            0\n",
       "father's_qualification                            0\n",
       "mother's_occupation                               0\n",
       "father's_occupation                               0\n",
       "admission_grade                                   0\n",
       "displaced                                         0\n",
       "educational_special_needs                         0\n",
       "debtor                                            0\n",
       "tuition_fees_up_to_date                           0\n",
       "gender                                            0\n",
       "scholarship_holder                                0\n",
       "age_at_enrollment                                 0\n",
       "international                                     0\n",
       "curricular_units_1st_sem_(credited)               0\n",
       "curricular_units_1st_sem_(enrolled)               0\n",
       "curricular_units_1st_sem_(evaluations)            0\n",
       "curricular_units_1st_sem_(approved)               0\n",
       "curricular_units_1st_sem_(grade)                  0\n",
       "curricular_units_1st_sem_(without_evaluations)    0\n",
       "curricular_units_2nd_sem_(credited)               0\n",
       "curricular_units_2nd_sem_(enrolled)               0\n",
       "curricular_units_2nd_sem_(evaluations)            0\n",
       "curricular_units_2nd_sem_(approved)               0\n",
       "curricular_units_2nd_sem_(grade)                  0\n",
       "curricular_units_2nd_sem_(without_evaluations)    0\n",
       "unemployment_rate                                 0\n",
       "inflation_rate                                    0\n",
       "gdp                                               0\n",
       "target                                            0\n",
       "dtype: int64"
      ]
     },
     "execution_count": 104,
     "metadata": {},
     "output_type": "execute_result"
    }
   ],
   "execution_count": 104
  },
  {
   "metadata": {},
   "cell_type": "code",
   "outputs": [],
   "execution_count": null,
   "source": "",
   "id": "bc60d0cb289725e8"
  }
 ],
 "metadata": {
  "kernelspec": {
   "display_name": "Python 3",
   "language": "python",
   "name": "python3"
  },
  "language_info": {
   "codemirror_mode": {
    "name": "ipython",
    "version": 3
   },
   "file_extension": ".py",
   "mimetype": "text/x-python",
   "name": "python",
   "nbconvert_exporter": "python",
   "pygments_lexer": "ipython3",
   "version": "3.8.5"
  }
 },
 "nbformat": 4,
 "nbformat_minor": 5
}
